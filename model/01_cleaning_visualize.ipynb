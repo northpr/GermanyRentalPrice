{
 "cells": [
  {
   "cell_type": "markdown",
   "id": "f5cd226a",
   "metadata": {
    "id": "f5cd226a"
   },
   "source": [
    "# Germany Rental Prediction - Cleaning, EDA and Prediction"
   ]
  },
  {
   "cell_type": "markdown",
   "id": "zi_gZ52nQYie",
   "metadata": {
    "id": "zi_gZ52nQYie"
   },
   "source": [
    "## Contents:\n",
    "- Part 1: Cleaning and Visualization\n",
    "[![Open In Colab](https://colab.research.google.com/assets/colab-badge.svg)](https://colab.research.google.com/drive/1biEgivJEOUVS8KbeTXyb1lNgsVtbitYj)\n",
    "\n",
    "- Part 2: Using PyCaret for Model Hyperparameters Tuning\n",
    "  [![Open In Colab](https://colab.research.google.com/assets/colab-badge.svg)](https://colab.research.google.com/drive/1lXJhdH3rGnKQ_LjBGMh8ZK-Lf2VcfLW5)\n",
    "- Part 3: Create Model\n",
    "  [![Open In Colab](https://colab.research.google.com/assets/colab-badge.svg)](https://colab.research.google.com/drive/14XIC90Lss_izdw-PE1cgIe4eECsXrHbY)\n"
   ]
  },
  {
   "cell_type": "markdown",
   "id": "c379ea48",
   "metadata": {
    "id": "c379ea48"
   },
   "source": [
    "## Purpose from this kernel.\n",
    "* For coding part skip to part 2 below"
   ]
  },
  {
   "cell_type": "markdown",
   "id": "7ab68cf1",
   "metadata": {
    "id": "7ab68cf1"
   },
   "source": [
    "I've travel from SEA and I don't know how much apartment in the Berlin should cost and it's really tough to find an apartment while I'm staying in Germany for my Master Degree. Furthermore, I need something for my Data Science Portfolio for the job application after graduation. So why not build something from the scratch with the dataset from Kaggle ([Immobilien](https://www.immobilienscout24.de/))\n",
    "\n",
    "So this kernel will be well written than my previous kernel for other people and using what I've learnt in my master course and other online resources to produce something that will be practical for the real environment."
   ]
  },
  {
   "cell_type": "markdown",
   "id": "e9850915",
   "metadata": {
    "id": "e9850915"
   },
   "source": [
    "## What we expected from this notebook.\n",
    "- Data cleaning to clear the outliers and remove columns that doesn't have high correlation to the prediction\n",
    "- Create virtualization to have a better understanding of the data of the rental in Germany.\n",
    "- Feature engineering from the original variable to create a better model\n",
    "- Create a tool that estimate the house cost predicted by many variables"
   ]
  },
  {
   "cell_type": "markdown",
   "id": "d8ef7d59",
   "metadata": {
    "id": "d8ef7d59"
   },
   "source": [
    "## Where is the data from?\n",
    "\n",
    "\n",
    "The data was scraped from Immoscout24, the biggest real estate platform in Germany. Immoscout24 has listings for both rental properties and homes for sale, however, the data only contains offers for rental properties. <br>\n",
    "At a given time, all available offers were scraped from the site and saved. This process was repeated three times, so the data set contains offers from the dates 2018-09-22, 2019-05-10 and 2019-10-08."
   ]
  },
  {
   "cell_type": "markdown",
   "id": "b976d3dc",
   "metadata": {
    "id": "b976d3dc"
   },
   "source": [
    "### Dataset Description\n",
    "The data was scraped from Immoscout24, the biggest real estate platform in Germany. Immoscout24 has listings for both rental properties and homes for sale, however, the data only contains offers for rental properties.\n",
    "\n",
    "### Content\n",
    "\n",
    "The data set contains most of the important properties, such as living area size, the rent, both base rent as well as total rent (if applicable), the location (street and house number, if available, ZIP code and state), type of energy etc. It also has two variables containing longer free text descriptions: description with a text describing the offer and facilities describing all available facilities, newest renovation etc."
   ]
  },
  {
   "cell_type": "markdown",
   "id": "e5a919ee",
   "metadata": {
    "id": "e5a919ee"
   },
   "source": [
    "## Acknowledgements\n",
    "The data belongs to www.immobilienscount24.de and is for research purposes only. The data was created with ."
   ]
  },
  {
   "cell_type": "markdown",
   "id": "d7c5e3b8",
   "metadata": {
    "id": "d7c5e3b8"
   },
   "source": [
    "# Basic data handling and inspection"
   ]
  },
  {
   "cell_type": "markdown",
   "id": "0f46b41d",
   "metadata": {
    "id": "0f46b41d"
   },
   "source": [
    "Import all important libraries in this kernel"
   ]
  },
  {
   "cell_type": "code",
   "execution_count": null,
   "id": "b06aa3be",
   "metadata": {
    "id": "b06aa3be"
   },
   "outputs": [],
   "source": [
    "import numpy as np\n",
    "import pandas as pd\n",
    "import plotly.graph_objects as go\n",
    "import time\n",
    "import datetime\n",
    "from datetime import date\n",
    "from plotly.offline import init_notebook_mode, iplot\n",
    "import plotly.express as px\n",
    "import matplotlib.pyplot as plt\n",
    "import matplotlib.gridspec as gridspec\n",
    "import seaborn as sns\n",
    "from scipy.stats import norm\n",
    "from sklearn.preprocessing import LabelEncoder\n",
    "from sklearn.model_selection import train_test_split\n",
    "from sklearn.metrics import mean_squared_error\n",
    "import warnings\n",
    "import lightgbm as lgb\n",
    "\n",
    "warnings.filterwarnings('ignore')\n",
    "pd.set_option('display.max_columns', None)\n",
    "\n",
    "# import plotly.io as pio\n",
    "# pio.renderers.default = \"iframe\"\n",
    "\n",
    "# To make it run on Colab\n",
    "# import plotly.io as pio\n",
    "# pio.renderers.default = \"colab\""
   ]
  },
  {
   "cell_type": "markdown",
   "id": "b1eaa2fa",
   "metadata": {
    "id": "b1eaa2fa"
   },
   "source": [
    "Load the dataset to the kernel"
   ]
  },
  {
   "cell_type": "code",
   "execution_count": null,
   "id": "VUNGLdzQHuzx",
   "metadata": {
    "id": "VUNGLdzQHuzx"
   },
   "outputs": [],
   "source": [
    "# Data is load to a zip file so we need to unzip it by using this function\n",
    "import zipfile\n",
    "\n",
    "def unzip_data(filename):\n",
    "  zip_ref = zipfile.ZipFile(filename, \"r\")\n",
    "  zip_ref.extractall()\n",
    "  zip_ref.close()"
   ]
  },
  {
   "cell_type": "code",
   "execution_count": null,
   "id": "7e4ba0ea",
   "metadata": {
    "id": "7e4ba0ea"
   },
   "outputs": [],
   "source": [
    "# Download csv file from my google drive\n",
    "!gdown --id 1fpkyO-9WbkVdxjZ6dhidl6FNzGJ5u4AD\n",
    "\n",
    "# Unzip the file\n",
    "unzip_data(\"immo_data.csv.zip\")\n"
   ]
  },
  {
   "cell_type": "code",
   "execution_count": null,
   "id": "_8Gsq-6TIFHX",
   "metadata": {
    "id": "_8Gsq-6TIFHX"
   },
   "outputs": [],
   "source": [
    "df = pd.read_csv('data/immo_data.csv')"
   ]
  },
  {
   "cell_type": "markdown",
   "id": "330a314d",
   "metadata": {
    "id": "330a314d"
   },
   "source": [
    "## EDA to better know the data"
   ]
  },
  {
   "cell_type": "code",
   "execution_count": null,
   "id": "1ea23a69",
   "metadata": {
    "id": "1ea23a69"
   },
   "outputs": [],
   "source": [
    "df.head(10)"
   ]
  },
  {
   "cell_type": "code",
   "execution_count": null,
   "id": "50a419ff",
   "metadata": {
    "id": "50a419ff"
   },
   "outputs": [],
   "source": [
    "df.info()"
   ]
  },
  {
   "cell_type": "code",
   "execution_count": null,
   "id": "03bbb350",
   "metadata": {
    "id": "03bbb350"
   },
   "outputs": [],
   "source": [
    "df.describe()"
   ]
  },
  {
   "cell_type": "code",
   "execution_count": null,
   "id": "7b5e64e6",
   "metadata": {
    "id": "7b5e64e6"
   },
   "outputs": [],
   "source": [
    "print(f'Number of dataset variables is:',df.shape[1],'\\nNumber of datasets of rows is:',df.shape[0])"
   ]
  },
  {
   "cell_type": "markdown",
   "id": "283eb745",
   "metadata": {
    "id": "283eb745"
   },
   "source": [
    "# Cleaning the Data\n",
    "\n",
    "80% of all the data science job is to cleaning the data. It might a bit confuse but what we're trying in this section is dealing with many things such as\n",
    "- Outliers\n",
    "- Missing Data\n",
    "- Drop columns\n",
    "- Etc.\n",
    "The result of this part is we will have a better dataset to analyze, virtualization and making a prediction."
   ]
  },
  {
   "cell_type": "markdown",
   "id": "d2cce7f5",
   "metadata": {
    "id": "d2cce7f5"
   },
   "source": [
    "## Dealing with the missing values"
   ]
  },
  {
   "cell_type": "markdown",
   "id": "c577c803",
   "metadata": {
    "id": "c577c803"
   },
   "source": [
    "When we're working on any datasets, we need to check on the missing values to make sure the data is ready or not for further analyzation and virutalization."
   ]
  },
  {
   "cell_type": "markdown",
   "id": "8c95dea8",
   "metadata": {
    "id": "8c95dea8"
   },
   "source": [
    "Create the function to show the top 20 missing values by include number of missing values and percentage of it."
   ]
  },
  {
   "cell_type": "code",
   "execution_count": null,
   "id": "459cc15a",
   "metadata": {
    "id": "459cc15a"
   },
   "outputs": [],
   "source": [
    "def missing_values(temp_idf,norows):   # input by the df and the number of rows that you want to show\n",
    "    total = temp_idf.isnull().sum().sort_values(ascending=False)\n",
    "    percent = ((temp_idf.isnull().sum().sort_values(ascending=False)/temp_idf.shape[0])*100).sort_values(ascending=False)\n",
    "    missing_data = pd.concat([total, percent], axis=1, keys=['Total', 'Percent'])\n",
    "    return(missing_data.head(norows))\n"
   ]
  },
  {
   "cell_type": "code",
   "execution_count": null,
   "id": "5a2450c5",
   "metadata": {
    "id": "5a2450c5"
   },
   "outputs": [],
   "source": [
    "missing_values(df,20) # we use the df and the number of rows to show is 20"
   ]
  },
  {
   "cell_type": "markdown",
   "id": "8844e437",
   "metadata": {
    "id": "8844e437"
   },
   "source": [
    "As we can see it contains a lot of missing value in some columns so I decide to remove all of the columns that contain missing value more than 20%"
   ]
  },
  {
   "cell_type": "code",
   "execution_count": null,
   "id": "816ae6ec",
   "metadata": {
    "id": "816ae6ec"
   },
   "outputs": [],
   "source": [
    "missing_data = missing_values(df,20)\n",
    "# drop the data where the columns contains more than 30%\n",
    "df = df.drop((missing_data[missing_data['Percent'] > 30]).index,1)"
   ]
  },
  {
   "cell_type": "markdown",
   "id": "f1376cdd",
   "metadata": {
    "id": "f1376cdd"
   },
   "source": [
    "Because I want to predict rental price ('totalRent') so I should drop all the rows that doesn't consist totalRent"
   ]
  },
  {
   "cell_type": "code",
   "execution_count": null,
   "id": "12d9ca1a",
   "metadata": {
    "id": "12d9ca1a"
   },
   "outputs": [],
   "source": [
    "df.dropna(subset=['totalRent'],inplace=True)\n",
    "print(f\"Data shape after drop rows that doesn't contain 'totalRent' data: {df.shape}\")"
   ]
  },
  {
   "cell_type": "markdown",
   "id": "7ae53415",
   "metadata": {
    "id": "7ae53415"
   },
   "source": [
    "## Remove columns that doesn't contain useful information"
   ]
  },
  {
   "cell_type": "code",
   "execution_count": null,
   "id": "1514869b",
   "metadata": {
    "id": "1514869b"
   },
   "outputs": [],
   "source": [
    "df.head()"
   ]
  },
  {
   "cell_type": "code",
   "execution_count": null,
   "id": "0d27b452",
   "metadata": {
    "id": "0d27b452"
   },
   "outputs": [],
   "source": [
    "df.corr().sort_values('totalRent', ascending=False).totalRent"
   ]
  },
  {
   "cell_type": "markdown",
   "id": "982ccedf",
   "metadata": {
    "id": "982ccedf"
   },
   "source": [
    "### Drop and delete what we woulnd't use further"
   ]
  },
  {
   "cell_type": "code",
   "execution_count": null,
   "id": "e54e200d",
   "metadata": {
    "id": "e54e200d"
   },
   "outputs": [],
   "source": [
    "df.drop(columns=['livingSpaceRange','street','description','facilities','geo_krs','scoutId','regio1','telekomUploadSpeed','telekomTvOffer','pricetrend','regio3','noRoomsRange','picturecount','geo_bln','date',\\\n",
    "    'houseNumber','streetPlain','firingTypes','yearConstructedRange','baseRentRange','lift'],inplace=True)"
   ]
  },
  {
   "cell_type": "markdown",
   "id": "e21d2fc3",
   "metadata": {
    "id": "e21d2fc3"
   },
   "source": [
    "Let's check the missing data in this dataframe again before making any other decision."
   ]
  },
  {
   "cell_type": "code",
   "execution_count": null,
   "id": "a4730ade",
   "metadata": {
    "id": "a4730ade"
   },
   "outputs": [],
   "source": [
    "missing_values(df,10)"
   ]
  },
  {
   "cell_type": "markdown",
   "id": "56e227c1",
   "metadata": {
    "id": "56e227c1"
   },
   "source": [
    "## Handle with specific variables\n",
    "We need to clean each specific variables to make the data more valuable to visualize and predict further"
   ]
  },
  {
   "cell_type": "markdown",
   "id": "c1c3fe56",
   "metadata": {
    "id": "c1c3fe56"
   },
   "source": [
    "### Focus on 'Condition' variable\n",
    "Take a deeper analysis in the condition variable and I fill all of the missing value into 'Other'"
   ]
  },
  {
   "cell_type": "code",
   "execution_count": null,
   "id": "ef41f444",
   "metadata": {
    "id": "ef41f444"
   },
   "outputs": [],
   "source": [
    "df['condition'].fillna(\"Other\", inplace=True) # fill the NA by Other\n",
    "df['condition'].value_counts()"
   ]
  },
  {
   "cell_type": "markdown",
   "id": "60469e65",
   "metadata": {
    "id": "60469e65"
   },
   "source": [
    "The last 3 is not the good condition for the apartnebt fubder so I will group it in 'Other'"
   ]
  },
  {
   "cell_type": "code",
   "execution_count": null,
   "id": "57b96e29",
   "metadata": {
    "id": "57b96e29"
   },
   "outputs": [],
   "source": [
    "others_condition = df['condition'].value_counts().tail(3).index\n",
    "\n",
    "def editcondition(dflist):\n",
    "    if dflist in others_condition:\n",
    "        return 'Other'\n",
    "    else:\n",
    "        return dflist\n",
    "\n",
    "df['condition'] =df['condition'].apply(editcondition)\n",
    "df['condition'].value_counts()"
   ]
  },
  {
   "cell_type": "markdown",
   "id": "6f649e6b",
   "metadata": {
    "id": "6f649e6b"
   },
   "source": [
    "Fill NA of 'yearConstructed' with the mean of each type of condition 'condition' because from my perspective if the apartment is not fully_renovated or refurbished it means that it should have a lot of usage year."
   ]
  },
  {
   "cell_type": "code",
   "execution_count": null,
   "id": "d00e61f6",
   "metadata": {
    "id": "d00e61f6"
   },
   "outputs": [],
   "source": [
    "df[\"yearConstructed\"] = df['yearConstructed'].fillna(df.groupby('condition')['yearConstructed'].transform('mean')).round(0)"
   ]
  },
  {
   "cell_type": "markdown",
   "id": "d92e20e4",
   "metadata": {
    "id": "d92e20e4"
   },
   "source": [
    "Create the new variables to tell the duration since last renovated or built til the today"
   ]
  },
  {
   "cell_type": "code",
   "execution_count": null,
   "id": "db99ef92",
   "metadata": {
    "id": "db99ef92"
   },
   "outputs": [],
   "source": [
    "df['numberOfYear'] = date.today().year - df[\"yearConstructed\"]"
   ]
  },
  {
   "cell_type": "markdown",
   "id": "3dadd6cf",
   "metadata": {
    "id": "3dadd6cf"
   },
   "source": [
    "### Focus on 'Regio2' variable\n",
    "In other region, It might not have sufficient data so I group them together and put it in Other variable."
   ]
  },
  {
   "cell_type": "code",
   "execution_count": null,
   "id": "ffa85dc7",
   "metadata": {
    "id": "ffa85dc7"
   },
   "outputs": [],
   "source": [
    "df['regio2']"
   ]
  },
  {
   "cell_type": "code",
   "execution_count": null,
   "id": "da27e1ff",
   "metadata": {
    "id": "da27e1ff",
    "scrolled": true
   },
   "outputs": [],
   "source": [
    "df['regio2'].value_counts().head(100)"
   ]
  },
  {
   "cell_type": "code",
   "execution_count": null,
   "id": "d8c9f01a",
   "metadata": {
    "id": "d8c9f01a"
   },
   "outputs": [],
   "source": [
    "df['regio2'].replace(\"_Kreis\",\"\",regex=True,inplace=True)"
   ]
  },
  {
   "cell_type": "code",
   "execution_count": null,
   "id": "6a40ce53",
   "metadata": {
    "id": "6a40ce53"
   },
   "outputs": [],
   "source": [
    "others_region = list(df['regio2'].value_counts().iloc[80:,].index)\n",
    "\n",
    "def edit_region(dflist):\n",
    "    if dflist in others_region:\n",
    "        return 'Other'\n",
    "    else:\n",
    "        return dflist\n",
    "\n",
    "df['regio2'] =df['regio2'].apply(edit_region)\n",
    "df['regio2'].value_counts()"
   ]
  },
  {
   "cell_type": "code",
   "execution_count": null,
   "id": "166e3ded",
   "metadata": {
    "id": "166e3ded"
   },
   "outputs": [],
   "source": [
    "df['regio2'].value_counts().sort_values(ascending=False).head(50)"
   ]
  },
  {
   "cell_type": "markdown",
   "id": "1b8cf90b",
   "metadata": {
    "id": "1b8cf90b"
   },
   "source": [
    "## Outliers"
   ]
  },
  {
   "cell_type": "markdown",
   "id": "145321a4",
   "metadata": {
    "id": "145321a4"
   },
   "source": [
    "What we should focus in the first is the data that we want to predict and what relavance most which is 'KaltMiete' and 'WarmMiete'"
   ]
  },
  {
   "cell_type": "code",
   "execution_count": null,
   "id": "345c0b18",
   "metadata": {
    "id": "345c0b18"
   },
   "outputs": [],
   "source": [
    "df['baseRent'].describe().round(2)"
   ]
  },
  {
   "cell_type": "code",
   "execution_count": null,
   "id": "18c6ffd1",
   "metadata": {
    "id": "18c6ffd1"
   },
   "outputs": [],
   "source": [
    "df['totalRent'].describe().round(2)"
   ]
  },
  {
   "cell_type": "code",
   "execution_count": null,
   "id": "5ba059b7",
   "metadata": {
    "id": "5ba059b7"
   },
   "outputs": [],
   "source": [
    "df['typeOfFlat'].value_counts()"
   ]
  },
  {
   "cell_type": "markdown",
   "id": "04b84592",
   "metadata": {
    "id": "04b84592"
   },
   "source": [
    "### Remove Outlier by focus on the 'totalRent' and 'totalArea'"
   ]
  },
  {
   "cell_type": "code",
   "execution_count": null,
   "id": "57b95ffc",
   "metadata": {
    "id": "57b95ffc"
   },
   "outputs": [],
   "source": [
    "print(f\"Shape before performing outlier removing task: {df.shape[0]}\")"
   ]
  },
  {
   "cell_type": "code",
   "execution_count": null,
   "id": "6bfde092",
   "metadata": {
    "id": "6bfde092"
   },
   "outputs": [],
   "source": [
    "df.head()"
   ]
  },
  {
   "cell_type": "code",
   "execution_count": null,
   "id": "2d5b4520",
   "metadata": {
    "id": "2d5b4520"
   },
   "outputs": [],
   "source": [
    "# Finding the 95% of the percentile of the totalRent of penthouse price\n",
    "percentile_95_penthouse = np.percentile(df[['totalRent']][df['typeOfFlat'] == 'penthouse'],95)\n",
    "print(f\"At the percentile 95 of the total rent for penthouse is: {percentile_95_penthouse}\")"
   ]
  },
  {
   "cell_type": "code",
   "execution_count": null,
   "id": "1dbee9ca",
   "metadata": {
    "id": "1dbee9ca"
   },
   "outputs": [],
   "source": [
    "# Finding the 5% of the percentile of the totalRent of normal apartment price\n",
    "percentile_5_apartment = np.percentile(df[['totalRent']][df['typeOfFlat'] == 'apartment'],5)\n",
    "print(f\"At the percentile 5 of the total rent for apartment is: {percentile_5_apartment}\")"
   ]
  },
  {
   "cell_type": "markdown",
   "id": "73e34ada",
   "metadata": {
    "id": "73e34ada"
   },
   "source": [
    "### Finding the diffrence between 'Total Rent' and 'Base Rent' by'Total Rent' - 'Base Rent'"
   ]
  },
  {
   "cell_type": "code",
   "execution_count": null,
   "id": "58fddf82",
   "metadata": {
    "id": "58fddf82"
   },
   "outputs": [],
   "source": [
    "df['rent_difference'] = df['totalRent']-df['baseRent']\n",
    "df[['totalRent','baseRent','rent_difference']].head()"
   ]
  },
  {
   "cell_type": "code",
   "execution_count": null,
   "id": "2339820e",
   "metadata": {
    "id": "2339820e"
   },
   "outputs": [],
   "source": [
    "percentile_95_diff = np.percentile(df['rent_difference'],95)\n",
    "percentile_5_diff = np.percentile(df['rent_difference'],5)\n",
    "\n",
    "print(f\"The difference of percentile_95_diff at the 95 percentile: {percentile_95_diff}\")\n",
    "print(f\"The difference of percentile_5_diff at the 5 percentile: {percentile_5_diff}\")"
   ]
  },
  {
   "cell_type": "markdown",
   "id": "e1c2da95",
   "metadata": {
    "id": "e1c2da95"
   },
   "source": [
    "Filter and plot the graph repeatly to see the best result and try to remove the outliers that doesn't make sense to the df"
   ]
  },
  {
   "cell_type": "code",
   "execution_count": null,
   "id": "131cb872",
   "metadata": {
    "id": "131cb872"
   },
   "outputs": [],
   "source": [
    "df = df[(df['totalRent'] > percentile_5_apartment) & (df['totalRent'] < percentile_95_penthouse)]\n",
    "df = df[(df['totalRent'] > df['baseRent'])]\n",
    "df = df[(df['rent_difference'] < percentile_95_diff) & (df['rent_difference'] > percentile_5_diff)]\n",
    "\n",
    "df.shape"
   ]
  },
  {
   "cell_type": "markdown",
   "id": "673da1f9",
   "metadata": {
    "id": "673da1f9"
   },
   "source": [
    "Drop the 'rent_difference' column because we wouldn't use it anymore."
   ]
  },
  {
   "cell_type": "code",
   "execution_count": null,
   "id": "29c57a01",
   "metadata": {
    "id": "29c57a01"
   },
   "outputs": [],
   "source": [
    "fig = px.scatter(df, x='totalRent', y='baseRent')\n",
    "fig.show()"
   ]
  },
  {
   "cell_type": "code",
   "execution_count": null,
   "id": "30e6ebe0",
   "metadata": {
    "id": "30e6ebe0"
   },
   "outputs": [],
   "source": [
    "df['livingSpace'].describe()"
   ]
  },
  {
   "cell_type": "code",
   "execution_count": null,
   "id": "b3d5e075",
   "metadata": {
    "id": "b3d5e075"
   },
   "outputs": [],
   "source": [
    "df = df[(df['livingSpace'] > 10) & (df['livingSpace'] < 400)]\n"
   ]
  },
  {
   "cell_type": "code",
   "execution_count": null,
   "id": "d74496e4",
   "metadata": {
    "id": "d74496e4"
   },
   "outputs": [],
   "source": [
    "fig = px.scatter(df, x='baseRent', y='livingSpace')\n",
    "fig.show()"
   ]
  },
  {
   "cell_type": "markdown",
   "id": "525ba192",
   "metadata": {
    "id": "525ba192"
   },
   "source": [
    "## Feature Engineering\n",
    "We've already created some columns already such as 'numberOfYears'. However, now I'm trying to create more variables for inspect and building a model from new variables later."
   ]
  },
  {
   "cell_type": "markdown",
   "id": "895882e0",
   "metadata": {
    "id": "895882e0"
   },
   "source": [
    "Create a new columns for the price per square meter"
   ]
  },
  {
   "cell_type": "code",
   "execution_count": null,
   "id": "edd49456",
   "metadata": {
    "id": "edd49456"
   },
   "outputs": [],
   "source": [
    "df['Pricepm2'] = df['baseRent'] / df['livingSpace']\n",
    "df['additioncost'] = df['totalRent'] - df['baseRent']"
   ]
  },
  {
   "cell_type": "code",
   "execution_count": null,
   "id": "8de6d101",
   "metadata": {
    "id": "8de6d101"
   },
   "outputs": [],
   "source": [
    "fig = px.scatter(df, x='totalRent', y='Pricepm2')\n",
    "fig.show()"
   ]
  },
  {
   "cell_type": "markdown",
   "id": "c8f38cd5",
   "metadata": {
    "id": "c8f38cd5"
   },
   "source": [
    "### Service Charge"
   ]
  },
  {
   "cell_type": "code",
   "execution_count": null,
   "id": "1ff122f4",
   "metadata": {
    "id": "1ff122f4"
   },
   "outputs": [],
   "source": [
    "df['serviceCharge'].describe()"
   ]
  },
  {
   "cell_type": "code",
   "execution_count": null,
   "id": "d7a21d4b",
   "metadata": {
    "id": "d7a21d4b"
   },
   "outputs": [],
   "source": [
    "df = df[(df['serviceCharge'] < 1000)]\n",
    "print(f\"Shape after remove service charge that higher than 1000: {df.shape[0]}\")"
   ]
  },
  {
   "cell_type": "code",
   "execution_count": null,
   "id": "4894b19d",
   "metadata": {
    "id": "4894b19d",
    "scrolled": false
   },
   "outputs": [],
   "source": [
    "fig = px.scatter(df, x='totalRent', y='serviceCharge')\n",
    "fig.show()"
   ]
  },
  {
   "cell_type": "code",
   "execution_count": null,
   "id": "d07636ad",
   "metadata": {
    "id": "d07636ad"
   },
   "outputs": [],
   "source": [
    "df['floor'].fillna(df['floor'].mode()[0], inplace=True)\n",
    "df = df[(df['floor'] >= -1) & (df['floor'] <= 20)] # Floor should contain only basement - 20th floor\n",
    "print(f\"Shape after removing floor: {df.shape[0]}\")\n"
   ]
  },
  {
   "cell_type": "code",
   "execution_count": null,
   "id": "db1ac9c3",
   "metadata": {
    "id": "db1ac9c3"
   },
   "outputs": [],
   "source": [
    "df['heatingType'].fillna(df['heatingType'].mode()[0], inplace=True)\n",
    "df['typeOfFlat'].fillna(df['typeOfFlat'].mode()[0], inplace=True)"
   ]
  },
  {
   "cell_type": "code",
   "execution_count": null,
   "id": "2c70e4fd",
   "metadata": {
    "id": "2c70e4fd"
   },
   "outputs": [],
   "source": [
    "heatinglist = list(df['heatingType'].value_counts().head(10).index)\n",
    "df = df[pd.DataFrame(df['heatingType'].tolist()).isin(heatinglist).any(1).values]"
   ]
  },
  {
   "cell_type": "markdown",
   "id": "18e83153",
   "metadata": {
    "id": "18e83153"
   },
   "source": [
    "Using 'Empirical Rule' last time to clean the data"
   ]
  },
  {
   "cell_type": "code",
   "execution_count": null,
   "id": "1dc8d02a",
   "metadata": {
    "id": "1dc8d02a"
   },
   "outputs": [],
   "source": [
    "for cols in df.columns:\n",
    "    if df[cols].dtype == 'int64' or df[cols].dtype == 'float64':\n",
    "        upper_range = df[cols].mean() + 3 * df[cols].std()\n",
    "        lower_range = df[cols].mean() - 3 * df[cols].std()\n",
    "        \n",
    "        indexs = df[(df[cols] > upper_range) | (df[cols] < lower_range)].index\n",
    "        df = df.drop(indexs)"
   ]
  },
  {
   "cell_type": "markdown",
   "id": "93f8d101",
   "metadata": {
    "id": "93f8d101"
   },
   "source": [
    "Checking for the last time, we don't have any missing data left"
   ]
  },
  {
   "cell_type": "code",
   "execution_count": null,
   "id": "be366dc6",
   "metadata": {
    "id": "be366dc6"
   },
   "outputs": [],
   "source": [
    "missing_values(df,5)"
   ]
  },
  {
   "cell_type": "markdown",
   "id": "fa5119f0",
   "metadata": {
    "id": "fa5119f0"
   },
   "source": [
    "Now we're finished with Data Cleaning Job so we could virtualization to have a better understanding of our dataset."
   ]
  },
  {
   "cell_type": "code",
   "execution_count": null,
   "id": "a5d56955",
   "metadata": {
    "id": "a5d56955"
   },
   "outputs": [],
   "source": [
    "print(f\"Shape after all of the main data cleaning task: {df.shape[0]}\")"
   ]
  },
  {
   "cell_type": "markdown",
   "id": "f34966b0",
   "metadata": {
    "id": "f34966b0"
   },
   "source": [
    "# Data Virtualization"
   ]
  },
  {
   "cell_type": "code",
   "execution_count": null,
   "id": "6d2fe901",
   "metadata": {
    "id": "6d2fe901"
   },
   "outputs": [],
   "source": [
    "df.head()"
   ]
  },
  {
   "cell_type": "markdown",
   "id": "208bf9e8",
   "metadata": {
    "id": "208bf9e8"
   },
   "source": [
    "I love to use correlation map to inspect the dataset. Which  variables has the more correlation to the variables that we want to predict."
   ]
  },
  {
   "cell_type": "code",
   "execution_count": null,
   "id": "23dd4e28",
   "metadata": {
    "id": "23dd4e28",
    "scrolled": true
   },
   "outputs": [],
   "source": [
    "f, ax = plt.subplots(figsize=(12, 12))\n",
    "\n",
    "sns.heatmap(df.corr().sort_values(by='totalRent',ascending=False), square = True,fmt='.2f' ,annot = True)"
   ]
  },
  {
   "cell_type": "code",
   "execution_count": null,
   "id": "725ed523",
   "metadata": {
    "id": "725ed523"
   },
   "outputs": [],
   "source": [
    "cor = df.corr().sort_values(by='totalRent',ascending=False)\n",
    "cor.style.background_gradient(cmap='coolwarm')"
   ]
  },
  {
   "cell_type": "markdown",
   "id": "a9dbde31",
   "metadata": {
    "id": "a9dbde31"
   },
   "source": [
    "From the dataset, variables that irrelevant to 'totalRent' are 'cellar','floor' and 'garden' so I would consider drop it."
   ]
  },
  {
   "cell_type": "code",
   "execution_count": null,
   "id": "43d21868",
   "metadata": {
    "id": "43d21868"
   },
   "outputs": [],
   "source": [
    "df.drop(['cellar','floor','garden'],axis=1,inplace=True)"
   ]
  },
  {
   "cell_type": "markdown",
   "id": "aad4f85f",
   "metadata": {
    "id": "aad4f85f"
   },
   "source": [
    "## Basic Inspection"
   ]
  },
  {
   "cell_type": "markdown",
   "id": "5471f5da",
   "metadata": {
    "id": "5471f5da"
   },
   "source": [
    "### Kurtosis and Skewness"
   ]
  },
  {
   "cell_type": "code",
   "execution_count": null,
   "id": "e6ac1645",
   "metadata": {
    "id": "e6ac1645"
   },
   "outputs": [],
   "source": [
    "fig,ax = plt.subplots(figsize=(10,6))\n",
    "sns.distplot(df['totalRent'],fit=norm)"
   ]
  },
  {
   "cell_type": "code",
   "execution_count": null,
   "id": "14f41327",
   "metadata": {
    "id": "14f41327"
   },
   "outputs": [],
   "source": [
    "fig,ax = plt.subplots(figsize=(10,6))\n",
    "sns.distplot(df['livingSpace'],fit=norm)"
   ]
  },
  {
   "cell_type": "code",
   "execution_count": null,
   "id": "089f2e98",
   "metadata": {
    "id": "089f2e98"
   },
   "outputs": [],
   "source": [
    "df.head()"
   ]
  },
  {
   "cell_type": "markdown",
   "id": "7d4b012e",
   "metadata": {
    "id": "7d4b012e"
   },
   "source": [
    "### Start with the ratio of each city"
   ]
  },
  {
   "cell_type": "code",
   "execution_count": null,
   "id": "55858cef",
   "metadata": {
    "id": "55858cef",
    "scrolled": false
   },
   "outputs": [],
   "source": [
    "countpie = df['regio2'].head().value_counts()\n",
    "\n",
    "fig = {\n",
    "  \"data\": [\n",
    "    {\n",
    "      \"values\": countpie.values,\n",
    "      \"labels\": countpie.index,\n",
    "      \"domain\": {\"x\": [0, .5]},\n",
    "      \"name\": \"City\",\n",
    "      \"hoverinfo\":\"label+percent+name\",\n",
    "      \"hole\": .7,\n",
    "      \"type\": \"pie\"\n",
    "    },],\n",
    "  \"layout\": {\n",
    "        \"title\":\"Pie chart of all the City ratio in the dataset\",\n",
    "    }\n",
    "}\n",
    "iplot(fig)"
   ]
  },
  {
   "cell_type": "code",
   "execution_count": null,
   "id": "f8e759b5",
   "metadata": {
    "id": "f8e759b5",
    "scrolled": false
   },
   "outputs": [],
   "source": [
    "countpie = df['regio2'].value_counts().sort_index()\n",
    "countpie.drop(labels=['Other'],\n",
    "             axis=0,\n",
    "             inplace=True)\n",
    "\n",
    "fig = px.histogram(x = df['regio2'].value_counts().drop(labels=['Other'],axis=0).sort_index().index,\n",
    "                  y = countpie,\n",
    "                  color=df['regio2'].value_counts().drop(labels=['Other'],axis=0).sort_index().index)\n",
    "\n",
    "fig.update_xaxes(title=\"City\")\n",
    "fig.update_yaxes(title = \"Number of Dataset seperate by City\")\n",
    "fig.show()"
   ]
  },
  {
   "cell_type": "code",
   "execution_count": null,
   "id": "cea2657a",
   "metadata": {
    "id": "cea2657a"
   },
   "outputs": [],
   "source": [
    "plotter = df.groupby('regio2')['totalRent'].agg(['mean'])\n",
    "plotter.columns = [\"mean\"]\n",
    "plotter['regio2'] = plotter.index\n",
    "\n",
    "data = [\n",
    "    {\n",
    "        'x': plotter['regio2'],\n",
    "        'y': plotter['mean'],\n",
    "        'mode': 'markers+text',\n",
    "        'text' : plotter['regio2'],\n",
    "        'textposition' : 'bottom center',\n",
    "        'marker': {  \n",
    "            'size': 20,\n",
    "        }\n",
    "    }\n",
    "]\n",
    "\n",
    "layout = go.Layout(title=\"Average rental per month\", \n",
    "                   xaxis=dict(title='City'),\n",
    "                   yaxis=dict(title='Cost of rental')\n",
    "                  )\n",
    "fig = go.Figure(data = data, layout = layout)\n",
    "iplot(fig, filename='scatter0')"
   ]
  },
  {
   "cell_type": "markdown",
   "id": "34d3b1b5",
   "metadata": {
    "id": "34d3b1b5"
   },
   "source": [
    "München, Frankfurt am Main, Hamburg, Düsseldorf, Berlin and Köln seem to be the highest rental city"
   ]
  },
  {
   "cell_type": "code",
   "execution_count": null,
   "id": "2227fe95",
   "metadata": {
    "id": "2227fe95"
   },
   "outputs": [],
   "source": [
    "rentmean = df.groupby(['regio2'])['totalRent'].mean().sort_index()\n",
    "\n",
    "fig = px.histogram(x = df['regio2'].value_counts().sort_index().index,\n",
    "                   y = rentmean,\n",
    "                   color= df['regio2'].value_counts().sort_index().index\n",
    "             )\n",
    "fig.update_xaxes(title=\"City\")\n",
    "fig.update_yaxes(title = \"Average rental per month\")\n",
    "fig.show()"
   ]
  },
  {
   "cell_type": "code",
   "execution_count": null,
   "id": "a54d7d1a",
   "metadata": {
    "id": "a54d7d1a"
   },
   "outputs": [],
   "source": [
    "plotter = df.groupby('regio2')['Pricepm2'].agg(['mean'])\n",
    "plotter.columns = [\"mean\"]\n",
    "plotter['regio2'] = plotter.index\n",
    "\n",
    "data = [\n",
    "    {\n",
    "        'x': plotter['regio2'],\n",
    "        'y': plotter['mean'],\n",
    "        'mode': 'markers+text',\n",
    "        'text' : plotter['regio2'],\n",
    "        'textposition' : 'bottom center',\n",
    "        'marker': {  \n",
    "            'size': 20,\n",
    "        }\n",
    "    }\n",
    "]\n",
    "\n",
    "layout = go.Layout(title=\"Average rental per month compare by area per square meter\", \n",
    "                   xaxis=dict(title='City'),\n",
    "                   yaxis=dict(title='Euro/square meter')\n",
    "                  )\n",
    "fig = go.Figure(data = data, layout = layout)\n",
    "iplot(fig, filename='scatter0')"
   ]
  },
  {
   "cell_type": "code",
   "execution_count": null,
   "id": "7d65dfab",
   "metadata": {
    "id": "7d65dfab"
   },
   "outputs": [],
   "source": [
    "plotter = df.groupby('condition')['totalRent'].agg(['mean'])\n",
    "plotter.columns = [\"mean\"]\n",
    "plotter['condition'] = plotter.index\n",
    "\n",
    "data = [\n",
    "    {\n",
    "        'x': plotter['condition'],\n",
    "        'y': plotter['mean'],\n",
    "        'mode': 'markers+text',\n",
    "        'text' : plotter['condition'],\n",
    "        'textposition' : 'bottom center',\n",
    "        'marker': {  \n",
    "            'size': 20,\n",
    "        }\n",
    "    }\n",
    "]\n",
    "\n",
    "layout = go.Layout(title=\"Average rental per month group by apartment condition\", \n",
    "                   xaxis=dict(title='Apartment Condition'),\n",
    "                   yaxis=dict(title='Cost of rental')\n",
    "                  )\n",
    "fig = go.Figure(data = data, layout = layout)\n",
    "iplot(fig, filename='scatter0')"
   ]
  },
  {
   "cell_type": "code",
   "execution_count": null,
   "id": "96f6cfe9",
   "metadata": {
    "id": "96f6cfe9"
   },
   "outputs": [],
   "source": [
    "plotter = df.groupby('regio2')['livingSpace'].agg(['mean'])\n",
    "plotter.columns = [\"mean\"]\n",
    "plotter['regio2'] = plotter.index\n",
    "\n",
    "data = [\n",
    "    {\n",
    "        'x': plotter['regio2'],\n",
    "        'y': plotter['mean'],\n",
    "        'mode': 'markers+text',\n",
    "        'text' : plotter['regio2'],\n",
    "        'textposition' : 'bottom center',\n",
    "        'marker': {  \n",
    "            'size': 20,\n",
    "        }\n",
    "    }\n",
    "]\n",
    "\n",
    "layout = go.Layout(title=\"Average living space group by city\", \n",
    "                   xaxis=dict(title='City'),\n",
    "                   yaxis=dict(title='Average Living Space')\n",
    "                  )\n",
    "fig = go.Figure(data = data, layout = layout)\n",
    "iplot(fig, filename='scatter0')"
   ]
  },
  {
   "cell_type": "code",
   "execution_count": null,
   "id": "a0497e12",
   "metadata": {
    "id": "a0497e12"
   },
   "outputs": [],
   "source": [
    "countpie = df['heatingType'].head().value_counts()\n",
    "\n",
    "fig = {\n",
    "  \"data\": [\n",
    "    {\n",
    "      \"values\": countpie.values,\n",
    "      \"labels\": countpie.index,\n",
    "      \"domain\": {\"x\": [0, .5]},\n",
    "      \"name\": \"City\",\n",
    "      \"hoverinfo\":\"label+percent+name\",\n",
    "      \"hole\": .7,\n",
    "      \"type\": \"pie\"\n",
    "    },],\n",
    "  \"layout\": {\n",
    "        \"title\":\"Pie chart of all the City ratio in the dataset\",\n",
    "    }\n",
    "}\n",
    "iplot(fig)"
   ]
  },
  {
   "cell_type": "code",
   "execution_count": null,
   "id": "c8913a8d",
   "metadata": {
    "id": "c8913a8d"
   },
   "outputs": [],
   "source": [
    "countpie = df['heatingType'].value_counts().sort_index()\n",
    "\n",
    "\n",
    "fig = px.histogram(x = df['heatingType'].value_counts().sort_index().index,\n",
    "                  y = countpie,\n",
    "                  color=df['heatingType'].value_counts().sort_index().index)\n",
    "\n",
    "fig.update_xaxes(title=\"Heating Type\")\n",
    "fig.update_yaxes(title = \"Quantity of Heating Type\")\n",
    "fig.show()"
   ]
  },
  {
   "cell_type": "code",
   "execution_count": null,
   "id": "d99b6d0c",
   "metadata": {
    "id": "d99b6d0c"
   },
   "outputs": [],
   "source": [
    "plotter = df.groupby('heatingType')['totalRent'].agg(['mean'])\n",
    "plotter.columns = [\"mean\"]\n",
    "plotter['heatingType'] = plotter.index\n",
    "\n",
    "data = [\n",
    "    {\n",
    "        'x': plotter['heatingType'],\n",
    "        'y': plotter['mean'],\n",
    "        'mode': 'markers+text',\n",
    "        'text' : plotter['heatingType'],\n",
    "        'textposition' : 'bottom center',\n",
    "        'marker': {  \n",
    "            'size': 20,\n",
    "        }\n",
    "    }\n",
    "]\n",
    "\n",
    "layout = go.Layout(title=\"Average rental group by heating type\", \n",
    "                   xaxis=dict(title='Heating Type'),\n",
    "                   yaxis=dict(title='Average Rental Cost')\n",
    "                  )\n",
    "fig = go.Figure(data = data, layout = layout)\n",
    "iplot(fig, filename='scatter0')"
   ]
  },
  {
   "cell_type": "code",
   "execution_count": null,
   "id": "2a91bc37",
   "metadata": {
    "id": "2a91bc37"
   },
   "outputs": [],
   "source": [
    "countpie = df['newlyConst'].value_counts()\n",
    "countpie = countpie.sort_index() \n",
    "fig = {\n",
    "  \"data\": [\n",
    "    {\n",
    "      \"values\": countpie.values,\n",
    "      \"labels\": ['False','True'],\n",
    "      \"domain\": {\"x\": [0, .5]},\n",
    "      \"hoverinfo\":\"label+percent+name\",\n",
    "      \"hole\": .3,\n",
    "      \"type\": \"pie\"\n",
    "    },],\n",
    "  \"layout\": {\n",
    "        \"title\":\"Percentage of the residence is newly constructed or not\",\n",
    "    }\n",
    "}\n",
    "iplot(fig)"
   ]
  },
  {
   "cell_type": "markdown",
   "id": "aee7a1a1",
   "metadata": {
    "id": "aee7a1a1"
   },
   "source": [
    "Most of the apartment are newly constructed. Then, I want to know the difference of a price between refurbrished are having a big gap or not"
   ]
  },
  {
   "cell_type": "code",
   "execution_count": null,
   "id": "c6ed1355",
   "metadata": {
    "id": "c6ed1355"
   },
   "outputs": [],
   "source": [
    "constructmean = df.groupby(['newlyConst'])['totalRent'].mean().sort_index()\n",
    "\n",
    "fig = px.histogram(x = df['newlyConst'].value_counts().sort_index().index,\n",
    "                   y = constructmean,\n",
    "                   color= df['newlyConst'].value_counts().sort_index().index\n",
    "             )\n",
    "fig.update_xaxes(title=\"Newly construct or not\")\n",
    "fig.update_yaxes(title = \"Rental Cost\")\n",
    "fig.show()"
   ]
  },
  {
   "cell_type": "code",
   "execution_count": null,
   "id": "fdd162bf",
   "metadata": {
    "id": "fdd162bf"
   },
   "outputs": [],
   "source": [
    "constructmean = df.groupby(['newlyConst'])['totalRent'].mean().sort_index()\n",
    "constructmean"
   ]
  },
  {
   "cell_type": "markdown",
   "id": "9fb135e3",
   "metadata": {
    "id": "9fb135e3"
   },
   "source": [
    "So the difference between refurbrished or newly construct have more rental earning per month at 600 Euro."
   ]
  },
  {
   "cell_type": "code",
   "execution_count": null,
   "id": "bddceb86",
   "metadata": {
    "id": "bddceb86"
   },
   "outputs": [],
   "source": [
    "plotter = df.groupby('regio2')['additioncost'].agg(['mean'])\n",
    "plotter.columns = [\"mean\"]\n",
    "plotter['regio2'] = plotter.index\n",
    "\n",
    "data = [\n",
    "    {\n",
    "        'x': plotter['regio2'],\n",
    "        'y': plotter['mean'],\n",
    "        'mode': 'markers+text',\n",
    "        'text' : plotter['regio2'],\n",
    "        'textposition' : 'bottom center',\n",
    "        'marker': {  \n",
    "            'size': 20,\n",
    "        }\n",
    "    }\n",
    "]\n",
    "\n",
    "layout = go.Layout(title=\"Average Addition Cost Per Month (Warmmiete - Kaltmiete)\", \n",
    "                   xaxis=dict(title='City'),\n",
    "                   yaxis=dict(title='Additional Cost per month')\n",
    "                  )\n",
    "fig = go.Figure(data = data, layout = layout)\n",
    "iplot(fig, filename='scatter0')"
   ]
  },
  {
   "cell_type": "code",
   "execution_count": null,
   "id": "c699e040",
   "metadata": {
    "id": "c699e040"
   },
   "outputs": [],
   "source": [
    "plotter = df.groupby('typeOfFlat')['totalRent'].agg(['mean'])\n",
    "plotter.columns = [\"mean\"]\n",
    "plotter['typeOfFlat'] = plotter.index\n",
    "\n",
    "data = [\n",
    "    {\n",
    "        'x': plotter['typeOfFlat'],\n",
    "        'y': plotter['mean'],\n",
    "        'mode': 'markers+text',\n",
    "        'text' : plotter['typeOfFlat'],\n",
    "        'textposition' : 'bottom center',\n",
    "        'marker': {  \n",
    "            'size': 20,\n",
    "        }\n",
    "    }\n",
    "]\n",
    "\n",
    "layout = go.Layout(title=\"Type of Apartment and Average Rental Cost Per Month\", \n",
    "                   xaxis=dict(title='Type Of Rental'),\n",
    "                   yaxis=dict(title='Average rental type cost per month')\n",
    "                  )\n",
    "fig = go.Figure(data = data, layout = layout)\n",
    "iplot(fig, filename='scatter0')"
   ]
  },
  {
   "cell_type": "markdown",
   "id": "ec3858a7",
   "metadata": {
    "id": "ec3858a7"
   },
   "source": [
    "We might want to seperate the type of rental kind because some of it cost very high per month."
   ]
  },
  {
   "cell_type": "code",
   "execution_count": null,
   "id": "bcac8cc8",
   "metadata": {
    "id": "bcac8cc8"
   },
   "outputs": [],
   "source": [
    "countpie = df['hasKitchen'].value_counts()\n",
    "\n",
    "fig = {\n",
    "  \"data\": [\n",
    "    {\n",
    "      \"values\": countpie.values,\n",
    "      \"labels\": countpie.index,\n",
    "      \"domain\": {\"x\": [0, .5]},\n",
    "      \"name\": \"City\",\n",
    "      \"hoverinfo\":\"label+percent+name\",\n",
    "      \"hole\": .7,\n",
    "      \"type\": \"pie\"\n",
    "    },],\n",
    "  \"layout\": {\n",
    "        \"title\":\"Pie chart of the Apartment has kitchen or not\",\n",
    "    }\n",
    "}\n",
    "iplot(fig)"
   ]
  },
  {
   "cell_type": "markdown",
   "id": "e4fb15c3",
   "metadata": {
    "id": "e4fb15c3"
   },
   "source": [
    "Most of the place is not inclde kitchen"
   ]
  },
  {
   "cell_type": "code",
   "execution_count": null,
   "id": "30af1b8e",
   "metadata": {
    "id": "30af1b8e"
   },
   "outputs": [],
   "source": [
    "constructmean = df.groupby(['hasKitchen'])['totalRent'].mean().sort_index()\n",
    "\n",
    "fig = px.histogram(x = df['hasKitchen'].value_counts().sort_index().index,\n",
    "                   y = constructmean,\n",
    "                   color= df['hasKitchen'].value_counts().sort_index().index\n",
    "             )\n",
    "             \n",
    "fig.update_xaxes(title=\"Has Kitchen\")\n",
    "fig.update_yaxes(title = \"Cost of Rental\")\n",
    "fig.show(renderer=\"colab\")"
   ]
  },
  {
   "cell_type": "markdown",
   "id": "9b8a4750",
   "metadata": {
    "id": "9b8a4750"
   },
   "source": [
    "Further opinion, we could create more meaningful virtualization such as seperate rental types or others to make it clearer for the trend of rental cost in Germany"
   ]
  },
  {
   "cell_type": "markdown",
   "id": "735916a0",
   "metadata": {
    "id": "735916a0"
   },
   "source": [
    "## Visualyze by using Postal Code\n",
    "This shapefile contains all the postal codes from Germany.\n",
    "It was sourced from: https://www.suche-postleitzahl.org/"
   ]
  },
  {
   "cell_type": "markdown",
   "id": "33394715",
   "metadata": {
    "id": "33394715"
   },
   "source": [
    "### Preparing the data"
   ]
  },
  {
   "cell_type": "code",
   "execution_count": null,
   "id": "Njs5aTVLJ5tj",
   "metadata": {
    "id": "Njs5aTVLJ5tj"
   },
   "outputs": [],
   "source": [
    "!gdown --id 1bAiuZigs6RzYsrOGE4YMEn83eDgQtYuK\n",
    "unzip_data(\"maps.zip\")"
   ]
  },
  {
   "cell_type": "code",
   "execution_count": null,
   "id": "3ef93d20",
   "metadata": {
    "id": "3ef93d20",
    "scrolled": true
   },
   "outputs": [],
   "source": [
    "!pip install geopandas\n",
    "!pip install folium==0.12.1\n",
    "!pip install mapclassify==2.4.3"
   ]
  },
  {
   "cell_type": "code",
   "execution_count": null,
   "id": "70f2d6a8",
   "metadata": {},
   "outputs": [],
   "source": [
    "import geopandas as gpd\n",
    "\n",
    "maps_data = gpd.read_file(\"data/maps/plz-5stellig.shp\")"
   ]
  },
  {
   "cell_type": "code",
   "execution_count": null,
   "id": "04e3b580",
   "metadata": {
    "id": "04e3b580"
   },
   "outputs": [],
   "source": [
    "maps_data.head()"
   ]
  },
  {
   "cell_type": "code",
   "execution_count": null,
   "id": "ae97989a",
   "metadata": {
    "id": "ae97989a"
   },
   "outputs": [],
   "source": [
    "maps_data.plot(figsize=(20,20))"
   ]
  },
  {
   "cell_type": "code",
   "execution_count": null,
   "id": "2c3faf5b",
   "metadata": {
    "id": "2c3faf5b"
   },
   "outputs": [],
   "source": [
    "plz_avg = df.groupby([\"geo_plz\"])[\"totalRent\"].mean()\n",
    "plz_avg.head(10)"
   ]
  },
  {
   "cell_type": "code",
   "execution_count": null,
   "id": "94167f4f",
   "metadata": {
    "id": "94167f4f",
    "scrolled": false
   },
   "outputs": [],
   "source": [
    "plz_avg = pd.DataFrame(plz_avg)\n",
    "plz_avg.reset_index(drop=False, inplace=True)\n",
    "\n",
    "plz_avg.head()"
   ]
  },
  {
   "cell_type": "code",
   "execution_count": null,
   "id": "c86594d6",
   "metadata": {
    "id": "c86594d6"
   },
   "outputs": [],
   "source": [
    "fill_na = pd.DataFrame()\n",
    "fill_na[\"geo_plz\"] = pd.DataFrame(maps_data[\"plz\"]).astype(int)\n",
    "\n",
    "fill_na"
   ]
  },
  {
   "cell_type": "code",
   "execution_count": null,
   "id": "5c343e7d",
   "metadata": {
    "id": "5c343e7d"
   },
   "outputs": [],
   "source": [
    "fill_na[\"is_in_results\"] = fill_na[\"geo_plz\"].isin(plz_avg[\"geo_plz\"]).astype(int)\n",
    "fill_na"
   ]
  },
  {
   "cell_type": "code",
   "execution_count": null,
   "id": "16943ad8",
   "metadata": {
    "id": "16943ad8"
   },
   "outputs": [],
   "source": [
    "to_be_filled = pd.DataFrame()\n",
    "to_be_filled = fill_na.loc[fill_na['is_in_results'] == 0]\n",
    "\n",
    "to_be_filled"
   ]
  },
  {
   "cell_type": "code",
   "execution_count": null,
   "id": "e6786614",
   "metadata": {
    "id": "e6786614"
   },
   "outputs": [],
   "source": [
    "to_be_filled[\"is_in_results\"] = to_be_filled['is_in_results'].replace(0, np.NaN)\n",
    "to_be_filled.columns = [\"geo_plz\", \"totalRent\"]\n",
    "\n",
    "to_be_filled"
   ]
  },
  {
   "cell_type": "code",
   "execution_count": null,
   "id": "d4b4e4e5",
   "metadata": {
    "id": "d4b4e4e5"
   },
   "outputs": [],
   "source": [
    "plz_avg = pd.concat([plz_avg, to_be_filled], axis=0)\n",
    "plz_avg"
   ]
  },
  {
   "cell_type": "code",
   "execution_count": null,
   "id": "9ffa8307",
   "metadata": {
    "id": "9ffa8307"
   },
   "outputs": [],
   "source": [
    "maps_data[\"plz\"] = maps_data.plz.astype(int)\n",
    "plz_avg[\"geo_plz\"] = plz_avg.geo_plz.astype(int)"
   ]
  },
  {
   "cell_type": "code",
   "execution_count": null,
   "id": "3e6a8a17",
   "metadata": {
    "id": "3e6a8a17"
   },
   "outputs": [],
   "source": [
    "maps_data_final = maps_data.merge(plz_avg, left_on=\"plz\", right_on=\"geo_plz\")\n",
    "maps_data_final = gpd.GeoDataFrame(maps_data_final)\n",
    "\n",
    "maps_data_final = maps_data_final.rename(columns = {'totalRent':\"avg_rent\"})\n",
    "maps_data_final.head(10)"
   ]
  },
  {
   "cell_type": "code",
   "execution_count": null,
   "id": "b798ee1a",
   "metadata": {
    "id": "b798ee1a",
    "scrolled": true
   },
   "outputs": [],
   "source": [
    "maps_data_final.info()"
   ]
  },
  {
   "cell_type": "code",
   "execution_count": null,
   "id": "8535f013",
   "metadata": {
    "id": "8535f013",
    "scrolled": false
   },
   "outputs": [],
   "source": [
    "maps_data_final.plot(figsize=(20,20))"
   ]
  },
  {
   "cell_type": "code",
   "execution_count": null,
   "id": "f801d27c",
   "metadata": {
    "id": "f801d27c"
   },
   "outputs": [],
   "source": [
    "plt.rcParams[\"figure.figsize\"] = (50,50)\n",
    "\n",
    "fig, ax = plt.subplots(1)\n",
    "\n",
    "ax.axis('off')\n",
    "\n",
    "ax.set_title(\"Average Rent in Euros by German 5-digit \\\"Postleitzahl\\\" (Zip Code)\", fontdict={'fontsize': '50', 'fontweight': '10'})\n",
    "\n",
    "maps_data_final.plot(column=\"avg_rent\",\n",
    "                      ax=ax,\n",
    "                      legend=True,\n",
    "                      scheme=\"natural_breaks\",\n",
    "                      k=20,\n",
    "                      #cmap = 'cividis',\n",
    "                      edgecolor = \"0\",\n",
    "                      linewidth = 0.001,\n",
    "                      missing_kwds={\"color\": \"white\",\n",
    "                                    \"edgecolor\": \"red\",\n",
    "                                    \"hatch\": \"///\",\n",
    "                                    \"label\": \"Missing values\"});\n",
    "\n",
    "ax.annotate(\"Souce: Kaggle Dataset\", xy=(0.1, .08), xycoords='figure fraction', horizontalalignment='left', \n",
    "            verticalalignment='bottom', fontsize=25)\n",
    "\n",
    "\n",
    "## Save for further use\n",
    "# fig.savefig('map.eps', format='eps')\n",
    "# fig.savefig('map2.svg', format='svg')"
   ]
  },
  {
   "cell_type": "code",
   "execution_count": null,
   "id": "87e8c317",
   "metadata": {
    "id": "87e8c317"
   },
   "outputs": [],
   "source": [
    "maps_data_final.explore()"
   ]
  },
  {
   "cell_type": "markdown",
   "id": "847b792f",
   "metadata": {
    "id": "847b792f"
   },
   "source": [
    "# Machine Learning"
   ]
  },
  {
   "cell_type": "markdown",
   "id": "be3cf8dc",
   "metadata": {
    "id": "be3cf8dc"
   },
   "source": [
    "## Preparing the data for train\n",
    "Copying the data"
   ]
  },
  {
   "cell_type": "code",
   "execution_count": null,
   "id": "42fae872",
   "metadata": {
    "id": "42fae872",
    "scrolled": false
   },
   "outputs": [],
   "source": [
    "df.head()"
   ]
  },
  {
   "cell_type": "markdown",
   "id": "5207a401",
   "metadata": {
    "id": "5207a401"
   },
   "source": [
    "Dropping the data that's highly correlated to the main prediction."
   ]
  },
  {
   "cell_type": "code",
   "execution_count": null,
   "id": "6d1f90b6",
   "metadata": {
    "id": "6d1f90b6"
   },
   "outputs": [],
   "source": [
    "predict_df = df.copy()\n",
    "predict_df.drop(columns=['yearConstructed','serviceCharge','numberOfYear','newlyConst','balcony','hasKitchen','Pricepm2','baseRent','geo_plz'],inplace=True)\n",
    "predict_df.head()"
   ]
  },
  {
   "cell_type": "code",
   "execution_count": null,
   "id": "b7e88616",
   "metadata": {
    "id": "b7e88616"
   },
   "outputs": [],
   "source": [
    "print(f\"Number of data for training and testing is : {predict_df.shape[0]}\")"
   ]
  },
  {
   "cell_type": "markdown",
   "id": "afa6ef73",
   "metadata": {
    "id": "afa6ef73"
   },
   "source": [
    "### <font color='red'>Move to the Google Colab for Model Comparison </font>\n",
    "\n",
    "\n",
    "Preparing data to use in Google Colab  for PyCaret due to I couldn't run this libraries on my local environment<br>\n",
    "<a href=\"https://colab.research.google.com/drive/1T0K249nNayfjiGjkDvjyG0UKj6bnkqKn?usp=sharing\">Click to Google Colab</a></h4>\n"
   ]
  },
  {
   "cell_type": "code",
   "execution_count": null,
   "id": "de896d9a-50d0-43cc-af1e-a531604b6134",
   "metadata": {
    "id": "de896d9a-50d0-43cc-af1e-a531604b6134"
   },
   "outputs": [],
   "source": [
    "# predict_df.to_csv('data/predict_test.csv')"
   ]
  },
  {
   "cell_type": "markdown",
   "id": "28994917",
   "metadata": {
    "id": "28994917"
   },
   "source": [
    "# Summary"
   ]
  },
  {
   "cell_type": "markdown",
   "id": "f5ba7b49",
   "metadata": {
    "id": "f5ba7b49"
   },
   "source": [
    "This is the end of this notebokok, if you love this kernel or could study something from this please upvote! it means a lot for my future opportunity. Moreover, feel free to comment on my mistakes because it would be surely help me to improve my mistakes and you could read my others notebook.\n",
    "\n",
    "Thanks for viewing!"
   ]
  }
 ],
 "metadata": {
  "colab": {
   "collapsed_sections": [
    "d2cce7f5",
    "7ae53415",
    "982ccedf",
    "56e227c1",
    "c1c3fe56",
    "3dadd6cf",
    "1b8cf90b",
    "04b84592",
    "73e34ada",
    "525ba192",
    "c8f38cd5",
    "5471f5da"
   ],
   "name": "01_cleaning_visualize.ipynb",
   "private_outputs": true,
   "provenance": []
  },
  "gpuClass": "standard",
  "interpreter": {
   "hash": "9b6558af67744e838d8043107d7139df75d7e44c9db2e97384ca8749d628ea25"
  },
  "kernelspec": {
   "display_name": "Python 3 (ipykernel)",
   "language": "python",
   "name": "python3"
  },
  "language_info": {
   "codemirror_mode": {
    "name": "ipython",
    "version": 3
   },
   "file_extension": ".py",
   "mimetype": "text/x-python",
   "name": "python",
   "nbconvert_exporter": "python",
   "pygments_lexer": "ipython3",
   "version": "3.8.12"
  },
  "papermill": {
   "default_parameters": {},
   "duration": 310.867847,
   "end_time": "2021-11-30T18:42:25.683424",
   "environment_variables": {},
   "exception": null,
   "input_path": "__notebook__.ipynb",
   "output_path": "__notebook__.ipynb",
   "parameters": {},
   "start_time": "2021-11-30T18:37:14.815577",
   "version": "2.3.3"
  },
  "toc": {
   "base_numbering": 1,
   "nav_menu": {},
   "number_sections": true,
   "sideBar": true,
   "skip_h1_title": false,
   "title_cell": "Table of Contents",
   "title_sidebar": "Contents",
   "toc_cell": false,
   "toc_position": {
    "height": "calc(100% - 180px)",
    "left": "10px",
    "top": "150px",
    "width": "288px"
   },
   "toc_section_display": true,
   "toc_window_display": true
  }
 },
 "nbformat": 4,
 "nbformat_minor": 5
}
