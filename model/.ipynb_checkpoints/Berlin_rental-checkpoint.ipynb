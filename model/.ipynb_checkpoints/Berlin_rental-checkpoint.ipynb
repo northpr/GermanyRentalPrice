{
 "cells": [
  {
   "cell_type": "markdown",
   "id": "f5cd226a",
   "metadata": {
    "papermill": {
     "duration": 0.082908,
     "end_time": "2021-11-30T18:37:24.719827",
     "exception": false,
     "start_time": "2021-11-30T18:37:24.636919",
     "status": "completed"
    },
    "tags": []
   },
   "source": [
    "# Germany Rental Prediction - Cleaning, EDA and Prediction"
   ]
  },
  {
   "cell_type": "markdown",
   "id": "c379ea48",
   "metadata": {
    "papermill": {
     "duration": 0.143421,
     "end_time": "2021-11-30T18:37:24.947230",
     "exception": false,
     "start_time": "2021-11-30T18:37:24.803809",
     "status": "completed"
    },
    "tags": []
   },
   "source": [
    "## Purpose from this kernel."
   ]
  },
  {
   "cell_type": "markdown",
   "id": "7ab68cf1",
   "metadata": {
    "papermill": {
     "duration": 0.080676,
     "end_time": "2021-11-30T18:37:25.109584",
     "exception": false,
     "start_time": "2021-11-30T18:37:25.028908",
     "status": "completed"
    },
    "tags": []
   },
   "source": [
    "I've travel from SEA and I don't know how much apartment in the Berlin should cost and it's really tough to find an apartment while I'm staying in Germany for my Master Degree. Furthermore, I need something for my Data Science Portfolio for the job application after graduation. So why not build something from the scratch with the dataset on the Kaggle\n",
    "\n",
    "So this kernel will be well written than my previous kernel for other people and using what I've learnt in my master course and other online resources to produce something that will be practical for the real environment."
   ]
  },
  {
   "cell_type": "markdown",
   "id": "e9850915",
   "metadata": {
    "papermill": {
     "duration": 0.081351,
     "end_time": "2021-11-30T18:37:25.271762",
     "exception": false,
     "start_time": "2021-11-30T18:37:25.190411",
     "status": "completed"
    },
    "tags": []
   },
   "source": [
    "## What we expected from this kernel.\n",
    "- Data cleaning to clear the outliers and remove columns that doesn't have high correlation to the prediction\n",
    "- Create virtualization to have a better understanding of the data of the rental in Germany.\n",
    "- Feature engineering from the original variable to create a better model\n",
    "- Create a tool that estimate the house cost predicted by many variables"
   ]
  },
  {
   "cell_type": "markdown",
   "id": "d7c5e3b8",
   "metadata": {
    "papermill": {
     "duration": 0.080428,
     "end_time": "2021-11-30T18:37:25.433063",
     "exception": false,
     "start_time": "2021-11-30T18:37:25.352635",
     "status": "completed"
    },
    "tags": []
   },
   "source": [
    "# Basic data handling and inspection"
   ]
  },
  {
   "cell_type": "markdown",
   "id": "0f46b41d",
   "metadata": {
    "papermill": {
     "duration": 0.080623,
     "end_time": "2021-11-30T18:37:25.594471",
     "exception": false,
     "start_time": "2021-11-30T18:37:25.513848",
     "status": "completed"
    },
    "tags": []
   },
   "source": [
    "Import all important libraries in this kernel"
   ]
  },
  {
   "cell_type": "code",
   "execution_count": 102,
   "id": "b06aa3be",
   "metadata": {
    "papermill": {
     "duration": 2.82814,
     "end_time": "2021-11-30T18:37:28.509742",
     "exception": false,
     "start_time": "2021-11-30T18:37:25.681602",
     "status": "completed"
    },
    "tags": []
   },
   "outputs": [],
   "source": [
    "import numpy as np\n",
    "import pandas as pd\n",
    "import plotly.graph_objects as go\n",
    "import time\n",
    "import datetime\n",
    "from datetime import date\n",
    "from plotly.offline import init_notebook_mode, iplot\n",
    "import plotly.express as px\n",
    "import matplotlib.pyplot as plt\n",
    "import matplotlib.gridspec as gridspec\n",
    "import seaborn as sns\n",
    "from scipy.stats import norm\n",
    "from sklearn.preprocessing import LabelEncoder\n",
    "from sklearn.model_selection import train_test_split\n",
    "from sklearn.metrics import mean_squared_error\n",
    "import warnings\n",
    "import lightgbm as lgb\n",
    "\n",
    "warnings.filterwarnings('ignore')\n",
    "pd.set_option('display.max_columns', None)\n",
    "\n",
    "import plotly.io as pio\n",
    "pio.renderers.default = \"iframe\""
   ]
  },
  {
   "cell_type": "markdown",
   "id": "b1eaa2fa",
   "metadata": {
    "papermill": {
     "duration": 0.083271,
     "end_time": "2021-11-30T18:37:28.675681",
     "exception": false,
     "start_time": "2021-11-30T18:37:28.592410",
     "status": "completed"
    },
    "tags": []
   },
   "source": [
    "Load the dataset to the kernel"
   ]
  },
  {
   "cell_type": "code",
   "execution_count": 168,
   "id": "7e4ba0ea",
   "metadata": {
    "papermill": {
     "duration": 9.280359,
     "end_time": "2021-11-30T18:37:38.039355",
     "exception": false,
     "start_time": "2021-11-30T18:37:28.758996",
     "status": "completed"
    },
    "tags": []
   },
   "outputs": [],
   "source": [
    "df = pd.read_csv('data/immo_data.csv')"
   ]
  },
  {
   "cell_type": "markdown",
   "id": "330a314d",
   "metadata": {
    "papermill": {
     "duration": 0.081971,
     "end_time": "2021-11-30T18:37:38.203332",
     "exception": false,
     "start_time": "2021-11-30T18:37:38.121361",
     "status": "completed"
    },
    "tags": []
   },
   "source": [
    "### Simple Inspection"
   ]
  },
  {
   "cell_type": "code",
   "execution_count": 104,
   "id": "1ea23a69",
   "metadata": {
    "papermill": {
     "duration": 0.195313,
     "end_time": "2021-11-30T18:37:38.480572",
     "exception": false,
     "start_time": "2021-11-30T18:37:38.285259",
     "status": "completed"
    },
    "tags": []
   },
   "outputs": [
    {
     "data": {
      "text/html": [
       "<div>\n",
       "<style scoped>\n",
       "    .dataframe tbody tr th:only-of-type {\n",
       "        vertical-align: middle;\n",
       "    }\n",
       "\n",
       "    .dataframe tbody tr th {\n",
       "        vertical-align: top;\n",
       "    }\n",
       "\n",
       "    .dataframe thead th {\n",
       "        text-align: right;\n",
       "    }\n",
       "</style>\n",
       "<table border=\"1\" class=\"dataframe\">\n",
       "  <thead>\n",
       "    <tr style=\"text-align: right;\">\n",
       "      <th></th>\n",
       "      <th>regio1</th>\n",
       "      <th>serviceCharge</th>\n",
       "      <th>heatingType</th>\n",
       "      <th>telekomTvOffer</th>\n",
       "      <th>telekomHybridUploadSpeed</th>\n",
       "      <th>newlyConst</th>\n",
       "      <th>balcony</th>\n",
       "      <th>picturecount</th>\n",
       "      <th>pricetrend</th>\n",
       "      <th>telekomUploadSpeed</th>\n",
       "      <th>totalRent</th>\n",
       "      <th>yearConstructed</th>\n",
       "      <th>scoutId</th>\n",
       "      <th>noParkSpaces</th>\n",
       "      <th>firingTypes</th>\n",
       "      <th>hasKitchen</th>\n",
       "      <th>geo_bln</th>\n",
       "      <th>cellar</th>\n",
       "      <th>yearConstructedRange</th>\n",
       "      <th>baseRent</th>\n",
       "      <th>houseNumber</th>\n",
       "      <th>livingSpace</th>\n",
       "      <th>geo_krs</th>\n",
       "      <th>condition</th>\n",
       "      <th>interiorQual</th>\n",
       "      <th>petsAllowed</th>\n",
       "      <th>street</th>\n",
       "      <th>streetPlain</th>\n",
       "      <th>lift</th>\n",
       "      <th>baseRentRange</th>\n",
       "      <th>typeOfFlat</th>\n",
       "      <th>geo_plz</th>\n",
       "      <th>noRooms</th>\n",
       "      <th>thermalChar</th>\n",
       "      <th>floor</th>\n",
       "      <th>numberOfFloors</th>\n",
       "      <th>noRoomsRange</th>\n",
       "      <th>garden</th>\n",
       "      <th>livingSpaceRange</th>\n",
       "      <th>regio2</th>\n",
       "      <th>regio3</th>\n",
       "      <th>description</th>\n",
       "      <th>facilities</th>\n",
       "      <th>heatingCosts</th>\n",
       "      <th>energyEfficiencyClass</th>\n",
       "      <th>lastRefurbish</th>\n",
       "      <th>electricityBasePrice</th>\n",
       "      <th>electricityKwhPrice</th>\n",
       "      <th>date</th>\n",
       "    </tr>\n",
       "  </thead>\n",
       "  <tbody>\n",
       "    <tr>\n",
       "      <th>0</th>\n",
       "      <td>Nordrhein_Westfalen</td>\n",
       "      <td>245.00</td>\n",
       "      <td>central_heating</td>\n",
       "      <td>ONE_YEAR_FREE</td>\n",
       "      <td>NaN</td>\n",
       "      <td>False</td>\n",
       "      <td>False</td>\n",
       "      <td>6</td>\n",
       "      <td>4.62</td>\n",
       "      <td>10.0</td>\n",
       "      <td>840.00</td>\n",
       "      <td>1965.0</td>\n",
       "      <td>96107057</td>\n",
       "      <td>1.0</td>\n",
       "      <td>oil</td>\n",
       "      <td>False</td>\n",
       "      <td>Nordrhein_Westfalen</td>\n",
       "      <td>True</td>\n",
       "      <td>2.0</td>\n",
       "      <td>595.00</td>\n",
       "      <td>244</td>\n",
       "      <td>86.00</td>\n",
       "      <td>Dortmund</td>\n",
       "      <td>well_kept</td>\n",
       "      <td>normal</td>\n",
       "      <td>NaN</td>\n",
       "      <td>Sch&amp;uuml;ruferstra&amp;szlig;e</td>\n",
       "      <td>Schüruferstraße</td>\n",
       "      <td>False</td>\n",
       "      <td>4</td>\n",
       "      <td>ground_floor</td>\n",
       "      <td>44269</td>\n",
       "      <td>4.0</td>\n",
       "      <td>181.4</td>\n",
       "      <td>1.0</td>\n",
       "      <td>3.0</td>\n",
       "      <td>4</td>\n",
       "      <td>True</td>\n",
       "      <td>4</td>\n",
       "      <td>Dortmund</td>\n",
       "      <td>Schüren</td>\n",
       "      <td>Die ebenerdig zu erreichende Erdgeschosswohnun...</td>\n",
       "      <td>Die Wohnung ist mit Laminat ausgelegt. Das Bad...</td>\n",
       "      <td>NaN</td>\n",
       "      <td>NaN</td>\n",
       "      <td>NaN</td>\n",
       "      <td>NaN</td>\n",
       "      <td>NaN</td>\n",
       "      <td>May19</td>\n",
       "    </tr>\n",
       "    <tr>\n",
       "      <th>1</th>\n",
       "      <td>Rheinland_Pfalz</td>\n",
       "      <td>134.00</td>\n",
       "      <td>self_contained_central_heating</td>\n",
       "      <td>ONE_YEAR_FREE</td>\n",
       "      <td>NaN</td>\n",
       "      <td>False</td>\n",
       "      <td>True</td>\n",
       "      <td>8</td>\n",
       "      <td>3.47</td>\n",
       "      <td>10.0</td>\n",
       "      <td>NaN</td>\n",
       "      <td>1871.0</td>\n",
       "      <td>111378734</td>\n",
       "      <td>2.0</td>\n",
       "      <td>gas</td>\n",
       "      <td>False</td>\n",
       "      <td>Rheinland_Pfalz</td>\n",
       "      <td>False</td>\n",
       "      <td>1.0</td>\n",
       "      <td>800.00</td>\n",
       "      <td>NaN</td>\n",
       "      <td>89.00</td>\n",
       "      <td>Rhein_Pfalz_Kreis</td>\n",
       "      <td>refurbished</td>\n",
       "      <td>normal</td>\n",
       "      <td>no</td>\n",
       "      <td>no_information</td>\n",
       "      <td>NaN</td>\n",
       "      <td>False</td>\n",
       "      <td>5</td>\n",
       "      <td>ground_floor</td>\n",
       "      <td>67459</td>\n",
       "      <td>3.0</td>\n",
       "      <td>NaN</td>\n",
       "      <td>NaN</td>\n",
       "      <td>NaN</td>\n",
       "      <td>3</td>\n",
       "      <td>False</td>\n",
       "      <td>4</td>\n",
       "      <td>Rhein_Pfalz_Kreis</td>\n",
       "      <td>Böhl_Iggelheim</td>\n",
       "      <td>Alles neu macht der Mai – so kann es auch für ...</td>\n",
       "      <td>NaN</td>\n",
       "      <td>NaN</td>\n",
       "      <td>NaN</td>\n",
       "      <td>2019.0</td>\n",
       "      <td>NaN</td>\n",
       "      <td>NaN</td>\n",
       "      <td>May19</td>\n",
       "    </tr>\n",
       "    <tr>\n",
       "      <th>2</th>\n",
       "      <td>Sachsen</td>\n",
       "      <td>255.00</td>\n",
       "      <td>floor_heating</td>\n",
       "      <td>ONE_YEAR_FREE</td>\n",
       "      <td>10.0</td>\n",
       "      <td>True</td>\n",
       "      <td>True</td>\n",
       "      <td>8</td>\n",
       "      <td>2.72</td>\n",
       "      <td>2.4</td>\n",
       "      <td>1300.00</td>\n",
       "      <td>2019.0</td>\n",
       "      <td>113147523</td>\n",
       "      <td>1.0</td>\n",
       "      <td>NaN</td>\n",
       "      <td>False</td>\n",
       "      <td>Sachsen</td>\n",
       "      <td>True</td>\n",
       "      <td>9.0</td>\n",
       "      <td>965.00</td>\n",
       "      <td>4</td>\n",
       "      <td>83.80</td>\n",
       "      <td>Dresden</td>\n",
       "      <td>first_time_use</td>\n",
       "      <td>sophisticated</td>\n",
       "      <td>NaN</td>\n",
       "      <td>Turnerweg</td>\n",
       "      <td>Turnerweg</td>\n",
       "      <td>True</td>\n",
       "      <td>6</td>\n",
       "      <td>apartment</td>\n",
       "      <td>1097</td>\n",
       "      <td>3.0</td>\n",
       "      <td>NaN</td>\n",
       "      <td>3.0</td>\n",
       "      <td>4.0</td>\n",
       "      <td>3</td>\n",
       "      <td>False</td>\n",
       "      <td>4</td>\n",
       "      <td>Dresden</td>\n",
       "      <td>Äußere_Neustadt_Antonstadt</td>\n",
       "      <td>Der Neubau entsteht im Herzen der Dresdner Neu...</td>\n",
       "      <td>* 9 m² Balkon\\n* Bad mit bodengleicher Dusche,...</td>\n",
       "      <td>NaN</td>\n",
       "      <td>NaN</td>\n",
       "      <td>NaN</td>\n",
       "      <td>NaN</td>\n",
       "      <td>NaN</td>\n",
       "      <td>Oct19</td>\n",
       "    </tr>\n",
       "    <tr>\n",
       "      <th>3</th>\n",
       "      <td>Sachsen</td>\n",
       "      <td>58.15</td>\n",
       "      <td>district_heating</td>\n",
       "      <td>ONE_YEAR_FREE</td>\n",
       "      <td>NaN</td>\n",
       "      <td>False</td>\n",
       "      <td>True</td>\n",
       "      <td>9</td>\n",
       "      <td>1.53</td>\n",
       "      <td>40.0</td>\n",
       "      <td>NaN</td>\n",
       "      <td>1964.0</td>\n",
       "      <td>108890903</td>\n",
       "      <td>NaN</td>\n",
       "      <td>district_heating</td>\n",
       "      <td>False</td>\n",
       "      <td>Sachsen</td>\n",
       "      <td>False</td>\n",
       "      <td>2.0</td>\n",
       "      <td>343.00</td>\n",
       "      <td>35</td>\n",
       "      <td>58.15</td>\n",
       "      <td>Mittelsachsen_Kreis</td>\n",
       "      <td>NaN</td>\n",
       "      <td>NaN</td>\n",
       "      <td>NaN</td>\n",
       "      <td>Gl&amp;uuml;ck-Auf-Stra&amp;szlig;e</td>\n",
       "      <td>Glück-Auf-Straße</td>\n",
       "      <td>False</td>\n",
       "      <td>2</td>\n",
       "      <td>other</td>\n",
       "      <td>9599</td>\n",
       "      <td>3.0</td>\n",
       "      <td>86.0</td>\n",
       "      <td>3.0</td>\n",
       "      <td>NaN</td>\n",
       "      <td>3</td>\n",
       "      <td>False</td>\n",
       "      <td>2</td>\n",
       "      <td>Mittelsachsen_Kreis</td>\n",
       "      <td>Freiberg</td>\n",
       "      <td>Abseits von Lärm und Abgasen in Ihre neue Wohn...</td>\n",
       "      <td>NaN</td>\n",
       "      <td>87.23</td>\n",
       "      <td>NaN</td>\n",
       "      <td>NaN</td>\n",
       "      <td>NaN</td>\n",
       "      <td>NaN</td>\n",
       "      <td>May19</td>\n",
       "    </tr>\n",
       "    <tr>\n",
       "      <th>4</th>\n",
       "      <td>Bremen</td>\n",
       "      <td>138.00</td>\n",
       "      <td>self_contained_central_heating</td>\n",
       "      <td>NaN</td>\n",
       "      <td>NaN</td>\n",
       "      <td>False</td>\n",
       "      <td>True</td>\n",
       "      <td>19</td>\n",
       "      <td>2.46</td>\n",
       "      <td>NaN</td>\n",
       "      <td>903.00</td>\n",
       "      <td>1950.0</td>\n",
       "      <td>114751222</td>\n",
       "      <td>NaN</td>\n",
       "      <td>gas</td>\n",
       "      <td>False</td>\n",
       "      <td>Bremen</td>\n",
       "      <td>False</td>\n",
       "      <td>1.0</td>\n",
       "      <td>765.00</td>\n",
       "      <td>10</td>\n",
       "      <td>84.97</td>\n",
       "      <td>Bremen</td>\n",
       "      <td>refurbished</td>\n",
       "      <td>NaN</td>\n",
       "      <td>NaN</td>\n",
       "      <td>Hermann-Henrich-Meier-Allee</td>\n",
       "      <td>Hermann-Henrich-Meier-Allee</td>\n",
       "      <td>False</td>\n",
       "      <td>5</td>\n",
       "      <td>apartment</td>\n",
       "      <td>28213</td>\n",
       "      <td>3.0</td>\n",
       "      <td>188.9</td>\n",
       "      <td>1.0</td>\n",
       "      <td>NaN</td>\n",
       "      <td>3</td>\n",
       "      <td>False</td>\n",
       "      <td>4</td>\n",
       "      <td>Bremen</td>\n",
       "      <td>Neu_Schwachhausen</td>\n",
       "      <td>Es handelt sich hier um ein saniertes Mehrfami...</td>\n",
       "      <td>Diese Wohnung wurde neu saniert und ist wie fo...</td>\n",
       "      <td>NaN</td>\n",
       "      <td>NaN</td>\n",
       "      <td>NaN</td>\n",
       "      <td>NaN</td>\n",
       "      <td>NaN</td>\n",
       "      <td>Feb20</td>\n",
       "    </tr>\n",
       "    <tr>\n",
       "      <th>5</th>\n",
       "      <td>Schleswig_Holstein</td>\n",
       "      <td>142.00</td>\n",
       "      <td>gas_heating</td>\n",
       "      <td>NONE</td>\n",
       "      <td>NaN</td>\n",
       "      <td>False</td>\n",
       "      <td>True</td>\n",
       "      <td>5</td>\n",
       "      <td>4.48</td>\n",
       "      <td>2.4</td>\n",
       "      <td>NaN</td>\n",
       "      <td>1999.0</td>\n",
       "      <td>115531145</td>\n",
       "      <td>NaN</td>\n",
       "      <td>gas</td>\n",
       "      <td>True</td>\n",
       "      <td>Schleswig_Holstein</td>\n",
       "      <td>False</td>\n",
       "      <td>5.0</td>\n",
       "      <td>315.20</td>\n",
       "      <td>1e</td>\n",
       "      <td>53.43</td>\n",
       "      <td>Schleswig_Flensburg_Kreis</td>\n",
       "      <td>well_kept</td>\n",
       "      <td>NaN</td>\n",
       "      <td>no</td>\n",
       "      <td>Hardeseiche</td>\n",
       "      <td>Hardeseiche</td>\n",
       "      <td>False</td>\n",
       "      <td>2</td>\n",
       "      <td>apartment</td>\n",
       "      <td>24891</td>\n",
       "      <td>2.0</td>\n",
       "      <td>165.0</td>\n",
       "      <td>NaN</td>\n",
       "      <td>NaN</td>\n",
       "      <td>2</td>\n",
       "      <td>False</td>\n",
       "      <td>2</td>\n",
       "      <td>Schleswig_Flensburg_Kreis</td>\n",
       "      <td>Struxdorf</td>\n",
       "      <td>NaN</td>\n",
       "      <td>helle ebenerdige 2 Zi. Wohnung mit Terrasse, h...</td>\n",
       "      <td>NaN</td>\n",
       "      <td>NaN</td>\n",
       "      <td>NaN</td>\n",
       "      <td>NaN</td>\n",
       "      <td>NaN</td>\n",
       "      <td>Feb20</td>\n",
       "    </tr>\n",
       "    <tr>\n",
       "      <th>6</th>\n",
       "      <td>Sachsen</td>\n",
       "      <td>70.00</td>\n",
       "      <td>self_contained_central_heating</td>\n",
       "      <td>ONE_YEAR_FREE</td>\n",
       "      <td>10.0</td>\n",
       "      <td>False</td>\n",
       "      <td>False</td>\n",
       "      <td>9</td>\n",
       "      <td>1.01</td>\n",
       "      <td>2.4</td>\n",
       "      <td>380.00</td>\n",
       "      <td>NaN</td>\n",
       "      <td>114391930</td>\n",
       "      <td>NaN</td>\n",
       "      <td>NaN</td>\n",
       "      <td>False</td>\n",
       "      <td>Sachsen</td>\n",
       "      <td>True</td>\n",
       "      <td>NaN</td>\n",
       "      <td>310.00</td>\n",
       "      <td>14</td>\n",
       "      <td>62.00</td>\n",
       "      <td>Mittelsachsen_Kreis</td>\n",
       "      <td>fully_renovated</td>\n",
       "      <td>NaN</td>\n",
       "      <td>NaN</td>\n",
       "      <td>Am Bahnhof</td>\n",
       "      <td>Am_Bahnhof</td>\n",
       "      <td>False</td>\n",
       "      <td>2</td>\n",
       "      <td>NaN</td>\n",
       "      <td>9599</td>\n",
       "      <td>2.0</td>\n",
       "      <td>NaN</td>\n",
       "      <td>1.0</td>\n",
       "      <td>4.0</td>\n",
       "      <td>2</td>\n",
       "      <td>True</td>\n",
       "      <td>3</td>\n",
       "      <td>Mittelsachsen_Kreis</td>\n",
       "      <td>Freiberg</td>\n",
       "      <td>Am Bahnhof 14 in Freiberg\\nHeizkosten und Warm...</td>\n",
       "      <td>NaN</td>\n",
       "      <td>NaN</td>\n",
       "      <td>NaN</td>\n",
       "      <td>NaN</td>\n",
       "      <td>NaN</td>\n",
       "      <td>NaN</td>\n",
       "      <td>Feb20</td>\n",
       "    </tr>\n",
       "    <tr>\n",
       "      <th>7</th>\n",
       "      <td>Bremen</td>\n",
       "      <td>88.00</td>\n",
       "      <td>central_heating</td>\n",
       "      <td>ONE_YEAR_FREE</td>\n",
       "      <td>10.0</td>\n",
       "      <td>False</td>\n",
       "      <td>True</td>\n",
       "      <td>5</td>\n",
       "      <td>1.89</td>\n",
       "      <td>2.4</td>\n",
       "      <td>584.25</td>\n",
       "      <td>1959.0</td>\n",
       "      <td>115270775</td>\n",
       "      <td>NaN</td>\n",
       "      <td>gas:electricity</td>\n",
       "      <td>False</td>\n",
       "      <td>Bremen</td>\n",
       "      <td>True</td>\n",
       "      <td>2.0</td>\n",
       "      <td>452.25</td>\n",
       "      <td>35</td>\n",
       "      <td>60.30</td>\n",
       "      <td>Bremen</td>\n",
       "      <td>NaN</td>\n",
       "      <td>NaN</td>\n",
       "      <td>NaN</td>\n",
       "      <td>Lesumer Heerstr.</td>\n",
       "      <td>Lesumer_Heerstr.</td>\n",
       "      <td>False</td>\n",
       "      <td>3</td>\n",
       "      <td>ground_floor</td>\n",
       "      <td>28717</td>\n",
       "      <td>3.0</td>\n",
       "      <td>63.0</td>\n",
       "      <td>NaN</td>\n",
       "      <td>NaN</td>\n",
       "      <td>3</td>\n",
       "      <td>False</td>\n",
       "      <td>2</td>\n",
       "      <td>Bremen</td>\n",
       "      <td>St._Magnus</td>\n",
       "      <td>+ Komfortabler Bodenbelag: Die Wohnung ist zus...</td>\n",
       "      <td>Rollläden; Warmwasserbereiter; Kellerraum; Gas...</td>\n",
       "      <td>44.00</td>\n",
       "      <td>B</td>\n",
       "      <td>NaN</td>\n",
       "      <td>NaN</td>\n",
       "      <td>NaN</td>\n",
       "      <td>Feb20</td>\n",
       "    </tr>\n",
       "    <tr>\n",
       "      <th>8</th>\n",
       "      <td>Baden_Württemberg</td>\n",
       "      <td>110.00</td>\n",
       "      <td>oil_heating</td>\n",
       "      <td>ONE_YEAR_FREE</td>\n",
       "      <td>NaN</td>\n",
       "      <td>False</td>\n",
       "      <td>False</td>\n",
       "      <td>5</td>\n",
       "      <td>3.77</td>\n",
       "      <td>40.0</td>\n",
       "      <td>690.00</td>\n",
       "      <td>1970.0</td>\n",
       "      <td>106416361</td>\n",
       "      <td>1.0</td>\n",
       "      <td>oil</td>\n",
       "      <td>True</td>\n",
       "      <td>Baden_Württemberg</td>\n",
       "      <td>True</td>\n",
       "      <td>2.0</td>\n",
       "      <td>580.00</td>\n",
       "      <td>NaN</td>\n",
       "      <td>53.00</td>\n",
       "      <td>Emmendingen_Kreis</td>\n",
       "      <td>well_kept</td>\n",
       "      <td>sophisticated</td>\n",
       "      <td>no</td>\n",
       "      <td>no_information</td>\n",
       "      <td>NaN</td>\n",
       "      <td>False</td>\n",
       "      <td>4</td>\n",
       "      <td>roof_storey</td>\n",
       "      <td>79211</td>\n",
       "      <td>2.0</td>\n",
       "      <td>138.0</td>\n",
       "      <td>2.0</td>\n",
       "      <td>2.0</td>\n",
       "      <td>2</td>\n",
       "      <td>False</td>\n",
       "      <td>2</td>\n",
       "      <td>Emmendingen_Kreis</td>\n",
       "      <td>Denzlingen</td>\n",
       "      <td>Diese ansprechende, lichtdurchflutete DG-Wohnu...</td>\n",
       "      <td>Parkett, Einbauküche, kein Balkon</td>\n",
       "      <td>NaN</td>\n",
       "      <td>E</td>\n",
       "      <td>NaN</td>\n",
       "      <td>NaN</td>\n",
       "      <td>NaN</td>\n",
       "      <td>Feb20</td>\n",
       "    </tr>\n",
       "    <tr>\n",
       "      <th>9</th>\n",
       "      <td>Nordrhein_Westfalen</td>\n",
       "      <td>95.00</td>\n",
       "      <td>self_contained_central_heating</td>\n",
       "      <td>ONE_YEAR_FREE</td>\n",
       "      <td>NaN</td>\n",
       "      <td>False</td>\n",
       "      <td>False</td>\n",
       "      <td>7</td>\n",
       "      <td>1.92</td>\n",
       "      <td>40.0</td>\n",
       "      <td>NaN</td>\n",
       "      <td>1953.0</td>\n",
       "      <td>91383597</td>\n",
       "      <td>NaN</td>\n",
       "      <td>gas</td>\n",
       "      <td>False</td>\n",
       "      <td>Nordrhein_Westfalen</td>\n",
       "      <td>True</td>\n",
       "      <td>2.0</td>\n",
       "      <td>300.00</td>\n",
       "      <td>30</td>\n",
       "      <td>60.00</td>\n",
       "      <td>Gelsenkirchen</td>\n",
       "      <td>well_kept</td>\n",
       "      <td>normal</td>\n",
       "      <td>negotiable</td>\n",
       "      <td>H&amp;uuml;ttenstr.</td>\n",
       "      <td>Hüttenstr.</td>\n",
       "      <td>False</td>\n",
       "      <td>1</td>\n",
       "      <td>apartment</td>\n",
       "      <td>45888</td>\n",
       "      <td>2.5</td>\n",
       "      <td>207.7</td>\n",
       "      <td>2.0</td>\n",
       "      <td>5.0</td>\n",
       "      <td>2</td>\n",
       "      <td>False</td>\n",
       "      <td>2</td>\n",
       "      <td>Gelsenkirchen</td>\n",
       "      <td>Bulmke_Hüllen</td>\n",
       "      <td>Sie sind auf der Suche nach einer gepflegten u...</td>\n",
       "      <td>In Ihrem neuen Zuhause können Sie nach wenigen...</td>\n",
       "      <td>NaN</td>\n",
       "      <td>NaN</td>\n",
       "      <td>NaN</td>\n",
       "      <td>NaN</td>\n",
       "      <td>NaN</td>\n",
       "      <td>Oct19</td>\n",
       "    </tr>\n",
       "  </tbody>\n",
       "</table>\n",
       "</div>"
      ],
      "text/plain": [
       "                regio1  serviceCharge                     heatingType  \\\n",
       "0  Nordrhein_Westfalen         245.00                 central_heating   \n",
       "1      Rheinland_Pfalz         134.00  self_contained_central_heating   \n",
       "2              Sachsen         255.00                   floor_heating   \n",
       "3              Sachsen          58.15                district_heating   \n",
       "4               Bremen         138.00  self_contained_central_heating   \n",
       "5   Schleswig_Holstein         142.00                     gas_heating   \n",
       "6              Sachsen          70.00  self_contained_central_heating   \n",
       "7               Bremen          88.00                 central_heating   \n",
       "8    Baden_Württemberg         110.00                     oil_heating   \n",
       "9  Nordrhein_Westfalen          95.00  self_contained_central_heating   \n",
       "\n",
       "  telekomTvOffer  telekomHybridUploadSpeed  newlyConst  balcony  picturecount  \\\n",
       "0  ONE_YEAR_FREE                       NaN       False    False             6   \n",
       "1  ONE_YEAR_FREE                       NaN       False     True             8   \n",
       "2  ONE_YEAR_FREE                      10.0        True     True             8   \n",
       "3  ONE_YEAR_FREE                       NaN       False     True             9   \n",
       "4            NaN                       NaN       False     True            19   \n",
       "5           NONE                       NaN       False     True             5   \n",
       "6  ONE_YEAR_FREE                      10.0       False    False             9   \n",
       "7  ONE_YEAR_FREE                      10.0       False     True             5   \n",
       "8  ONE_YEAR_FREE                       NaN       False    False             5   \n",
       "9  ONE_YEAR_FREE                       NaN       False    False             7   \n",
       "\n",
       "   pricetrend  telekomUploadSpeed  totalRent  yearConstructed    scoutId  \\\n",
       "0        4.62                10.0     840.00           1965.0   96107057   \n",
       "1        3.47                10.0        NaN           1871.0  111378734   \n",
       "2        2.72                 2.4    1300.00           2019.0  113147523   \n",
       "3        1.53                40.0        NaN           1964.0  108890903   \n",
       "4        2.46                 NaN     903.00           1950.0  114751222   \n",
       "5        4.48                 2.4        NaN           1999.0  115531145   \n",
       "6        1.01                 2.4     380.00              NaN  114391930   \n",
       "7        1.89                 2.4     584.25           1959.0  115270775   \n",
       "8        3.77                40.0     690.00           1970.0  106416361   \n",
       "9        1.92                40.0        NaN           1953.0   91383597   \n",
       "\n",
       "   noParkSpaces       firingTypes  hasKitchen              geo_bln  cellar  \\\n",
       "0           1.0               oil       False  Nordrhein_Westfalen    True   \n",
       "1           2.0               gas       False      Rheinland_Pfalz   False   \n",
       "2           1.0               NaN       False              Sachsen    True   \n",
       "3           NaN  district_heating       False              Sachsen   False   \n",
       "4           NaN               gas       False               Bremen   False   \n",
       "5           NaN               gas        True   Schleswig_Holstein   False   \n",
       "6           NaN               NaN       False              Sachsen    True   \n",
       "7           NaN   gas:electricity       False               Bremen    True   \n",
       "8           1.0               oil        True    Baden_Württemberg    True   \n",
       "9           NaN               gas       False  Nordrhein_Westfalen    True   \n",
       "\n",
       "   yearConstructedRange  baseRent houseNumber  livingSpace  \\\n",
       "0                   2.0    595.00         244        86.00   \n",
       "1                   1.0    800.00         NaN        89.00   \n",
       "2                   9.0    965.00           4        83.80   \n",
       "3                   2.0    343.00          35        58.15   \n",
       "4                   1.0    765.00          10        84.97   \n",
       "5                   5.0    315.20          1e        53.43   \n",
       "6                   NaN    310.00          14        62.00   \n",
       "7                   2.0    452.25          35        60.30   \n",
       "8                   2.0    580.00         NaN        53.00   \n",
       "9                   2.0    300.00          30        60.00   \n",
       "\n",
       "                     geo_krs        condition   interiorQual petsAllowed  \\\n",
       "0                   Dortmund        well_kept         normal         NaN   \n",
       "1          Rhein_Pfalz_Kreis      refurbished         normal          no   \n",
       "2                    Dresden   first_time_use  sophisticated         NaN   \n",
       "3        Mittelsachsen_Kreis              NaN            NaN         NaN   \n",
       "4                     Bremen      refurbished            NaN         NaN   \n",
       "5  Schleswig_Flensburg_Kreis        well_kept            NaN          no   \n",
       "6        Mittelsachsen_Kreis  fully_renovated            NaN         NaN   \n",
       "7                     Bremen              NaN            NaN         NaN   \n",
       "8          Emmendingen_Kreis        well_kept  sophisticated          no   \n",
       "9              Gelsenkirchen        well_kept         normal  negotiable   \n",
       "\n",
       "                        street                  streetPlain   lift  \\\n",
       "0   Sch&uuml;ruferstra&szlig;e              Schüruferstraße  False   \n",
       "1               no_information                          NaN  False   \n",
       "2                    Turnerweg                    Turnerweg   True   \n",
       "3  Gl&uuml;ck-Auf-Stra&szlig;e             Glück-Auf-Straße  False   \n",
       "4  Hermann-Henrich-Meier-Allee  Hermann-Henrich-Meier-Allee  False   \n",
       "5                  Hardeseiche                  Hardeseiche  False   \n",
       "6                   Am Bahnhof                   Am_Bahnhof  False   \n",
       "7             Lesumer Heerstr.             Lesumer_Heerstr.  False   \n",
       "8               no_information                          NaN  False   \n",
       "9              H&uuml;ttenstr.                   Hüttenstr.  False   \n",
       "\n",
       "   baseRentRange    typeOfFlat  geo_plz  noRooms  thermalChar  floor  \\\n",
       "0              4  ground_floor    44269      4.0        181.4    1.0   \n",
       "1              5  ground_floor    67459      3.0          NaN    NaN   \n",
       "2              6     apartment     1097      3.0          NaN    3.0   \n",
       "3              2         other     9599      3.0         86.0    3.0   \n",
       "4              5     apartment    28213      3.0        188.9    1.0   \n",
       "5              2     apartment    24891      2.0        165.0    NaN   \n",
       "6              2           NaN     9599      2.0          NaN    1.0   \n",
       "7              3  ground_floor    28717      3.0         63.0    NaN   \n",
       "8              4   roof_storey    79211      2.0        138.0    2.0   \n",
       "9              1     apartment    45888      2.5        207.7    2.0   \n",
       "\n",
       "   numberOfFloors  noRoomsRange  garden  livingSpaceRange  \\\n",
       "0             3.0             4    True                 4   \n",
       "1             NaN             3   False                 4   \n",
       "2             4.0             3   False                 4   \n",
       "3             NaN             3   False                 2   \n",
       "4             NaN             3   False                 4   \n",
       "5             NaN             2   False                 2   \n",
       "6             4.0             2    True                 3   \n",
       "7             NaN             3   False                 2   \n",
       "8             2.0             2   False                 2   \n",
       "9             5.0             2   False                 2   \n",
       "\n",
       "                      regio2                      regio3  \\\n",
       "0                   Dortmund                     Schüren   \n",
       "1          Rhein_Pfalz_Kreis              Böhl_Iggelheim   \n",
       "2                    Dresden  Äußere_Neustadt_Antonstadt   \n",
       "3        Mittelsachsen_Kreis                    Freiberg   \n",
       "4                     Bremen           Neu_Schwachhausen   \n",
       "5  Schleswig_Flensburg_Kreis                   Struxdorf   \n",
       "6        Mittelsachsen_Kreis                    Freiberg   \n",
       "7                     Bremen                  St._Magnus   \n",
       "8          Emmendingen_Kreis                  Denzlingen   \n",
       "9              Gelsenkirchen               Bulmke_Hüllen   \n",
       "\n",
       "                                         description  \\\n",
       "0  Die ebenerdig zu erreichende Erdgeschosswohnun...   \n",
       "1  Alles neu macht der Mai – so kann es auch für ...   \n",
       "2  Der Neubau entsteht im Herzen der Dresdner Neu...   \n",
       "3  Abseits von Lärm und Abgasen in Ihre neue Wohn...   \n",
       "4  Es handelt sich hier um ein saniertes Mehrfami...   \n",
       "5                                                NaN   \n",
       "6  Am Bahnhof 14 in Freiberg\\nHeizkosten und Warm...   \n",
       "7  + Komfortabler Bodenbelag: Die Wohnung ist zus...   \n",
       "8  Diese ansprechende, lichtdurchflutete DG-Wohnu...   \n",
       "9  Sie sind auf der Suche nach einer gepflegten u...   \n",
       "\n",
       "                                          facilities  heatingCosts  \\\n",
       "0  Die Wohnung ist mit Laminat ausgelegt. Das Bad...           NaN   \n",
       "1                                                NaN           NaN   \n",
       "2  * 9 m² Balkon\\n* Bad mit bodengleicher Dusche,...           NaN   \n",
       "3                                                NaN         87.23   \n",
       "4  Diese Wohnung wurde neu saniert und ist wie fo...           NaN   \n",
       "5  helle ebenerdige 2 Zi. Wohnung mit Terrasse, h...           NaN   \n",
       "6                                                NaN           NaN   \n",
       "7  Rollläden; Warmwasserbereiter; Kellerraum; Gas...         44.00   \n",
       "8                  Parkett, Einbauküche, kein Balkon           NaN   \n",
       "9  In Ihrem neuen Zuhause können Sie nach wenigen...           NaN   \n",
       "\n",
       "  energyEfficiencyClass  lastRefurbish  electricityBasePrice  \\\n",
       "0                   NaN            NaN                   NaN   \n",
       "1                   NaN         2019.0                   NaN   \n",
       "2                   NaN            NaN                   NaN   \n",
       "3                   NaN            NaN                   NaN   \n",
       "4                   NaN            NaN                   NaN   \n",
       "5                   NaN            NaN                   NaN   \n",
       "6                   NaN            NaN                   NaN   \n",
       "7                     B            NaN                   NaN   \n",
       "8                     E            NaN                   NaN   \n",
       "9                   NaN            NaN                   NaN   \n",
       "\n",
       "   electricityKwhPrice   date  \n",
       "0                  NaN  May19  \n",
       "1                  NaN  May19  \n",
       "2                  NaN  Oct19  \n",
       "3                  NaN  May19  \n",
       "4                  NaN  Feb20  \n",
       "5                  NaN  Feb20  \n",
       "6                  NaN  Feb20  \n",
       "7                  NaN  Feb20  \n",
       "8                  NaN  Feb20  \n",
       "9                  NaN  Oct19  "
      ]
     },
     "execution_count": 104,
     "metadata": {},
     "output_type": "execute_result"
    }
   ],
   "source": [
    "df.head(10)"
   ]
  },
  {
   "cell_type": "code",
   "execution_count": 105,
   "id": "50a419ff",
   "metadata": {
    "papermill": {
     "duration": 0.689552,
     "end_time": "2021-11-30T18:37:39.262761",
     "exception": false,
     "start_time": "2021-11-30T18:37:38.573209",
     "status": "completed"
    },
    "tags": []
   },
   "outputs": [
    {
     "name": "stdout",
     "output_type": "stream",
     "text": [
      "<class 'pandas.core.frame.DataFrame'>\n",
      "RangeIndex: 268850 entries, 0 to 268849\n",
      "Data columns (total 49 columns):\n",
      " #   Column                    Non-Null Count   Dtype  \n",
      "---  ------                    --------------   -----  \n",
      " 0   regio1                    268850 non-null  object \n",
      " 1   serviceCharge             261941 non-null  float64\n",
      " 2   heatingType               223994 non-null  object \n",
      " 3   telekomTvOffer            236231 non-null  object \n",
      " 4   telekomHybridUploadSpeed  45020 non-null   float64\n",
      " 5   newlyConst                268850 non-null  bool   \n",
      " 6   balcony                   268850 non-null  bool   \n",
      " 7   picturecount              268850 non-null  int64  \n",
      " 8   pricetrend                267018 non-null  float64\n",
      " 9   telekomUploadSpeed        235492 non-null  float64\n",
      " 10  totalRent                 228333 non-null  float64\n",
      " 11  yearConstructed           211805 non-null  float64\n",
      " 12  scoutId                   268850 non-null  int64  \n",
      " 13  noParkSpaces              93052 non-null   float64\n",
      " 14  firingTypes               211886 non-null  object \n",
      " 15  hasKitchen                268850 non-null  bool   \n",
      " 16  geo_bln                   268850 non-null  object \n",
      " 17  cellar                    268850 non-null  bool   \n",
      " 18  yearConstructedRange      211805 non-null  float64\n",
      " 19  baseRent                  268850 non-null  float64\n",
      " 20  houseNumber               197832 non-null  object \n",
      " 21  livingSpace               268850 non-null  float64\n",
      " 22  geo_krs                   268850 non-null  object \n",
      " 23  condition                 200361 non-null  object \n",
      " 24  interiorQual              156185 non-null  object \n",
      " 25  petsAllowed               154277 non-null  object \n",
      " 26  street                    268850 non-null  object \n",
      " 27  streetPlain               197837 non-null  object \n",
      " 28  lift                      268850 non-null  bool   \n",
      " 29  baseRentRange             268850 non-null  int64  \n",
      " 30  typeOfFlat                232236 non-null  object \n",
      " 31  geo_plz                   268850 non-null  int64  \n",
      " 32  noRooms                   268850 non-null  float64\n",
      " 33  thermalChar               162344 non-null  float64\n",
      " 34  floor                     217541 non-null  float64\n",
      " 35  numberOfFloors            171118 non-null  float64\n",
      " 36  noRoomsRange              268850 non-null  int64  \n",
      " 37  garden                    268850 non-null  bool   \n",
      " 38  livingSpaceRange          268850 non-null  int64  \n",
      " 39  regio2                    268850 non-null  object \n",
      " 40  regio3                    268850 non-null  object \n",
      " 41  description               249103 non-null  object \n",
      " 42  facilities                215926 non-null  object \n",
      " 43  heatingCosts              85518 non-null   float64\n",
      " 44  energyEfficiencyClass     77787 non-null   object \n",
      " 45  lastRefurbish             80711 non-null   float64\n",
      " 46  electricityBasePrice      46846 non-null   float64\n",
      " 47  electricityKwhPrice       46846 non-null   float64\n",
      " 48  date                      268850 non-null  object \n",
      "dtypes: bool(6), float64(18), int64(6), object(19)\n",
      "memory usage: 89.7+ MB\n"
     ]
    }
   ],
   "source": [
    "df.info()"
   ]
  },
  {
   "cell_type": "code",
   "execution_count": 106,
   "id": "03bbb350",
   "metadata": {
    "papermill": {
     "duration": 0.406392,
     "end_time": "2021-11-30T18:37:39.755837",
     "exception": false,
     "start_time": "2021-11-30T18:37:39.349445",
     "status": "completed"
    },
    "tags": []
   },
   "outputs": [
    {
     "data": {
      "text/html": [
       "<div>\n",
       "<style scoped>\n",
       "    .dataframe tbody tr th:only-of-type {\n",
       "        vertical-align: middle;\n",
       "    }\n",
       "\n",
       "    .dataframe tbody tr th {\n",
       "        vertical-align: top;\n",
       "    }\n",
       "\n",
       "    .dataframe thead th {\n",
       "        text-align: right;\n",
       "    }\n",
       "</style>\n",
       "<table border=\"1\" class=\"dataframe\">\n",
       "  <thead>\n",
       "    <tr style=\"text-align: right;\">\n",
       "      <th></th>\n",
       "      <th>serviceCharge</th>\n",
       "      <th>telekomHybridUploadSpeed</th>\n",
       "      <th>picturecount</th>\n",
       "      <th>pricetrend</th>\n",
       "      <th>telekomUploadSpeed</th>\n",
       "      <th>totalRent</th>\n",
       "      <th>yearConstructed</th>\n",
       "      <th>scoutId</th>\n",
       "      <th>noParkSpaces</th>\n",
       "      <th>yearConstructedRange</th>\n",
       "      <th>baseRent</th>\n",
       "      <th>livingSpace</th>\n",
       "      <th>baseRentRange</th>\n",
       "      <th>geo_plz</th>\n",
       "      <th>noRooms</th>\n",
       "      <th>thermalChar</th>\n",
       "      <th>floor</th>\n",
       "      <th>numberOfFloors</th>\n",
       "      <th>noRoomsRange</th>\n",
       "      <th>livingSpaceRange</th>\n",
       "      <th>heatingCosts</th>\n",
       "      <th>lastRefurbish</th>\n",
       "      <th>electricityBasePrice</th>\n",
       "      <th>electricityKwhPrice</th>\n",
       "    </tr>\n",
       "  </thead>\n",
       "  <tbody>\n",
       "    <tr>\n",
       "      <th>count</th>\n",
       "      <td>261941.000000</td>\n",
       "      <td>45020.0</td>\n",
       "      <td>268850.000000</td>\n",
       "      <td>267018.000000</td>\n",
       "      <td>235492.000000</td>\n",
       "      <td>2.283330e+05</td>\n",
       "      <td>211805.000000</td>\n",
       "      <td>2.688500e+05</td>\n",
       "      <td>93052.000000</td>\n",
       "      <td>211805.000000</td>\n",
       "      <td>2.688500e+05</td>\n",
       "      <td>268850.000000</td>\n",
       "      <td>268850.000000</td>\n",
       "      <td>268850.000000</td>\n",
       "      <td>268850.000000</td>\n",
       "      <td>162344.000000</td>\n",
       "      <td>217541.000000</td>\n",
       "      <td>171118.000000</td>\n",
       "      <td>268850.000000</td>\n",
       "      <td>268850.000000</td>\n",
       "      <td>85518.000000</td>\n",
       "      <td>80711.000000</td>\n",
       "      <td>46846.000000</td>\n",
       "      <td>46846.000000</td>\n",
       "    </tr>\n",
       "    <tr>\n",
       "      <th>mean</th>\n",
       "      <td>151.206113</td>\n",
       "      <td>10.0</td>\n",
       "      <td>9.791958</td>\n",
       "      <td>3.389001</td>\n",
       "      <td>28.804928</td>\n",
       "      <td>9.013315e+02</td>\n",
       "      <td>1966.400590</td>\n",
       "      <td>1.069697e+08</td>\n",
       "      <td>1.327634</td>\n",
       "      <td>3.714544</td>\n",
       "      <td>6.941294e+02</td>\n",
       "      <td>74.355548</td>\n",
       "      <td>3.765256</td>\n",
       "      <td>37283.022235</td>\n",
       "      <td>2.641261</td>\n",
       "      <td>114.749533</td>\n",
       "      <td>2.122405</td>\n",
       "      <td>3.572319</td>\n",
       "      <td>2.571542</td>\n",
       "      <td>3.070790</td>\n",
       "      <td>76.990866</td>\n",
       "      <td>2013.904536</td>\n",
       "      <td>89.113612</td>\n",
       "      <td>0.199769</td>\n",
       "    </tr>\n",
       "    <tr>\n",
       "      <th>std</th>\n",
       "      <td>308.295790</td>\n",
       "      <td>0.0</td>\n",
       "      <td>6.408399</td>\n",
       "      <td>1.964874</td>\n",
       "      <td>16.337151</td>\n",
       "      <td>3.323833e+04</td>\n",
       "      <td>46.992207</td>\n",
       "      <td>1.250093e+07</td>\n",
       "      <td>8.361403</td>\n",
       "      <td>2.738134</td>\n",
       "      <td>1.953602e+04</td>\n",
       "      <td>254.759208</td>\n",
       "      <td>2.214357</td>\n",
       "      <td>27798.037296</td>\n",
       "      <td>2.633440</td>\n",
       "      <td>61.653663</td>\n",
       "      <td>3.634934</td>\n",
       "      <td>6.375496</td>\n",
       "      <td>0.937594</td>\n",
       "      <td>1.407127</td>\n",
       "      <td>147.716278</td>\n",
       "      <td>10.963125</td>\n",
       "      <td>5.395805</td>\n",
       "      <td>0.009667</td>\n",
       "    </tr>\n",
       "    <tr>\n",
       "      <th>min</th>\n",
       "      <td>0.000000</td>\n",
       "      <td>10.0</td>\n",
       "      <td>0.000000</td>\n",
       "      <td>-12.330000</td>\n",
       "      <td>1.000000</td>\n",
       "      <td>0.000000e+00</td>\n",
       "      <td>1000.000000</td>\n",
       "      <td>2.887174e+07</td>\n",
       "      <td>0.000000</td>\n",
       "      <td>1.000000</td>\n",
       "      <td>0.000000e+00</td>\n",
       "      <td>0.000000</td>\n",
       "      <td>1.000000</td>\n",
       "      <td>852.000000</td>\n",
       "      <td>1.000000</td>\n",
       "      <td>0.100000</td>\n",
       "      <td>-1.000000</td>\n",
       "      <td>0.000000</td>\n",
       "      <td>1.000000</td>\n",
       "      <td>1.000000</td>\n",
       "      <td>0.000000</td>\n",
       "      <td>1015.000000</td>\n",
       "      <td>71.430000</td>\n",
       "      <td>0.170500</td>\n",
       "    </tr>\n",
       "    <tr>\n",
       "      <th>25%</th>\n",
       "      <td>95.000000</td>\n",
       "      <td>10.0</td>\n",
       "      <td>6.000000</td>\n",
       "      <td>2.000000</td>\n",
       "      <td>10.000000</td>\n",
       "      <td>4.698000e+02</td>\n",
       "      <td>1950.000000</td>\n",
       "      <td>1.066910e+08</td>\n",
       "      <td>1.000000</td>\n",
       "      <td>1.000000</td>\n",
       "      <td>3.380000e+02</td>\n",
       "      <td>54.000000</td>\n",
       "      <td>2.000000</td>\n",
       "      <td>9128.000000</td>\n",
       "      <td>2.000000</td>\n",
       "      <td>79.000000</td>\n",
       "      <td>1.000000</td>\n",
       "      <td>2.000000</td>\n",
       "      <td>2.000000</td>\n",
       "      <td>2.000000</td>\n",
       "      <td>54.000000</td>\n",
       "      <td>2012.000000</td>\n",
       "      <td>90.760000</td>\n",
       "      <td>0.191500</td>\n",
       "    </tr>\n",
       "    <tr>\n",
       "      <th>50%</th>\n",
       "      <td>135.000000</td>\n",
       "      <td>10.0</td>\n",
       "      <td>9.000000</td>\n",
       "      <td>3.390000</td>\n",
       "      <td>40.000000</td>\n",
       "      <td>6.500000e+02</td>\n",
       "      <td>1973.000000</td>\n",
       "      <td>1.111584e+08</td>\n",
       "      <td>1.000000</td>\n",
       "      <td>3.000000</td>\n",
       "      <td>4.900000e+02</td>\n",
       "      <td>67.320000</td>\n",
       "      <td>3.000000</td>\n",
       "      <td>38667.000000</td>\n",
       "      <td>3.000000</td>\n",
       "      <td>107.000000</td>\n",
       "      <td>2.000000</td>\n",
       "      <td>3.000000</td>\n",
       "      <td>3.000000</td>\n",
       "      <td>3.000000</td>\n",
       "      <td>70.000000</td>\n",
       "      <td>2017.000000</td>\n",
       "      <td>90.760000</td>\n",
       "      <td>0.198500</td>\n",
       "    </tr>\n",
       "    <tr>\n",
       "      <th>75%</th>\n",
       "      <td>190.000000</td>\n",
       "      <td>10.0</td>\n",
       "      <td>13.000000</td>\n",
       "      <td>4.570000</td>\n",
       "      <td>40.000000</td>\n",
       "      <td>9.850000e+02</td>\n",
       "      <td>1996.000000</td>\n",
       "      <td>1.137688e+08</td>\n",
       "      <td>1.000000</td>\n",
       "      <td>5.000000</td>\n",
       "      <td>7.990000e+02</td>\n",
       "      <td>87.000000</td>\n",
       "      <td>5.000000</td>\n",
       "      <td>57072.000000</td>\n",
       "      <td>3.000000</td>\n",
       "      <td>140.300000</td>\n",
       "      <td>3.000000</td>\n",
       "      <td>4.000000</td>\n",
       "      <td>3.000000</td>\n",
       "      <td>4.000000</td>\n",
       "      <td>90.000000</td>\n",
       "      <td>2019.000000</td>\n",
       "      <td>90.760000</td>\n",
       "      <td>0.205500</td>\n",
       "    </tr>\n",
       "    <tr>\n",
       "      <th>max</th>\n",
       "      <td>146118.000000</td>\n",
       "      <td>10.0</td>\n",
       "      <td>121.000000</td>\n",
       "      <td>14.920000</td>\n",
       "      <td>100.000000</td>\n",
       "      <td>1.575154e+07</td>\n",
       "      <td>2090.000000</td>\n",
       "      <td>1.157117e+08</td>\n",
       "      <td>2241.000000</td>\n",
       "      <td>9.000000</td>\n",
       "      <td>9.999999e+06</td>\n",
       "      <td>111111.000000</td>\n",
       "      <td>9.000000</td>\n",
       "      <td>99998.000000</td>\n",
       "      <td>999.990000</td>\n",
       "      <td>1996.000000</td>\n",
       "      <td>999.000000</td>\n",
       "      <td>999.000000</td>\n",
       "      <td>5.000000</td>\n",
       "      <td>7.000000</td>\n",
       "      <td>12613.000000</td>\n",
       "      <td>2919.000000</td>\n",
       "      <td>90.760000</td>\n",
       "      <td>0.227600</td>\n",
       "    </tr>\n",
       "  </tbody>\n",
       "</table>\n",
       "</div>"
      ],
      "text/plain": [
       "       serviceCharge  telekomHybridUploadSpeed   picturecount     pricetrend  \\\n",
       "count  261941.000000                   45020.0  268850.000000  267018.000000   \n",
       "mean      151.206113                      10.0       9.791958       3.389001   \n",
       "std       308.295790                       0.0       6.408399       1.964874   \n",
       "min         0.000000                      10.0       0.000000     -12.330000   \n",
       "25%        95.000000                      10.0       6.000000       2.000000   \n",
       "50%       135.000000                      10.0       9.000000       3.390000   \n",
       "75%       190.000000                      10.0      13.000000       4.570000   \n",
       "max    146118.000000                      10.0     121.000000      14.920000   \n",
       "\n",
       "       telekomUploadSpeed     totalRent  yearConstructed       scoutId  \\\n",
       "count       235492.000000  2.283330e+05    211805.000000  2.688500e+05   \n",
       "mean            28.804928  9.013315e+02      1966.400590  1.069697e+08   \n",
       "std             16.337151  3.323833e+04        46.992207  1.250093e+07   \n",
       "min              1.000000  0.000000e+00      1000.000000  2.887174e+07   \n",
       "25%             10.000000  4.698000e+02      1950.000000  1.066910e+08   \n",
       "50%             40.000000  6.500000e+02      1973.000000  1.111584e+08   \n",
       "75%             40.000000  9.850000e+02      1996.000000  1.137688e+08   \n",
       "max            100.000000  1.575154e+07      2090.000000  1.157117e+08   \n",
       "\n",
       "       noParkSpaces  yearConstructedRange      baseRent    livingSpace  \\\n",
       "count  93052.000000         211805.000000  2.688500e+05  268850.000000   \n",
       "mean       1.327634              3.714544  6.941294e+02      74.355548   \n",
       "std        8.361403              2.738134  1.953602e+04     254.759208   \n",
       "min        0.000000              1.000000  0.000000e+00       0.000000   \n",
       "25%        1.000000              1.000000  3.380000e+02      54.000000   \n",
       "50%        1.000000              3.000000  4.900000e+02      67.320000   \n",
       "75%        1.000000              5.000000  7.990000e+02      87.000000   \n",
       "max     2241.000000              9.000000  9.999999e+06  111111.000000   \n",
       "\n",
       "       baseRentRange        geo_plz        noRooms    thermalChar  \\\n",
       "count  268850.000000  268850.000000  268850.000000  162344.000000   \n",
       "mean        3.765256   37283.022235       2.641261     114.749533   \n",
       "std         2.214357   27798.037296       2.633440      61.653663   \n",
       "min         1.000000     852.000000       1.000000       0.100000   \n",
       "25%         2.000000    9128.000000       2.000000      79.000000   \n",
       "50%         3.000000   38667.000000       3.000000     107.000000   \n",
       "75%         5.000000   57072.000000       3.000000     140.300000   \n",
       "max         9.000000   99998.000000     999.990000    1996.000000   \n",
       "\n",
       "               floor  numberOfFloors   noRoomsRange  livingSpaceRange  \\\n",
       "count  217541.000000   171118.000000  268850.000000     268850.000000   \n",
       "mean        2.122405        3.572319       2.571542          3.070790   \n",
       "std         3.634934        6.375496       0.937594          1.407127   \n",
       "min        -1.000000        0.000000       1.000000          1.000000   \n",
       "25%         1.000000        2.000000       2.000000          2.000000   \n",
       "50%         2.000000        3.000000       3.000000          3.000000   \n",
       "75%         3.000000        4.000000       3.000000          4.000000   \n",
       "max       999.000000      999.000000       5.000000          7.000000   \n",
       "\n",
       "       heatingCosts  lastRefurbish  electricityBasePrice  electricityKwhPrice  \n",
       "count  85518.000000   80711.000000          46846.000000         46846.000000  \n",
       "mean      76.990866    2013.904536             89.113612             0.199769  \n",
       "std      147.716278      10.963125              5.395805             0.009667  \n",
       "min        0.000000    1015.000000             71.430000             0.170500  \n",
       "25%       54.000000    2012.000000             90.760000             0.191500  \n",
       "50%       70.000000    2017.000000             90.760000             0.198500  \n",
       "75%       90.000000    2019.000000             90.760000             0.205500  \n",
       "max    12613.000000    2919.000000             90.760000             0.227600  "
      ]
     },
     "execution_count": 106,
     "metadata": {},
     "output_type": "execute_result"
    }
   ],
   "source": [
    "df.describe()"
   ]
  },
  {
   "cell_type": "code",
   "execution_count": 107,
   "id": "7b5e64e6",
   "metadata": {
    "papermill": {
     "duration": 0.094809,
     "end_time": "2021-11-30T18:37:39.935922",
     "exception": false,
     "start_time": "2021-11-30T18:37:39.841113",
     "status": "completed"
    },
    "tags": []
   },
   "outputs": [
    {
     "name": "stdout",
     "output_type": "stream",
     "text": [
      "Number of columns is: 49 and rows is: 268850\n"
     ]
    }
   ],
   "source": [
    "print(f'Number of columns is:',df.shape[1],'and rows is:',df.shape[0])"
   ]
  },
  {
   "cell_type": "markdown",
   "id": "283eb745",
   "metadata": {
    "papermill": {
     "duration": 0.084871,
     "end_time": "2021-11-30T18:37:40.105920",
     "exception": false,
     "start_time": "2021-11-30T18:37:40.021049",
     "status": "completed"
    },
    "tags": []
   },
   "source": [
    "# Cleaning Job\n",
    "\n",
    "The boring part of this kernel. It might a bit confuse but what we're trying in this section is dealing with many things such as\n",
    "- Outliers\n",
    "- Missing Data\n",
    "- Drop columns\n",
    "- Etc.\n",
    "The result of this part is we will have a better dataset to analyze, virtualization and making a prediction."
   ]
  },
  {
   "cell_type": "markdown",
   "id": "d2cce7f5",
   "metadata": {
    "papermill": {
     "duration": 0.084952,
     "end_time": "2021-11-30T18:37:40.276287",
     "exception": false,
     "start_time": "2021-11-30T18:37:40.191335",
     "status": "completed"
    },
    "tags": []
   },
   "source": [
    "## Dealing with the missing values"
   ]
  },
  {
   "cell_type": "markdown",
   "id": "c577c803",
   "metadata": {
    "papermill": {
     "duration": 0.084698,
     "end_time": "2021-11-30T18:37:40.445992",
     "exception": false,
     "start_time": "2021-11-30T18:37:40.361294",
     "status": "completed"
    },
    "tags": []
   },
   "source": [
    "When we're working on any datasets, we need to check on the missing values to make sure the data is ready or not for further analyzation and virutalization."
   ]
  },
  {
   "cell_type": "markdown",
   "id": "8c95dea8",
   "metadata": {
    "papermill": {
     "duration": 0.08562,
     "end_time": "2021-11-30T18:37:40.617757",
     "exception": false,
     "start_time": "2021-11-30T18:37:40.532137",
     "status": "completed"
    },
    "tags": []
   },
   "source": [
    "Create the function to show the top 20 missing values by include number of missing values and percentage of it."
   ]
  },
  {
   "cell_type": "code",
   "execution_count": 108,
   "id": "459cc15a",
   "metadata": {
    "papermill": {
     "duration": 0.100396,
     "end_time": "2021-11-30T18:37:40.805942",
     "exception": false,
     "start_time": "2021-11-30T18:37:40.705546",
     "status": "completed"
    },
    "tags": []
   },
   "outputs": [],
   "source": [
    "def missing_values(temp_idf,norows):   # input by the df and the number of rows that you want to show\n",
    "    total = temp_idf.isnull().sum().sort_values(ascending=False)\n",
    "    percent = ((temp_idf.isnull().sum().sort_values(ascending=False)/temp_idf.shape[0])*100).sort_values(ascending=False)\n",
    "    missing_data = pd.concat([total, percent], axis=1, keys=['Total', 'Percent'])\n",
    "    return(missing_data.head(norows))\n"
   ]
  },
  {
   "cell_type": "code",
   "execution_count": 109,
   "id": "5a2450c5",
   "metadata": {
    "papermill": {
     "duration": 1.195852,
     "end_time": "2021-11-30T18:37:42.088515",
     "exception": false,
     "start_time": "2021-11-30T18:37:40.892663",
     "status": "completed"
    },
    "tags": []
   },
   "outputs": [
    {
     "data": {
      "text/html": [
       "<div>\n",
       "<style scoped>\n",
       "    .dataframe tbody tr th:only-of-type {\n",
       "        vertical-align: middle;\n",
       "    }\n",
       "\n",
       "    .dataframe tbody tr th {\n",
       "        vertical-align: top;\n",
       "    }\n",
       "\n",
       "    .dataframe thead th {\n",
       "        text-align: right;\n",
       "    }\n",
       "</style>\n",
       "<table border=\"1\" class=\"dataframe\">\n",
       "  <thead>\n",
       "    <tr style=\"text-align: right;\">\n",
       "      <th></th>\n",
       "      <th>Total</th>\n",
       "      <th>Percent</th>\n",
       "    </tr>\n",
       "  </thead>\n",
       "  <tbody>\n",
       "    <tr>\n",
       "      <th>telekomHybridUploadSpeed</th>\n",
       "      <td>223830</td>\n",
       "      <td>83.254603</td>\n",
       "    </tr>\n",
       "    <tr>\n",
       "      <th>electricityKwhPrice</th>\n",
       "      <td>222004</td>\n",
       "      <td>82.575414</td>\n",
       "    </tr>\n",
       "    <tr>\n",
       "      <th>electricityBasePrice</th>\n",
       "      <td>222004</td>\n",
       "      <td>82.575414</td>\n",
       "    </tr>\n",
       "    <tr>\n",
       "      <th>energyEfficiencyClass</th>\n",
       "      <td>191063</td>\n",
       "      <td>71.066766</td>\n",
       "    </tr>\n",
       "    <tr>\n",
       "      <th>lastRefurbish</th>\n",
       "      <td>188139</td>\n",
       "      <td>69.979171</td>\n",
       "    </tr>\n",
       "    <tr>\n",
       "      <th>heatingCosts</th>\n",
       "      <td>183332</td>\n",
       "      <td>68.191185</td>\n",
       "    </tr>\n",
       "    <tr>\n",
       "      <th>noParkSpaces</th>\n",
       "      <td>175798</td>\n",
       "      <td>65.388879</td>\n",
       "    </tr>\n",
       "    <tr>\n",
       "      <th>petsAllowed</th>\n",
       "      <td>114573</td>\n",
       "      <td>42.615957</td>\n",
       "    </tr>\n",
       "    <tr>\n",
       "      <th>interiorQual</th>\n",
       "      <td>112665</td>\n",
       "      <td>41.906267</td>\n",
       "    </tr>\n",
       "    <tr>\n",
       "      <th>thermalChar</th>\n",
       "      <td>106506</td>\n",
       "      <td>39.615399</td>\n",
       "    </tr>\n",
       "    <tr>\n",
       "      <th>numberOfFloors</th>\n",
       "      <td>97732</td>\n",
       "      <td>36.351869</td>\n",
       "    </tr>\n",
       "    <tr>\n",
       "      <th>houseNumber</th>\n",
       "      <td>71018</td>\n",
       "      <td>26.415473</td>\n",
       "    </tr>\n",
       "    <tr>\n",
       "      <th>streetPlain</th>\n",
       "      <td>71013</td>\n",
       "      <td>26.413614</td>\n",
       "    </tr>\n",
       "    <tr>\n",
       "      <th>condition</th>\n",
       "      <td>68489</td>\n",
       "      <td>25.474800</td>\n",
       "    </tr>\n",
       "    <tr>\n",
       "      <th>yearConstructed</th>\n",
       "      <td>57045</td>\n",
       "      <td>21.218151</td>\n",
       "    </tr>\n",
       "    <tr>\n",
       "      <th>yearConstructedRange</th>\n",
       "      <td>57045</td>\n",
       "      <td>21.218151</td>\n",
       "    </tr>\n",
       "    <tr>\n",
       "      <th>firingTypes</th>\n",
       "      <td>56964</td>\n",
       "      <td>21.188023</td>\n",
       "    </tr>\n",
       "    <tr>\n",
       "      <th>facilities</th>\n",
       "      <td>52924</td>\n",
       "      <td>19.685326</td>\n",
       "    </tr>\n",
       "    <tr>\n",
       "      <th>floor</th>\n",
       "      <td>51309</td>\n",
       "      <td>19.084620</td>\n",
       "    </tr>\n",
       "    <tr>\n",
       "      <th>heatingType</th>\n",
       "      <td>44856</td>\n",
       "      <td>16.684397</td>\n",
       "    </tr>\n",
       "  </tbody>\n",
       "</table>\n",
       "</div>"
      ],
      "text/plain": [
       "                           Total    Percent\n",
       "telekomHybridUploadSpeed  223830  83.254603\n",
       "electricityKwhPrice       222004  82.575414\n",
       "electricityBasePrice      222004  82.575414\n",
       "energyEfficiencyClass     191063  71.066766\n",
       "lastRefurbish             188139  69.979171\n",
       "heatingCosts              183332  68.191185\n",
       "noParkSpaces              175798  65.388879\n",
       "petsAllowed               114573  42.615957\n",
       "interiorQual              112665  41.906267\n",
       "thermalChar               106506  39.615399\n",
       "numberOfFloors             97732  36.351869\n",
       "houseNumber                71018  26.415473\n",
       "streetPlain                71013  26.413614\n",
       "condition                  68489  25.474800\n",
       "yearConstructed            57045  21.218151\n",
       "yearConstructedRange       57045  21.218151\n",
       "firingTypes                56964  21.188023\n",
       "facilities                 52924  19.685326\n",
       "floor                      51309  19.084620\n",
       "heatingType                44856  16.684397"
      ]
     },
     "execution_count": 109,
     "metadata": {},
     "output_type": "execute_result"
    }
   ],
   "source": [
    "missing_values(df,20) # we use the df and the number of rows to show is 20"
   ]
  },
  {
   "cell_type": "markdown",
   "id": "8844e437",
   "metadata": {
    "papermill": {
     "duration": 0.086155,
     "end_time": "2021-11-30T18:37:42.263166",
     "exception": false,
     "start_time": "2021-11-30T18:37:42.177011",
     "status": "completed"
    },
    "tags": []
   },
   "source": [
    "As we can see it contains a lot of missing value in some columns so I decide to remove all of the columns that contain missing value more than 20%"
   ]
  },
  {
   "cell_type": "code",
   "execution_count": 110,
   "id": "816ae6ec",
   "metadata": {
    "papermill": {
     "duration": 1.243792,
     "end_time": "2021-11-30T18:37:43.592697",
     "exception": false,
     "start_time": "2021-11-30T18:37:42.348905",
     "status": "completed"
    },
    "tags": []
   },
   "outputs": [],
   "source": [
    "missing_data = missing_values(df,20)\n",
    "# drop the data where the columns contains more than 30%\n",
    "df = df.drop((missing_data[missing_data['Percent'] > 30]).index,1)"
   ]
  },
  {
   "cell_type": "markdown",
   "id": "f1376cdd",
   "metadata": {
    "papermill": {
     "duration": 0.086409,
     "end_time": "2021-11-30T18:37:43.766587",
     "exception": false,
     "start_time": "2021-11-30T18:37:43.680178",
     "status": "completed"
    },
    "tags": []
   },
   "source": [
    "Because I want to predict rental price ('totalRent') so I should drop all the rows that doesn't consist totalRent"
   ]
  },
  {
   "cell_type": "code",
   "execution_count": 111,
   "id": "12d9ca1a",
   "metadata": {
    "papermill": {
     "duration": 0.176241,
     "end_time": "2021-11-30T18:37:44.031158",
     "exception": false,
     "start_time": "2021-11-30T18:37:43.854917",
     "status": "completed"
    },
    "tags": []
   },
   "outputs": [],
   "source": [
    "df.dropna(subset=['totalRent'],inplace=True)"
   ]
  },
  {
   "cell_type": "markdown",
   "id": "7ae53415",
   "metadata": {
    "papermill": {
     "duration": 0.085685,
     "end_time": "2021-11-30T18:37:44.204066",
     "exception": false,
     "start_time": "2021-11-30T18:37:44.118381",
     "status": "completed"
    },
    "tags": []
   },
   "source": [
    "### Delete columns that doesn't contain useful information"
   ]
  },
  {
   "cell_type": "code",
   "execution_count": 112,
   "id": "1514869b",
   "metadata": {
    "papermill": {
     "duration": 0.123895,
     "end_time": "2021-11-30T18:37:44.413551",
     "exception": false,
     "start_time": "2021-11-30T18:37:44.289656",
     "status": "completed"
    },
    "tags": []
   },
   "outputs": [
    {
     "data": {
      "text/html": [
       "<div>\n",
       "<style scoped>\n",
       "    .dataframe tbody tr th:only-of-type {\n",
       "        vertical-align: middle;\n",
       "    }\n",
       "\n",
       "    .dataframe tbody tr th {\n",
       "        vertical-align: top;\n",
       "    }\n",
       "\n",
       "    .dataframe thead th {\n",
       "        text-align: right;\n",
       "    }\n",
       "</style>\n",
       "<table border=\"1\" class=\"dataframe\">\n",
       "  <thead>\n",
       "    <tr style=\"text-align: right;\">\n",
       "      <th></th>\n",
       "      <th>regio1</th>\n",
       "      <th>serviceCharge</th>\n",
       "      <th>heatingType</th>\n",
       "      <th>telekomTvOffer</th>\n",
       "      <th>newlyConst</th>\n",
       "      <th>balcony</th>\n",
       "      <th>picturecount</th>\n",
       "      <th>pricetrend</th>\n",
       "      <th>telekomUploadSpeed</th>\n",
       "      <th>totalRent</th>\n",
       "      <th>yearConstructed</th>\n",
       "      <th>scoutId</th>\n",
       "      <th>firingTypes</th>\n",
       "      <th>hasKitchen</th>\n",
       "      <th>geo_bln</th>\n",
       "      <th>cellar</th>\n",
       "      <th>yearConstructedRange</th>\n",
       "      <th>baseRent</th>\n",
       "      <th>houseNumber</th>\n",
       "      <th>livingSpace</th>\n",
       "      <th>geo_krs</th>\n",
       "      <th>condition</th>\n",
       "      <th>street</th>\n",
       "      <th>streetPlain</th>\n",
       "      <th>lift</th>\n",
       "      <th>baseRentRange</th>\n",
       "      <th>typeOfFlat</th>\n",
       "      <th>geo_plz</th>\n",
       "      <th>noRooms</th>\n",
       "      <th>floor</th>\n",
       "      <th>noRoomsRange</th>\n",
       "      <th>garden</th>\n",
       "      <th>livingSpaceRange</th>\n",
       "      <th>regio2</th>\n",
       "      <th>regio3</th>\n",
       "      <th>description</th>\n",
       "      <th>facilities</th>\n",
       "      <th>date</th>\n",
       "    </tr>\n",
       "  </thead>\n",
       "  <tbody>\n",
       "    <tr>\n",
       "      <th>0</th>\n",
       "      <td>Nordrhein_Westfalen</td>\n",
       "      <td>245.0</td>\n",
       "      <td>central_heating</td>\n",
       "      <td>ONE_YEAR_FREE</td>\n",
       "      <td>False</td>\n",
       "      <td>False</td>\n",
       "      <td>6</td>\n",
       "      <td>4.62</td>\n",
       "      <td>10.0</td>\n",
       "      <td>840.00</td>\n",
       "      <td>1965.0</td>\n",
       "      <td>96107057</td>\n",
       "      <td>oil</td>\n",
       "      <td>False</td>\n",
       "      <td>Nordrhein_Westfalen</td>\n",
       "      <td>True</td>\n",
       "      <td>2.0</td>\n",
       "      <td>595.00</td>\n",
       "      <td>244</td>\n",
       "      <td>86.00</td>\n",
       "      <td>Dortmund</td>\n",
       "      <td>well_kept</td>\n",
       "      <td>Sch&amp;uuml;ruferstra&amp;szlig;e</td>\n",
       "      <td>Schüruferstraße</td>\n",
       "      <td>False</td>\n",
       "      <td>4</td>\n",
       "      <td>ground_floor</td>\n",
       "      <td>44269</td>\n",
       "      <td>4.0</td>\n",
       "      <td>1.0</td>\n",
       "      <td>4</td>\n",
       "      <td>True</td>\n",
       "      <td>4</td>\n",
       "      <td>Dortmund</td>\n",
       "      <td>Schüren</td>\n",
       "      <td>Die ebenerdig zu erreichende Erdgeschosswohnun...</td>\n",
       "      <td>Die Wohnung ist mit Laminat ausgelegt. Das Bad...</td>\n",
       "      <td>May19</td>\n",
       "    </tr>\n",
       "    <tr>\n",
       "      <th>2</th>\n",
       "      <td>Sachsen</td>\n",
       "      <td>255.0</td>\n",
       "      <td>floor_heating</td>\n",
       "      <td>ONE_YEAR_FREE</td>\n",
       "      <td>True</td>\n",
       "      <td>True</td>\n",
       "      <td>8</td>\n",
       "      <td>2.72</td>\n",
       "      <td>2.4</td>\n",
       "      <td>1300.00</td>\n",
       "      <td>2019.0</td>\n",
       "      <td>113147523</td>\n",
       "      <td>NaN</td>\n",
       "      <td>False</td>\n",
       "      <td>Sachsen</td>\n",
       "      <td>True</td>\n",
       "      <td>9.0</td>\n",
       "      <td>965.00</td>\n",
       "      <td>4</td>\n",
       "      <td>83.80</td>\n",
       "      <td>Dresden</td>\n",
       "      <td>first_time_use</td>\n",
       "      <td>Turnerweg</td>\n",
       "      <td>Turnerweg</td>\n",
       "      <td>True</td>\n",
       "      <td>6</td>\n",
       "      <td>apartment</td>\n",
       "      <td>1097</td>\n",
       "      <td>3.0</td>\n",
       "      <td>3.0</td>\n",
       "      <td>3</td>\n",
       "      <td>False</td>\n",
       "      <td>4</td>\n",
       "      <td>Dresden</td>\n",
       "      <td>Äußere_Neustadt_Antonstadt</td>\n",
       "      <td>Der Neubau entsteht im Herzen der Dresdner Neu...</td>\n",
       "      <td>* 9 m² Balkon\\n* Bad mit bodengleicher Dusche,...</td>\n",
       "      <td>Oct19</td>\n",
       "    </tr>\n",
       "    <tr>\n",
       "      <th>4</th>\n",
       "      <td>Bremen</td>\n",
       "      <td>138.0</td>\n",
       "      <td>self_contained_central_heating</td>\n",
       "      <td>NaN</td>\n",
       "      <td>False</td>\n",
       "      <td>True</td>\n",
       "      <td>19</td>\n",
       "      <td>2.46</td>\n",
       "      <td>NaN</td>\n",
       "      <td>903.00</td>\n",
       "      <td>1950.0</td>\n",
       "      <td>114751222</td>\n",
       "      <td>gas</td>\n",
       "      <td>False</td>\n",
       "      <td>Bremen</td>\n",
       "      <td>False</td>\n",
       "      <td>1.0</td>\n",
       "      <td>765.00</td>\n",
       "      <td>10</td>\n",
       "      <td>84.97</td>\n",
       "      <td>Bremen</td>\n",
       "      <td>refurbished</td>\n",
       "      <td>Hermann-Henrich-Meier-Allee</td>\n",
       "      <td>Hermann-Henrich-Meier-Allee</td>\n",
       "      <td>False</td>\n",
       "      <td>5</td>\n",
       "      <td>apartment</td>\n",
       "      <td>28213</td>\n",
       "      <td>3.0</td>\n",
       "      <td>1.0</td>\n",
       "      <td>3</td>\n",
       "      <td>False</td>\n",
       "      <td>4</td>\n",
       "      <td>Bremen</td>\n",
       "      <td>Neu_Schwachhausen</td>\n",
       "      <td>Es handelt sich hier um ein saniertes Mehrfami...</td>\n",
       "      <td>Diese Wohnung wurde neu saniert und ist wie fo...</td>\n",
       "      <td>Feb20</td>\n",
       "    </tr>\n",
       "    <tr>\n",
       "      <th>6</th>\n",
       "      <td>Sachsen</td>\n",
       "      <td>70.0</td>\n",
       "      <td>self_contained_central_heating</td>\n",
       "      <td>ONE_YEAR_FREE</td>\n",
       "      <td>False</td>\n",
       "      <td>False</td>\n",
       "      <td>9</td>\n",
       "      <td>1.01</td>\n",
       "      <td>2.4</td>\n",
       "      <td>380.00</td>\n",
       "      <td>NaN</td>\n",
       "      <td>114391930</td>\n",
       "      <td>NaN</td>\n",
       "      <td>False</td>\n",
       "      <td>Sachsen</td>\n",
       "      <td>True</td>\n",
       "      <td>NaN</td>\n",
       "      <td>310.00</td>\n",
       "      <td>14</td>\n",
       "      <td>62.00</td>\n",
       "      <td>Mittelsachsen_Kreis</td>\n",
       "      <td>fully_renovated</td>\n",
       "      <td>Am Bahnhof</td>\n",
       "      <td>Am_Bahnhof</td>\n",
       "      <td>False</td>\n",
       "      <td>2</td>\n",
       "      <td>NaN</td>\n",
       "      <td>9599</td>\n",
       "      <td>2.0</td>\n",
       "      <td>1.0</td>\n",
       "      <td>2</td>\n",
       "      <td>True</td>\n",
       "      <td>3</td>\n",
       "      <td>Mittelsachsen_Kreis</td>\n",
       "      <td>Freiberg</td>\n",
       "      <td>Am Bahnhof 14 in Freiberg\\nHeizkosten und Warm...</td>\n",
       "      <td>NaN</td>\n",
       "      <td>Feb20</td>\n",
       "    </tr>\n",
       "    <tr>\n",
       "      <th>7</th>\n",
       "      <td>Bremen</td>\n",
       "      <td>88.0</td>\n",
       "      <td>central_heating</td>\n",
       "      <td>ONE_YEAR_FREE</td>\n",
       "      <td>False</td>\n",
       "      <td>True</td>\n",
       "      <td>5</td>\n",
       "      <td>1.89</td>\n",
       "      <td>2.4</td>\n",
       "      <td>584.25</td>\n",
       "      <td>1959.0</td>\n",
       "      <td>115270775</td>\n",
       "      <td>gas:electricity</td>\n",
       "      <td>False</td>\n",
       "      <td>Bremen</td>\n",
       "      <td>True</td>\n",
       "      <td>2.0</td>\n",
       "      <td>452.25</td>\n",
       "      <td>35</td>\n",
       "      <td>60.30</td>\n",
       "      <td>Bremen</td>\n",
       "      <td>NaN</td>\n",
       "      <td>Lesumer Heerstr.</td>\n",
       "      <td>Lesumer_Heerstr.</td>\n",
       "      <td>False</td>\n",
       "      <td>3</td>\n",
       "      <td>ground_floor</td>\n",
       "      <td>28717</td>\n",
       "      <td>3.0</td>\n",
       "      <td>NaN</td>\n",
       "      <td>3</td>\n",
       "      <td>False</td>\n",
       "      <td>2</td>\n",
       "      <td>Bremen</td>\n",
       "      <td>St._Magnus</td>\n",
       "      <td>+ Komfortabler Bodenbelag: Die Wohnung ist zus...</td>\n",
       "      <td>Rollläden; Warmwasserbereiter; Kellerraum; Gas...</td>\n",
       "      <td>Feb20</td>\n",
       "    </tr>\n",
       "  </tbody>\n",
       "</table>\n",
       "</div>"
      ],
      "text/plain": [
       "                regio1  serviceCharge                     heatingType  \\\n",
       "0  Nordrhein_Westfalen          245.0                 central_heating   \n",
       "2              Sachsen          255.0                   floor_heating   \n",
       "4               Bremen          138.0  self_contained_central_heating   \n",
       "6              Sachsen           70.0  self_contained_central_heating   \n",
       "7               Bremen           88.0                 central_heating   \n",
       "\n",
       "  telekomTvOffer  newlyConst  balcony  picturecount  pricetrend  \\\n",
       "0  ONE_YEAR_FREE       False    False             6        4.62   \n",
       "2  ONE_YEAR_FREE        True     True             8        2.72   \n",
       "4            NaN       False     True            19        2.46   \n",
       "6  ONE_YEAR_FREE       False    False             9        1.01   \n",
       "7  ONE_YEAR_FREE       False     True             5        1.89   \n",
       "\n",
       "   telekomUploadSpeed  totalRent  yearConstructed    scoutId      firingTypes  \\\n",
       "0                10.0     840.00           1965.0   96107057              oil   \n",
       "2                 2.4    1300.00           2019.0  113147523              NaN   \n",
       "4                 NaN     903.00           1950.0  114751222              gas   \n",
       "6                 2.4     380.00              NaN  114391930              NaN   \n",
       "7                 2.4     584.25           1959.0  115270775  gas:electricity   \n",
       "\n",
       "   hasKitchen              geo_bln  cellar  yearConstructedRange  baseRent  \\\n",
       "0       False  Nordrhein_Westfalen    True                   2.0    595.00   \n",
       "2       False              Sachsen    True                   9.0    965.00   \n",
       "4       False               Bremen   False                   1.0    765.00   \n",
       "6       False              Sachsen    True                   NaN    310.00   \n",
       "7       False               Bremen    True                   2.0    452.25   \n",
       "\n",
       "  houseNumber  livingSpace              geo_krs        condition  \\\n",
       "0         244        86.00             Dortmund        well_kept   \n",
       "2           4        83.80              Dresden   first_time_use   \n",
       "4          10        84.97               Bremen      refurbished   \n",
       "6          14        62.00  Mittelsachsen_Kreis  fully_renovated   \n",
       "7          35        60.30               Bremen              NaN   \n",
       "\n",
       "                        street                  streetPlain   lift  \\\n",
       "0   Sch&uuml;ruferstra&szlig;e              Schüruferstraße  False   \n",
       "2                    Turnerweg                    Turnerweg   True   \n",
       "4  Hermann-Henrich-Meier-Allee  Hermann-Henrich-Meier-Allee  False   \n",
       "6                   Am Bahnhof                   Am_Bahnhof  False   \n",
       "7             Lesumer Heerstr.             Lesumer_Heerstr.  False   \n",
       "\n",
       "   baseRentRange    typeOfFlat  geo_plz  noRooms  floor  noRoomsRange  garden  \\\n",
       "0              4  ground_floor    44269      4.0    1.0             4    True   \n",
       "2              6     apartment     1097      3.0    3.0             3   False   \n",
       "4              5     apartment    28213      3.0    1.0             3   False   \n",
       "6              2           NaN     9599      2.0    1.0             2    True   \n",
       "7              3  ground_floor    28717      3.0    NaN             3   False   \n",
       "\n",
       "   livingSpaceRange               regio2                      regio3  \\\n",
       "0                 4             Dortmund                     Schüren   \n",
       "2                 4              Dresden  Äußere_Neustadt_Antonstadt   \n",
       "4                 4               Bremen           Neu_Schwachhausen   \n",
       "6                 3  Mittelsachsen_Kreis                    Freiberg   \n",
       "7                 2               Bremen                  St._Magnus   \n",
       "\n",
       "                                         description  \\\n",
       "0  Die ebenerdig zu erreichende Erdgeschosswohnun...   \n",
       "2  Der Neubau entsteht im Herzen der Dresdner Neu...   \n",
       "4  Es handelt sich hier um ein saniertes Mehrfami...   \n",
       "6  Am Bahnhof 14 in Freiberg\\nHeizkosten und Warm...   \n",
       "7  + Komfortabler Bodenbelag: Die Wohnung ist zus...   \n",
       "\n",
       "                                          facilities   date  \n",
       "0  Die Wohnung ist mit Laminat ausgelegt. Das Bad...  May19  \n",
       "2  * 9 m² Balkon\\n* Bad mit bodengleicher Dusche,...  Oct19  \n",
       "4  Diese Wohnung wurde neu saniert und ist wie fo...  Feb20  \n",
       "6                                                NaN  Feb20  \n",
       "7  Rollläden; Warmwasserbereiter; Kellerraum; Gas...  Feb20  "
      ]
     },
     "execution_count": 112,
     "metadata": {},
     "output_type": "execute_result"
    }
   ],
   "source": [
    "df.head()"
   ]
  },
  {
   "cell_type": "markdown",
   "id": "982ccedf",
   "metadata": {
    "papermill": {
     "duration": 0.086229,
     "end_time": "2021-11-30T18:37:44.587056",
     "exception": false,
     "start_time": "2021-11-30T18:37:44.500827",
     "status": "completed"
    },
    "tags": []
   },
   "source": [
    "### Drop and delete what we wouldn't use"
   ]
  },
  {
   "cell_type": "code",
   "execution_count": 113,
   "id": "e54e200d",
   "metadata": {
    "papermill": {
     "duration": 0.11268,
     "end_time": "2021-11-30T18:37:44.786494",
     "exception": false,
     "start_time": "2021-11-30T18:37:44.673814",
     "status": "completed"
    },
    "tags": []
   },
   "outputs": [],
   "source": [
    "df.drop(columns=['livingSpaceRange','street','description','facilities','geo_krs','geo_plz','scoutId','regio1','telekomUploadSpeed','telekomTvOffer','pricetrend','regio3','noRoomsRange','picturecount','geo_bln','date',\\\n",
    "    'houseNumber','streetPlain','firingTypes','yearConstructedRange'],inplace=True)"
   ]
  },
  {
   "cell_type": "markdown",
   "id": "e21d2fc3",
   "metadata": {
    "papermill": {
     "duration": 0.087334,
     "end_time": "2021-11-30T18:37:44.963541",
     "exception": false,
     "start_time": "2021-11-30T18:37:44.876207",
     "status": "completed"
    },
    "tags": []
   },
   "source": [
    "Let's check the missing data in this dataframe again before making any other decision."
   ]
  },
  {
   "cell_type": "code",
   "execution_count": 114,
   "id": "a4730ade",
   "metadata": {
    "papermill": {
     "duration": 0.300671,
     "end_time": "2021-11-30T18:37:45.351274",
     "exception": false,
     "start_time": "2021-11-30T18:37:45.050603",
     "status": "completed"
    },
    "tags": []
   },
   "outputs": [
    {
     "data": {
      "text/html": [
       "<div>\n",
       "<style scoped>\n",
       "    .dataframe tbody tr th:only-of-type {\n",
       "        vertical-align: middle;\n",
       "    }\n",
       "\n",
       "    .dataframe tbody tr th {\n",
       "        vertical-align: top;\n",
       "    }\n",
       "\n",
       "    .dataframe thead th {\n",
       "        text-align: right;\n",
       "    }\n",
       "</style>\n",
       "<table border=\"1\" class=\"dataframe\">\n",
       "  <thead>\n",
       "    <tr style=\"text-align: right;\">\n",
       "      <th></th>\n",
       "      <th>Total</th>\n",
       "      <th>Percent</th>\n",
       "    </tr>\n",
       "  </thead>\n",
       "  <tbody>\n",
       "    <tr>\n",
       "      <th>condition</th>\n",
       "      <td>56980</td>\n",
       "      <td>24.954781</td>\n",
       "    </tr>\n",
       "    <tr>\n",
       "      <th>yearConstructed</th>\n",
       "      <td>49285</td>\n",
       "      <td>21.584703</td>\n",
       "    </tr>\n",
       "    <tr>\n",
       "      <th>floor</th>\n",
       "      <td>40370</td>\n",
       "      <td>17.680318</td>\n",
       "    </tr>\n",
       "    <tr>\n",
       "      <th>heatingType</th>\n",
       "      <td>36823</td>\n",
       "      <td>16.126885</td>\n",
       "    </tr>\n",
       "    <tr>\n",
       "      <th>typeOfFlat</th>\n",
       "      <td>30556</td>\n",
       "      <td>13.382209</td>\n",
       "    </tr>\n",
       "    <tr>\n",
       "      <th>serviceCharge</th>\n",
       "      <td>4090</td>\n",
       "      <td>1.791243</td>\n",
       "    </tr>\n",
       "    <tr>\n",
       "      <th>garden</th>\n",
       "      <td>0</td>\n",
       "      <td>0.000000</td>\n",
       "    </tr>\n",
       "    <tr>\n",
       "      <th>noRooms</th>\n",
       "      <td>0</td>\n",
       "      <td>0.000000</td>\n",
       "    </tr>\n",
       "    <tr>\n",
       "      <th>baseRentRange</th>\n",
       "      <td>0</td>\n",
       "      <td>0.000000</td>\n",
       "    </tr>\n",
       "    <tr>\n",
       "      <th>lift</th>\n",
       "      <td>0</td>\n",
       "      <td>0.000000</td>\n",
       "    </tr>\n",
       "  </tbody>\n",
       "</table>\n",
       "</div>"
      ],
      "text/plain": [
       "                 Total    Percent\n",
       "condition        56980  24.954781\n",
       "yearConstructed  49285  21.584703\n",
       "floor            40370  17.680318\n",
       "heatingType      36823  16.126885\n",
       "typeOfFlat       30556  13.382209\n",
       "serviceCharge     4090   1.791243\n",
       "garden               0   0.000000\n",
       "noRooms              0   0.000000\n",
       "baseRentRange        0   0.000000\n",
       "lift                 0   0.000000"
      ]
     },
     "execution_count": 114,
     "metadata": {},
     "output_type": "execute_result"
    }
   ],
   "source": [
    "missing_values(df,10)"
   ]
  },
  {
   "cell_type": "markdown",
   "id": "c1c3fe56",
   "metadata": {
    "papermill": {
     "duration": 0.087809,
     "end_time": "2021-11-30T18:37:45.526581",
     "exception": false,
     "start_time": "2021-11-30T18:37:45.438772",
     "status": "completed"
    },
    "tags": []
   },
   "source": [
    "### Other condition\n",
    "Take a deeper analysis in the condition variable and I fill all of the missing value into 'Other'"
   ]
  },
  {
   "cell_type": "code",
   "execution_count": 115,
   "id": "ef41f444",
   "metadata": {
    "papermill": {
     "duration": 0.160682,
     "end_time": "2021-11-30T18:37:45.774783",
     "exception": false,
     "start_time": "2021-11-30T18:37:45.614101",
     "status": "completed"
    },
    "tags": []
   },
   "outputs": [
    {
     "data": {
      "text/plain": [
       "Other                                 56980\n",
       "well_kept                             55573\n",
       "refurbished                           24556\n",
       "fully_renovated                       22529\n",
       "mint_condition                        18984\n",
       "first_time_use                        18150\n",
       "modernized                            14834\n",
       "first_time_use_after_refurbishment    13751\n",
       "negotiable                             1833\n",
       "need_of_renovation                     1139\n",
       "ripe_for_demolition                       4\n",
       "Name: condition, dtype: int64"
      ]
     },
     "execution_count": 115,
     "metadata": {},
     "output_type": "execute_result"
    }
   ],
   "source": [
    "df['condition'].fillna(\"Other\", inplace=True) # fill the NA by Other\n",
    "df['condition'].value_counts()"
   ]
  },
  {
   "cell_type": "markdown",
   "id": "60469e65",
   "metadata": {
    "papermill": {
     "duration": 0.089822,
     "end_time": "2021-11-30T18:37:45.985366",
     "exception": false,
     "start_time": "2021-11-30T18:37:45.895544",
     "status": "completed"
    },
    "tags": []
   },
   "source": [
    "The last 3 is not the good condition for the apartnebt fubder so I will group it in 'Other'"
   ]
  },
  {
   "cell_type": "code",
   "execution_count": 116,
   "id": "57b96e29",
   "metadata": {
    "papermill": {
     "duration": 0.416781,
     "end_time": "2021-11-30T18:37:46.492239",
     "exception": false,
     "start_time": "2021-11-30T18:37:46.075458",
     "status": "completed"
    },
    "tags": []
   },
   "outputs": [
    {
     "data": {
      "text/plain": [
       "Other                                 59956\n",
       "well_kept                             55573\n",
       "refurbished                           24556\n",
       "fully_renovated                       22529\n",
       "mint_condition                        18984\n",
       "first_time_use                        18150\n",
       "modernized                            14834\n",
       "first_time_use_after_refurbishment    13751\n",
       "Name: condition, dtype: int64"
      ]
     },
     "execution_count": 116,
     "metadata": {},
     "output_type": "execute_result"
    }
   ],
   "source": [
    "otherscondition = df['condition'].value_counts().tail(3).index\n",
    "\n",
    "othersregion = list(df['condition'].value_counts().tail(3).index)\n",
    "def editcondition(dflist):\n",
    "    if dflist in otherscondition:\n",
    "        return 'Other'\n",
    "    else:\n",
    "        return dflist\n",
    "\n",
    "df['condition'] =df['condition'].apply(editcondition)\n",
    "df['condition'].value_counts()"
   ]
  },
  {
   "cell_type": "markdown",
   "id": "6f649e6b",
   "metadata": {
    "papermill": {
     "duration": 0.088466,
     "end_time": "2021-11-30T18:37:46.669144",
     "exception": false,
     "start_time": "2021-11-30T18:37:46.580678",
     "status": "completed"
    },
    "tags": []
   },
   "source": [
    "Fill NA of 'yearConstructed' with the mean of each type of condition 'condition' because from my perspective if the apartment is not fully_renovated or refurbished it means that it should have a lot of usage year."
   ]
  },
  {
   "cell_type": "code",
   "execution_count": 117,
   "id": "d00e61f6",
   "metadata": {
    "papermill": {
     "duration": 0.129066,
     "end_time": "2021-11-30T18:37:46.886689",
     "exception": false,
     "start_time": "2021-11-30T18:37:46.757623",
     "status": "completed"
    },
    "tags": []
   },
   "outputs": [],
   "source": [
    "df[\"yearConstructed\"] = df['yearConstructed'].fillna(df.groupby('condition')['yearConstructed'].transform('mean')).round(0)"
   ]
  },
  {
   "cell_type": "markdown",
   "id": "d92e20e4",
   "metadata": {
    "papermill": {
     "duration": 0.088321,
     "end_time": "2021-11-30T18:37:47.063704",
     "exception": false,
     "start_time": "2021-11-30T18:37:46.975383",
     "status": "completed"
    },
    "tags": []
   },
   "source": [
    "Create the new variables to tell the duration since last renovated or built til the today"
   ]
  },
  {
   "cell_type": "code",
   "execution_count": 118,
   "id": "db99ef92",
   "metadata": {
    "papermill": {
     "duration": 0.097194,
     "end_time": "2021-11-30T18:37:47.249153",
     "exception": false,
     "start_time": "2021-11-30T18:37:47.151959",
     "status": "completed"
    },
    "tags": []
   },
   "outputs": [],
   "source": [
    "df['numberOfYear'] = date.today().year - df[\"yearConstructed\"]\n"
   ]
  },
  {
   "cell_type": "markdown",
   "id": "3dadd6cf",
   "metadata": {
    "papermill": {
     "duration": 0.087603,
     "end_time": "2021-11-30T18:37:47.426805",
     "exception": false,
     "start_time": "2021-11-30T18:37:47.339202",
     "status": "completed"
    },
    "tags": []
   },
   "source": [
    "### Other region\n",
    "In other region, It might not have sufficient data so I group them together and put it in Other variable."
   ]
  },
  {
   "cell_type": "code",
   "execution_count": 119,
   "id": "6a40ce53",
   "metadata": {
    "papermill": {
     "duration": 0.77137,
     "end_time": "2021-11-30T18:37:48.286054",
     "exception": false,
     "start_time": "2021-11-30T18:37:47.514684",
     "status": "completed"
    },
    "tags": []
   },
   "outputs": [
    {
     "data": {
      "text/plain": [
       "Other                   140421\n",
       "Leipzig                  12580\n",
       "Chemnitz                 11388\n",
       "Berlin                    9744\n",
       "Dresden                   6368\n",
       "Magdeburg                 4553\n",
       "Halle_Saale               3967\n",
       "München                   3943\n",
       "Frankfurt_am_Main         3726\n",
       "Essen                     3610\n",
       "Hamburg                   3395\n",
       "Düsseldorf                3195\n",
       "Duisburg                  2871\n",
       "Dortmund                  2573\n",
       "Mittelsachsen_Kreis       2521\n",
       "Gelsenkirchen             2485\n",
       "Köln                      2277\n",
       "Recklinghausen_Kreis      2276\n",
       "Zwickau                   2215\n",
       "Zwickau_Kreis             2175\n",
       "Leipzig_Kreis             2050\n",
       "Name: regio2, dtype: int64"
      ]
     },
     "execution_count": 119,
     "metadata": {},
     "output_type": "execute_result"
    }
   ],
   "source": [
    "othersregion = list(df['regio2'].value_counts().iloc[20:,].index)\n",
    "def edit_region(dflist):\n",
    "    if dflist in othersregion:\n",
    "        return 'Other'\n",
    "    else:\n",
    "        return dflist\n",
    "\n",
    "df['regio2'] =df['regio2'].apply(edit_region)\n",
    "df['regio2'].value_counts()"
   ]
  },
  {
   "cell_type": "markdown",
   "id": "e753efae",
   "metadata": {
    "papermill": {
     "duration": 0.088698,
     "end_time": "2021-11-30T18:37:48.463606",
     "exception": false,
     "start_time": "2021-11-30T18:37:48.374908",
     "status": "completed"
    },
    "tags": []
   },
   "source": [
    "### Selecting only highest 20 city by quantity of data\n",
    "I choose only 20 because below that it contains less data to predict anything so I should choose only the top 20 of the number of data"
   ]
  },
  {
   "cell_type": "code",
   "execution_count": 120,
   "id": "0f8730fa",
   "metadata": {
    "papermill": {
     "duration": 0.133192,
     "end_time": "2021-11-30T18:37:48.685845",
     "exception": false,
     "start_time": "2021-11-30T18:37:48.552653",
     "status": "completed"
    },
    "tags": []
   },
   "outputs": [
    {
     "data": {
      "text/plain": [
       "['Other',\n",
       " 'Leipzig',\n",
       " 'Chemnitz',\n",
       " 'Berlin',\n",
       " 'Dresden',\n",
       " 'Magdeburg',\n",
       " 'Halle_Saale',\n",
       " 'München',\n",
       " 'Frankfurt_am_Main',\n",
       " 'Essen',\n",
       " 'Hamburg',\n",
       " 'Düsseldorf',\n",
       " 'Duisburg',\n",
       " 'Dortmund',\n",
       " 'Mittelsachsen_Kreis',\n",
       " 'Gelsenkirchen',\n",
       " 'Köln',\n",
       " 'Recklinghausen_Kreis',\n",
       " 'Zwickau',\n",
       " 'Zwickau_Kreis',\n",
       " 'Leipzig_Kreis']"
      ]
     },
     "execution_count": 120,
     "metadata": {},
     "output_type": "execute_result"
    }
   ],
   "source": [
    "regionlist = list(df['regio2'].value_counts().head(25).index)\n",
    "regionlist # top 20 city that contains the most data counts"
   ]
  },
  {
   "cell_type": "code",
   "execution_count": 121,
   "id": "a1a91902",
   "metadata": {
    "papermill": {
     "duration": 0.196456,
     "end_time": "2021-11-30T18:37:48.974388",
     "exception": false,
     "start_time": "2021-11-30T18:37:48.777932",
     "status": "completed"
    },
    "tags": []
   },
   "outputs": [
    {
     "data": {
      "text/plain": [
       "Other                   140421\n",
       "Leipzig                  12580\n",
       "Chemnitz                 11388\n",
       "Berlin                    9744\n",
       "Dresden                   6368\n",
       "Magdeburg                 4553\n",
       "Halle_Saale               3967\n",
       "München                   3943\n",
       "Frankfurt_am_Main         3726\n",
       "Essen                     3610\n",
       "Hamburg                   3395\n",
       "Düsseldorf                3195\n",
       "Duisburg                  2871\n",
       "Dortmund                  2573\n",
       "Mittelsachsen_Kreis       2521\n",
       "Gelsenkirchen             2485\n",
       "Köln                      2277\n",
       "Recklinghausen_Kreis      2276\n",
       "Zwickau                   2215\n",
       "Zwickau_Kreis             2175\n",
       "Leipzig_Kreis             2050\n",
       "Name: regio2, dtype: int64"
      ]
     },
     "execution_count": 121,
     "metadata": {},
     "output_type": "execute_result"
    }
   ],
   "source": [
    "df = df[pd.DataFrame(df['regio2'].tolist()).isin(regionlist).any(1).values]\n",
    "df['regio2'].value_counts()"
   ]
  },
  {
   "cell_type": "markdown",
   "id": "1b8cf90b",
   "metadata": {
    "papermill": {
     "duration": 0.091743,
     "end_time": "2021-11-30T18:37:49.158046",
     "exception": false,
     "start_time": "2021-11-30T18:37:49.066303",
     "status": "completed"
    },
    "tags": []
   },
   "source": [
    "## Outliers"
   ]
  },
  {
   "cell_type": "markdown",
   "id": "145321a4",
   "metadata": {
    "papermill": {
     "duration": 0.093151,
     "end_time": "2021-11-30T18:37:49.344679",
     "exception": false,
     "start_time": "2021-11-30T18:37:49.251528",
     "status": "completed"
    },
    "tags": []
   },
   "source": [
    "What we should focus in the first is the data that we want to predict and what relavance most which is 'KaltMiete' and 'WarmMiete'"
   ]
  },
  {
   "cell_type": "code",
   "execution_count": 122,
   "id": "345c0b18",
   "metadata": {
    "papermill": {
     "duration": 0.113916,
     "end_time": "2021-11-30T18:37:49.552170",
     "exception": false,
     "start_time": "2021-11-30T18:37:49.438254",
     "status": "completed"
    },
    "tags": []
   },
   "outputs": [
    {
     "data": {
      "text/plain": [
       "count     228333.00\n",
       "mean         653.83\n",
       "std         3361.44\n",
       "min            0.00\n",
       "25%          335.00\n",
       "50%          490.00\n",
       "75%          795.00\n",
       "max      1234567.00\n",
       "Name: baseRent, dtype: float64"
      ]
     },
     "execution_count": 122,
     "metadata": {},
     "output_type": "execute_result"
    }
   ],
   "source": [
    "df['baseRent'].describe().round(2)"
   ]
  },
  {
   "cell_type": "code",
   "execution_count": 123,
   "id": "18c6ffd1",
   "metadata": {
    "papermill": {
     "duration": 0.110787,
     "end_time": "2021-11-30T18:37:49.753887",
     "exception": false,
     "start_time": "2021-11-30T18:37:49.643100",
     "status": "completed"
    },
    "tags": []
   },
   "outputs": [
    {
     "data": {
      "text/plain": [
       "count      228333.00\n",
       "mean          901.33\n",
       "std         33238.33\n",
       "min             0.00\n",
       "25%           469.80\n",
       "50%           650.00\n",
       "75%           985.00\n",
       "max      15751535.00\n",
       "Name: totalRent, dtype: float64"
      ]
     },
     "execution_count": 123,
     "metadata": {},
     "output_type": "execute_result"
    }
   ],
   "source": [
    "df['totalRent'].describe().round(2)"
   ]
  },
  {
   "cell_type": "markdown",
   "id": "e1c2da95",
   "metadata": {
    "papermill": {
     "duration": 0.090691,
     "end_time": "2021-11-30T18:37:49.935097",
     "exception": false,
     "start_time": "2021-11-30T18:37:49.844406",
     "status": "completed"
    },
    "tags": []
   },
   "source": [
    "Code below I filter and plot the graph repeatly to see the best result and try to remove the outliers that doesn't make sense to the df"
   ]
  },
  {
   "cell_type": "code",
   "execution_count": 124,
   "id": "131cb872",
   "metadata": {
    "papermill": {
     "duration": 0.159098,
     "end_time": "2021-11-30T18:37:50.185100",
     "exception": false,
     "start_time": "2021-11-30T18:37:50.026002",
     "status": "completed"
    },
    "tags": []
   },
   "outputs": [],
   "source": [
    "df = df[(df['baseRent'] > 200) & (df['baseRent'] < 8000)]\n",
    "df = df[(df['totalRent'] > 200) & (df['totalRent'] < 9000)]\n",
    "df = df[(df['totalRent'] > df['baseRent'])]\n",
    "df = df[(df['totalRent'] - df['baseRent']) < 500]\n"
   ]
  },
  {
   "cell_type": "code",
   "execution_count": 125,
   "id": "29c57a01",
   "metadata": {
    "papermill": {
     "duration": 2.45068,
     "end_time": "2021-11-30T18:37:52.725436",
     "exception": false,
     "start_time": "2021-11-30T18:37:50.274756",
     "status": "completed"
    },
    "tags": []
   },
   "outputs": [
    {
     "data": {
      "text/html": [
       "<iframe\n",
       "    scrolling=\"no\"\n",
       "    width=\"100%\"\n",
       "    height=\"545px\"\n",
       "    src=\"iframe_figures/figure_125.html\"\n",
       "    frameborder=\"0\"\n",
       "    allowfullscreen\n",
       "></iframe>\n"
      ]
     },
     "metadata": {},
     "output_type": "display_data"
    }
   ],
   "source": [
    "fig = px.scatter(df, x='totalRent', y='baseRent')\n",
    "fig.show()"
   ]
  },
  {
   "cell_type": "code",
   "execution_count": 126,
   "id": "30e6ebe0",
   "metadata": {
    "papermill": {
     "duration": 0.175807,
     "end_time": "2021-11-30T18:37:53.062918",
     "exception": false,
     "start_time": "2021-11-30T18:37:52.887111",
     "status": "completed"
    },
    "tags": []
   },
   "outputs": [
    {
     "data": {
      "text/plain": [
       "count    214026.000000\n",
       "mean         73.531597\n",
       "std         148.420916\n",
       "min           0.000000\n",
       "25%          55.000000\n",
       "50%          67.660000\n",
       "75%          86.000000\n",
       "max       66100.000000\n",
       "Name: livingSpace, dtype: float64"
      ]
     },
     "execution_count": 126,
     "metadata": {},
     "output_type": "execute_result"
    }
   ],
   "source": [
    "df['livingSpace'].describe()"
   ]
  },
  {
   "cell_type": "code",
   "execution_count": 127,
   "id": "b3d5e075",
   "metadata": {
    "papermill": {
     "duration": 0.17172,
     "end_time": "2021-11-30T18:37:53.383033",
     "exception": false,
     "start_time": "2021-11-30T18:37:53.211313",
     "status": "completed"
    },
    "tags": []
   },
   "outputs": [],
   "source": [
    "df = df[(df['livingSpace'] > 10) & (df['livingSpace'] < 400)]\n"
   ]
  },
  {
   "cell_type": "code",
   "execution_count": 128,
   "id": "d74496e4",
   "metadata": {
    "papermill": {
     "duration": 1.426412,
     "end_time": "2021-11-30T18:37:54.957551",
     "exception": false,
     "start_time": "2021-11-30T18:37:53.531139",
     "status": "completed"
    },
    "tags": []
   },
   "outputs": [
    {
     "data": {
      "text/html": [
       "<iframe\n",
       "    scrolling=\"no\"\n",
       "    width=\"100%\"\n",
       "    height=\"545px\"\n",
       "    src=\"iframe_figures/figure_128.html\"\n",
       "    frameborder=\"0\"\n",
       "    allowfullscreen\n",
       "></iframe>\n"
      ]
     },
     "metadata": {},
     "output_type": "display_data"
    }
   ],
   "source": [
    "fig = px.scatter(df, x='baseRent', y='livingSpace')\n",
    "fig.show()"
   ]
  },
  {
   "cell_type": "markdown",
   "id": "525ba192",
   "metadata": {
    "papermill": {
     "duration": 0.209955,
     "end_time": "2021-11-30T18:37:55.378158",
     "exception": false,
     "start_time": "2021-11-30T18:37:55.168203",
     "status": "completed"
    },
    "tags": []
   },
   "source": [
    "### Feature Engineering\n",
    "We've already created some columns already such as 'numberOfYears'. However, now I'm trying to create more variables for inspect and building a model from new variables later."
   ]
  },
  {
   "cell_type": "markdown",
   "id": "895882e0",
   "metadata": {
    "papermill": {
     "duration": 0.205267,
     "end_time": "2021-11-30T18:37:55.789280",
     "exception": false,
     "start_time": "2021-11-30T18:37:55.584013",
     "status": "completed"
    },
    "tags": []
   },
   "source": [
    "Create a new columns for the price per square meter"
   ]
  },
  {
   "cell_type": "code",
   "execution_count": 129,
   "id": "edd49456",
   "metadata": {
    "papermill": {
     "duration": 0.214799,
     "end_time": "2021-11-30T18:37:56.210073",
     "exception": false,
     "start_time": "2021-11-30T18:37:55.995274",
     "status": "completed"
    },
    "tags": []
   },
   "outputs": [],
   "source": [
    "df['Pricepm2'] = df['baseRent'] / df['livingSpace']\n",
    "df['additioncost'] = df['totalRent'] - df['baseRent']"
   ]
  },
  {
   "cell_type": "code",
   "execution_count": 130,
   "id": "8de6d101",
   "metadata": {
    "papermill": {
     "duration": 1.525135,
     "end_time": "2021-11-30T18:37:57.936880",
     "exception": false,
     "start_time": "2021-11-30T18:37:56.411745",
     "status": "completed"
    },
    "tags": []
   },
   "outputs": [
    {
     "data": {
      "text/html": [
       "<iframe\n",
       "    scrolling=\"no\"\n",
       "    width=\"100%\"\n",
       "    height=\"545px\"\n",
       "    src=\"iframe_figures/figure_130.html\"\n",
       "    frameborder=\"0\"\n",
       "    allowfullscreen\n",
       "></iframe>\n"
      ]
     },
     "metadata": {},
     "output_type": "display_data"
    }
   ],
   "source": [
    "fig = px.scatter(df, x='totalRent', y='Pricepm2')\n",
    "fig.show()"
   ]
  },
  {
   "cell_type": "markdown",
   "id": "c8f38cd5",
   "metadata": {
    "papermill": {
     "duration": 0.312386,
     "end_time": "2021-11-30T18:37:58.567365",
     "exception": false,
     "start_time": "2021-11-30T18:37:58.254979",
     "status": "completed"
    },
    "tags": []
   },
   "source": [
    "### Service Charge"
   ]
  },
  {
   "cell_type": "code",
   "execution_count": 131,
   "id": "1ff122f4",
   "metadata": {
    "papermill": {
     "duration": 0.327451,
     "end_time": "2021-11-30T18:37:59.199970",
     "exception": false,
     "start_time": "2021-11-30T18:37:58.872519",
     "status": "completed"
    },
    "tags": []
   },
   "outputs": [
    {
     "data": {
      "text/plain": [
       "count    211440.000000\n",
       "mean        152.326753\n",
       "std         331.318808\n",
       "min           0.000000\n",
       "25%         100.000000\n",
       "50%         140.000000\n",
       "75%         190.000000\n",
       "max      146118.000000\n",
       "Name: serviceCharge, dtype: float64"
      ]
     },
     "execution_count": 131,
     "metadata": {},
     "output_type": "execute_result"
    }
   ],
   "source": [
    "df['serviceCharge'].describe()"
   ]
  },
  {
   "cell_type": "code",
   "execution_count": 132,
   "id": "d7a21d4b",
   "metadata": {
    "papermill": {
     "duration": 0.345783,
     "end_time": "2021-11-30T18:37:59.848813",
     "exception": false,
     "start_time": "2021-11-30T18:37:59.503030",
     "status": "completed"
    },
    "tags": []
   },
   "outputs": [],
   "source": [
    "df = df[(df['serviceCharge'] < 1000)]\n"
   ]
  },
  {
   "cell_type": "code",
   "execution_count": 133,
   "id": "4894b19d",
   "metadata": {
    "papermill": {
     "duration": 1.413489,
     "end_time": "2021-11-30T18:38:01.561193",
     "exception": false,
     "start_time": "2021-11-30T18:38:00.147704",
     "status": "completed"
    },
    "tags": []
   },
   "outputs": [
    {
     "data": {
      "text/html": [
       "<iframe\n",
       "    scrolling=\"no\"\n",
       "    width=\"100%\"\n",
       "    height=\"545px\"\n",
       "    src=\"iframe_figures/figure_133.html\"\n",
       "    frameborder=\"0\"\n",
       "    allowfullscreen\n",
       "></iframe>\n"
      ]
     },
     "metadata": {},
     "output_type": "display_data"
    }
   ],
   "source": [
    "fig = px.scatter(df, x='totalRent', y='serviceCharge')\n",
    "fig.show()"
   ]
  },
  {
   "cell_type": "markdown",
   "id": "fa8b2112",
   "metadata": {
    "papermill": {
     "duration": 0.361746,
     "end_time": "2021-11-30T18:38:02.304766",
     "exception": false,
     "start_time": "2021-11-30T18:38:01.943020",
     "status": "completed"
    },
    "tags": []
   },
   "source": [
    "## Fill all the missing values"
   ]
  },
  {
   "cell_type": "code",
   "execution_count": 134,
   "id": "d07636ad",
   "metadata": {
    "papermill": {
     "duration": 0.472143,
     "end_time": "2021-11-30T18:38:03.139826",
     "exception": false,
     "start_time": "2021-11-30T18:38:02.667683",
     "status": "completed"
    },
    "tags": []
   },
   "outputs": [],
   "source": [
    "df = df[(df['floor'] >= -1) & (df['floor'] <= 20)] # Floor should contain only basement - 20th floor\n",
    "df['heatingType'].fillna(df['heatingType'].mode()[0], inplace=True)\n",
    "df['typeOfFlat'].fillna(df['typeOfFlat'].mode()[0], inplace=True)"
   ]
  },
  {
   "cell_type": "code",
   "execution_count": 135,
   "id": "2c70e4fd",
   "metadata": {
    "papermill": {
     "duration": 0.429671,
     "end_time": "2021-11-30T18:38:03.920002",
     "exception": false,
     "start_time": "2021-11-30T18:38:03.490331",
     "status": "completed"
    },
    "tags": []
   },
   "outputs": [],
   "source": [
    "heatinglist = list(df['heatingType'].value_counts().head(10).index)\n",
    "df = df[pd.DataFrame(df['heatingType'].tolist()).isin(heatinglist).any(1).values]"
   ]
  },
  {
   "cell_type": "code",
   "execution_count": 136,
   "id": "93c545e6",
   "metadata": {
    "papermill": {
     "duration": 0.382966,
     "end_time": "2021-11-30T18:38:04.656088",
     "exception": false,
     "start_time": "2021-11-30T18:38:04.273122",
     "status": "completed"
    },
    "tags": []
   },
   "outputs": [
    {
     "data": {
      "text/html": [
       "<div>\n",
       "<style scoped>\n",
       "    .dataframe tbody tr th:only-of-type {\n",
       "        vertical-align: middle;\n",
       "    }\n",
       "\n",
       "    .dataframe tbody tr th {\n",
       "        vertical-align: top;\n",
       "    }\n",
       "\n",
       "    .dataframe thead th {\n",
       "        text-align: right;\n",
       "    }\n",
       "</style>\n",
       "<table border=\"1\" class=\"dataframe\">\n",
       "  <thead>\n",
       "    <tr style=\"text-align: right;\">\n",
       "      <th></th>\n",
       "      <th>serviceCharge</th>\n",
       "      <th>heatingType</th>\n",
       "      <th>newlyConst</th>\n",
       "      <th>balcony</th>\n",
       "      <th>totalRent</th>\n",
       "      <th>yearConstructed</th>\n",
       "      <th>hasKitchen</th>\n",
       "      <th>cellar</th>\n",
       "      <th>baseRent</th>\n",
       "      <th>livingSpace</th>\n",
       "      <th>condition</th>\n",
       "      <th>lift</th>\n",
       "      <th>baseRentRange</th>\n",
       "      <th>typeOfFlat</th>\n",
       "      <th>noRooms</th>\n",
       "      <th>floor</th>\n",
       "      <th>garden</th>\n",
       "      <th>regio2</th>\n",
       "      <th>numberOfYear</th>\n",
       "      <th>Pricepm2</th>\n",
       "      <th>additioncost</th>\n",
       "    </tr>\n",
       "  </thead>\n",
       "  <tbody>\n",
       "    <tr>\n",
       "      <th>0</th>\n",
       "      <td>245.0</td>\n",
       "      <td>central_heating</td>\n",
       "      <td>False</td>\n",
       "      <td>False</td>\n",
       "      <td>840.0</td>\n",
       "      <td>1965.0</td>\n",
       "      <td>False</td>\n",
       "      <td>True</td>\n",
       "      <td>595.0</td>\n",
       "      <td>86.00</td>\n",
       "      <td>well_kept</td>\n",
       "      <td>False</td>\n",
       "      <td>4</td>\n",
       "      <td>ground_floor</td>\n",
       "      <td>4.0</td>\n",
       "      <td>1.0</td>\n",
       "      <td>True</td>\n",
       "      <td>Dortmund</td>\n",
       "      <td>57.0</td>\n",
       "      <td>6.918605</td>\n",
       "      <td>245.0</td>\n",
       "    </tr>\n",
       "    <tr>\n",
       "      <th>2</th>\n",
       "      <td>255.0</td>\n",
       "      <td>floor_heating</td>\n",
       "      <td>True</td>\n",
       "      <td>True</td>\n",
       "      <td>1300.0</td>\n",
       "      <td>2019.0</td>\n",
       "      <td>False</td>\n",
       "      <td>True</td>\n",
       "      <td>965.0</td>\n",
       "      <td>83.80</td>\n",
       "      <td>first_time_use</td>\n",
       "      <td>True</td>\n",
       "      <td>6</td>\n",
       "      <td>apartment</td>\n",
       "      <td>3.0</td>\n",
       "      <td>3.0</td>\n",
       "      <td>False</td>\n",
       "      <td>Dresden</td>\n",
       "      <td>3.0</td>\n",
       "      <td>11.515513</td>\n",
       "      <td>335.0</td>\n",
       "    </tr>\n",
       "    <tr>\n",
       "      <th>4</th>\n",
       "      <td>138.0</td>\n",
       "      <td>self_contained_central_heating</td>\n",
       "      <td>False</td>\n",
       "      <td>True</td>\n",
       "      <td>903.0</td>\n",
       "      <td>1950.0</td>\n",
       "      <td>False</td>\n",
       "      <td>False</td>\n",
       "      <td>765.0</td>\n",
       "      <td>84.97</td>\n",
       "      <td>refurbished</td>\n",
       "      <td>False</td>\n",
       "      <td>5</td>\n",
       "      <td>apartment</td>\n",
       "      <td>3.0</td>\n",
       "      <td>1.0</td>\n",
       "      <td>False</td>\n",
       "      <td>Other</td>\n",
       "      <td>72.0</td>\n",
       "      <td>9.003178</td>\n",
       "      <td>138.0</td>\n",
       "    </tr>\n",
       "    <tr>\n",
       "      <th>6</th>\n",
       "      <td>70.0</td>\n",
       "      <td>self_contained_central_heating</td>\n",
       "      <td>False</td>\n",
       "      <td>False</td>\n",
       "      <td>380.0</td>\n",
       "      <td>1958.0</td>\n",
       "      <td>False</td>\n",
       "      <td>True</td>\n",
       "      <td>310.0</td>\n",
       "      <td>62.00</td>\n",
       "      <td>fully_renovated</td>\n",
       "      <td>False</td>\n",
       "      <td>2</td>\n",
       "      <td>apartment</td>\n",
       "      <td>2.0</td>\n",
       "      <td>1.0</td>\n",
       "      <td>True</td>\n",
       "      <td>Mittelsachsen_Kreis</td>\n",
       "      <td>64.0</td>\n",
       "      <td>5.000000</td>\n",
       "      <td>70.0</td>\n",
       "    </tr>\n",
       "    <tr>\n",
       "      <th>8</th>\n",
       "      <td>110.0</td>\n",
       "      <td>oil_heating</td>\n",
       "      <td>False</td>\n",
       "      <td>False</td>\n",
       "      <td>690.0</td>\n",
       "      <td>1970.0</td>\n",
       "      <td>True</td>\n",
       "      <td>True</td>\n",
       "      <td>580.0</td>\n",
       "      <td>53.00</td>\n",
       "      <td>well_kept</td>\n",
       "      <td>False</td>\n",
       "      <td>4</td>\n",
       "      <td>roof_storey</td>\n",
       "      <td>2.0</td>\n",
       "      <td>2.0</td>\n",
       "      <td>False</td>\n",
       "      <td>Other</td>\n",
       "      <td>52.0</td>\n",
       "      <td>10.943396</td>\n",
       "      <td>110.0</td>\n",
       "    </tr>\n",
       "  </tbody>\n",
       "</table>\n",
       "</div>"
      ],
      "text/plain": [
       "   serviceCharge                     heatingType  newlyConst  balcony  \\\n",
       "0          245.0                 central_heating       False    False   \n",
       "2          255.0                   floor_heating        True     True   \n",
       "4          138.0  self_contained_central_heating       False     True   \n",
       "6           70.0  self_contained_central_heating       False    False   \n",
       "8          110.0                     oil_heating       False    False   \n",
       "\n",
       "   totalRent  yearConstructed  hasKitchen  cellar  baseRent  livingSpace  \\\n",
       "0      840.0           1965.0       False    True     595.0        86.00   \n",
       "2     1300.0           2019.0       False    True     965.0        83.80   \n",
       "4      903.0           1950.0       False   False     765.0        84.97   \n",
       "6      380.0           1958.0       False    True     310.0        62.00   \n",
       "8      690.0           1970.0        True    True     580.0        53.00   \n",
       "\n",
       "         condition   lift  baseRentRange    typeOfFlat  noRooms  floor  \\\n",
       "0        well_kept  False              4  ground_floor      4.0    1.0   \n",
       "2   first_time_use   True              6     apartment      3.0    3.0   \n",
       "4      refurbished  False              5     apartment      3.0    1.0   \n",
       "6  fully_renovated  False              2     apartment      2.0    1.0   \n",
       "8        well_kept  False              4   roof_storey      2.0    2.0   \n",
       "\n",
       "   garden               regio2  numberOfYear   Pricepm2  additioncost  \n",
       "0    True             Dortmund          57.0   6.918605         245.0  \n",
       "2   False              Dresden           3.0  11.515513         335.0  \n",
       "4   False                Other          72.0   9.003178         138.0  \n",
       "6    True  Mittelsachsen_Kreis          64.0   5.000000          70.0  \n",
       "8   False                Other          52.0  10.943396         110.0  "
      ]
     },
     "execution_count": 136,
     "metadata": {},
     "output_type": "execute_result"
    }
   ],
   "source": [
    "df.head()"
   ]
  },
  {
   "cell_type": "code",
   "execution_count": 137,
   "id": "1dc8d02a",
   "metadata": {
    "papermill": {
     "duration": 0.632785,
     "end_time": "2021-11-30T18:38:05.643246",
     "exception": false,
     "start_time": "2021-11-30T18:38:05.010461",
     "status": "completed"
    },
    "tags": []
   },
   "outputs": [],
   "source": [
    "for cols in df.columns:\n",
    "    if df[cols].dtype == 'int64' or df[cols].dtype == 'float64':\n",
    "        upper_range = df[cols].mean() + 3 * df[cols].std()\n",
    "        lower_range = df[cols].mean() - 3 * df[cols].std()\n",
    "        \n",
    "        indexs = df[(df[cols] > upper_range) | (df[cols] < lower_range)].index\n",
    "        df = df.drop(indexs)"
   ]
  },
  {
   "cell_type": "markdown",
   "id": "6fa9636a",
   "metadata": {
    "papermill": {
     "duration": 0.436506,
     "end_time": "2021-11-30T18:38:06.437078",
     "exception": false,
     "start_time": "2021-11-30T18:38:06.000572",
     "status": "completed"
    },
    "tags": []
   },
   "source": [
    "Drop the 'baseRent' columns because it has a lot of correlation to 'totalRent'"
   ]
  },
  {
   "cell_type": "code",
   "execution_count": 138,
   "id": "d15167ee",
   "metadata": {
    "papermill": {
     "duration": 0.370773,
     "end_time": "2021-11-30T18:38:07.162276",
     "exception": false,
     "start_time": "2021-11-30T18:38:06.791503",
     "status": "completed"
    },
    "tags": []
   },
   "outputs": [],
   "source": [
    "df.drop(['baseRent','baseRentRange'],axis=1,inplace=True)"
   ]
  },
  {
   "cell_type": "markdown",
   "id": "93f8d101",
   "metadata": {
    "papermill": {
     "duration": 0.375512,
     "end_time": "2021-11-30T18:38:07.889098",
     "exception": false,
     "start_time": "2021-11-30T18:38:07.513586",
     "status": "completed"
    },
    "tags": []
   },
   "source": [
    "Checking for the last time, we don't have any missing data left"
   ]
  },
  {
   "cell_type": "code",
   "execution_count": 139,
   "id": "be366dc6",
   "metadata": {
    "papermill": {
     "duration": 0.51868,
     "end_time": "2021-11-30T18:38:08.766912",
     "exception": false,
     "start_time": "2021-11-30T18:38:08.248232",
     "status": "completed"
    },
    "tags": []
   },
   "outputs": [
    {
     "data": {
      "text/html": [
       "<div>\n",
       "<style scoped>\n",
       "    .dataframe tbody tr th:only-of-type {\n",
       "        vertical-align: middle;\n",
       "    }\n",
       "\n",
       "    .dataframe tbody tr th {\n",
       "        vertical-align: top;\n",
       "    }\n",
       "\n",
       "    .dataframe thead th {\n",
       "        text-align: right;\n",
       "    }\n",
       "</style>\n",
       "<table border=\"1\" class=\"dataframe\">\n",
       "  <thead>\n",
       "    <tr style=\"text-align: right;\">\n",
       "      <th></th>\n",
       "      <th>Total</th>\n",
       "      <th>Percent</th>\n",
       "    </tr>\n",
       "  </thead>\n",
       "  <tbody>\n",
       "    <tr>\n",
       "      <th>serviceCharge</th>\n",
       "      <td>0</td>\n",
       "      <td>0.0</td>\n",
       "    </tr>\n",
       "    <tr>\n",
       "      <th>lift</th>\n",
       "      <td>0</td>\n",
       "      <td>0.0</td>\n",
       "    </tr>\n",
       "    <tr>\n",
       "      <th>Pricepm2</th>\n",
       "      <td>0</td>\n",
       "      <td>0.0</td>\n",
       "    </tr>\n",
       "    <tr>\n",
       "      <th>numberOfYear</th>\n",
       "      <td>0</td>\n",
       "      <td>0.0</td>\n",
       "    </tr>\n",
       "    <tr>\n",
       "      <th>regio2</th>\n",
       "      <td>0</td>\n",
       "      <td>0.0</td>\n",
       "    </tr>\n",
       "  </tbody>\n",
       "</table>\n",
       "</div>"
      ],
      "text/plain": [
       "               Total  Percent\n",
       "serviceCharge      0      0.0\n",
       "lift               0      0.0\n",
       "Pricepm2           0      0.0\n",
       "numberOfYear       0      0.0\n",
       "regio2             0      0.0"
      ]
     },
     "execution_count": 139,
     "metadata": {},
     "output_type": "execute_result"
    }
   ],
   "source": [
    "missing_values(df,5)"
   ]
  },
  {
   "cell_type": "markdown",
   "id": "fa5119f0",
   "metadata": {
    "papermill": {
     "duration": 0.353394,
     "end_time": "2021-11-30T18:38:09.475988",
     "exception": false,
     "start_time": "2021-11-30T18:38:09.122594",
     "status": "completed"
    },
    "tags": []
   },
   "source": [
    "Now we're finished with Data Cleaning Job so we could virtualization to have a better understanding of our dataset."
   ]
  },
  {
   "cell_type": "markdown",
   "id": "f34966b0",
   "metadata": {
    "papermill": {
     "duration": 0.356079,
     "end_time": "2021-11-30T18:38:10.185841",
     "exception": false,
     "start_time": "2021-11-30T18:38:09.829762",
     "status": "completed"
    },
    "tags": []
   },
   "source": [
    "# Data Virtualization"
   ]
  },
  {
   "cell_type": "code",
   "execution_count": 140,
   "id": "6d2fe901",
   "metadata": {
    "papermill": {
     "duration": 0.400104,
     "end_time": "2021-11-30T18:38:10.984636",
     "exception": false,
     "start_time": "2021-11-30T18:38:10.584532",
     "status": "completed"
    },
    "tags": []
   },
   "outputs": [
    {
     "data": {
      "text/html": [
       "<div>\n",
       "<style scoped>\n",
       "    .dataframe tbody tr th:only-of-type {\n",
       "        vertical-align: middle;\n",
       "    }\n",
       "\n",
       "    .dataframe tbody tr th {\n",
       "        vertical-align: top;\n",
       "    }\n",
       "\n",
       "    .dataframe thead th {\n",
       "        text-align: right;\n",
       "    }\n",
       "</style>\n",
       "<table border=\"1\" class=\"dataframe\">\n",
       "  <thead>\n",
       "    <tr style=\"text-align: right;\">\n",
       "      <th></th>\n",
       "      <th>serviceCharge</th>\n",
       "      <th>heatingType</th>\n",
       "      <th>newlyConst</th>\n",
       "      <th>balcony</th>\n",
       "      <th>totalRent</th>\n",
       "      <th>yearConstructed</th>\n",
       "      <th>hasKitchen</th>\n",
       "      <th>cellar</th>\n",
       "      <th>livingSpace</th>\n",
       "      <th>condition</th>\n",
       "      <th>lift</th>\n",
       "      <th>typeOfFlat</th>\n",
       "      <th>noRooms</th>\n",
       "      <th>floor</th>\n",
       "      <th>garden</th>\n",
       "      <th>regio2</th>\n",
       "      <th>numberOfYear</th>\n",
       "      <th>Pricepm2</th>\n",
       "      <th>additioncost</th>\n",
       "    </tr>\n",
       "  </thead>\n",
       "  <tbody>\n",
       "    <tr>\n",
       "      <th>0</th>\n",
       "      <td>245.0</td>\n",
       "      <td>central_heating</td>\n",
       "      <td>False</td>\n",
       "      <td>False</td>\n",
       "      <td>840.0</td>\n",
       "      <td>1965.0</td>\n",
       "      <td>False</td>\n",
       "      <td>True</td>\n",
       "      <td>86.00</td>\n",
       "      <td>well_kept</td>\n",
       "      <td>False</td>\n",
       "      <td>ground_floor</td>\n",
       "      <td>4.0</td>\n",
       "      <td>1.0</td>\n",
       "      <td>True</td>\n",
       "      <td>Dortmund</td>\n",
       "      <td>57.0</td>\n",
       "      <td>6.918605</td>\n",
       "      <td>245.0</td>\n",
       "    </tr>\n",
       "    <tr>\n",
       "      <th>2</th>\n",
       "      <td>255.0</td>\n",
       "      <td>floor_heating</td>\n",
       "      <td>True</td>\n",
       "      <td>True</td>\n",
       "      <td>1300.0</td>\n",
       "      <td>2019.0</td>\n",
       "      <td>False</td>\n",
       "      <td>True</td>\n",
       "      <td>83.80</td>\n",
       "      <td>first_time_use</td>\n",
       "      <td>True</td>\n",
       "      <td>apartment</td>\n",
       "      <td>3.0</td>\n",
       "      <td>3.0</td>\n",
       "      <td>False</td>\n",
       "      <td>Dresden</td>\n",
       "      <td>3.0</td>\n",
       "      <td>11.515513</td>\n",
       "      <td>335.0</td>\n",
       "    </tr>\n",
       "    <tr>\n",
       "      <th>4</th>\n",
       "      <td>138.0</td>\n",
       "      <td>self_contained_central_heating</td>\n",
       "      <td>False</td>\n",
       "      <td>True</td>\n",
       "      <td>903.0</td>\n",
       "      <td>1950.0</td>\n",
       "      <td>False</td>\n",
       "      <td>False</td>\n",
       "      <td>84.97</td>\n",
       "      <td>refurbished</td>\n",
       "      <td>False</td>\n",
       "      <td>apartment</td>\n",
       "      <td>3.0</td>\n",
       "      <td>1.0</td>\n",
       "      <td>False</td>\n",
       "      <td>Other</td>\n",
       "      <td>72.0</td>\n",
       "      <td>9.003178</td>\n",
       "      <td>138.0</td>\n",
       "    </tr>\n",
       "    <tr>\n",
       "      <th>6</th>\n",
       "      <td>70.0</td>\n",
       "      <td>self_contained_central_heating</td>\n",
       "      <td>False</td>\n",
       "      <td>False</td>\n",
       "      <td>380.0</td>\n",
       "      <td>1958.0</td>\n",
       "      <td>False</td>\n",
       "      <td>True</td>\n",
       "      <td>62.00</td>\n",
       "      <td>fully_renovated</td>\n",
       "      <td>False</td>\n",
       "      <td>apartment</td>\n",
       "      <td>2.0</td>\n",
       "      <td>1.0</td>\n",
       "      <td>True</td>\n",
       "      <td>Mittelsachsen_Kreis</td>\n",
       "      <td>64.0</td>\n",
       "      <td>5.000000</td>\n",
       "      <td>70.0</td>\n",
       "    </tr>\n",
       "    <tr>\n",
       "      <th>8</th>\n",
       "      <td>110.0</td>\n",
       "      <td>oil_heating</td>\n",
       "      <td>False</td>\n",
       "      <td>False</td>\n",
       "      <td>690.0</td>\n",
       "      <td>1970.0</td>\n",
       "      <td>True</td>\n",
       "      <td>True</td>\n",
       "      <td>53.00</td>\n",
       "      <td>well_kept</td>\n",
       "      <td>False</td>\n",
       "      <td>roof_storey</td>\n",
       "      <td>2.0</td>\n",
       "      <td>2.0</td>\n",
       "      <td>False</td>\n",
       "      <td>Other</td>\n",
       "      <td>52.0</td>\n",
       "      <td>10.943396</td>\n",
       "      <td>110.0</td>\n",
       "    </tr>\n",
       "  </tbody>\n",
       "</table>\n",
       "</div>"
      ],
      "text/plain": [
       "   serviceCharge                     heatingType  newlyConst  balcony  \\\n",
       "0          245.0                 central_heating       False    False   \n",
       "2          255.0                   floor_heating        True     True   \n",
       "4          138.0  self_contained_central_heating       False     True   \n",
       "6           70.0  self_contained_central_heating       False    False   \n",
       "8          110.0                     oil_heating       False    False   \n",
       "\n",
       "   totalRent  yearConstructed  hasKitchen  cellar  livingSpace  \\\n",
       "0      840.0           1965.0       False    True        86.00   \n",
       "2     1300.0           2019.0       False    True        83.80   \n",
       "4      903.0           1950.0       False   False        84.97   \n",
       "6      380.0           1958.0       False    True        62.00   \n",
       "8      690.0           1970.0        True    True        53.00   \n",
       "\n",
       "         condition   lift    typeOfFlat  noRooms  floor  garden  \\\n",
       "0        well_kept  False  ground_floor      4.0    1.0    True   \n",
       "2   first_time_use   True     apartment      3.0    3.0   False   \n",
       "4      refurbished  False     apartment      3.0    1.0   False   \n",
       "6  fully_renovated  False     apartment      2.0    1.0    True   \n",
       "8        well_kept  False   roof_storey      2.0    2.0   False   \n",
       "\n",
       "                regio2  numberOfYear   Pricepm2  additioncost  \n",
       "0             Dortmund          57.0   6.918605         245.0  \n",
       "2              Dresden           3.0  11.515513         335.0  \n",
       "4                Other          72.0   9.003178         138.0  \n",
       "6  Mittelsachsen_Kreis          64.0   5.000000          70.0  \n",
       "8                Other          52.0  10.943396         110.0  "
      ]
     },
     "execution_count": 140,
     "metadata": {},
     "output_type": "execute_result"
    }
   ],
   "source": [
    "df.head()"
   ]
  },
  {
   "cell_type": "markdown",
   "id": "208bf9e8",
   "metadata": {
    "papermill": {
     "duration": 0.491073,
     "end_time": "2021-11-30T18:38:11.838586",
     "exception": false,
     "start_time": "2021-11-30T18:38:11.347513",
     "status": "completed"
    },
    "tags": []
   },
   "source": [
    "I love to use correlation map to inspect the dataset. Which  variables has the more correlation to the variables that we want to predict."
   ]
  },
  {
   "cell_type": "code",
   "execution_count": 141,
   "id": "23dd4e28",
   "metadata": {
    "papermill": {
     "duration": 2.400484,
     "end_time": "2021-11-30T18:38:14.594292",
     "exception": false,
     "start_time": "2021-11-30T18:38:12.193808",
     "status": "completed"
    },
    "tags": []
   },
   "outputs": [
    {
     "data": {
      "text/plain": [
       "<AxesSubplot:>"
      ]
     },
     "execution_count": 141,
     "metadata": {},
     "output_type": "execute_result"
    },
    {
     "data": {
      "image/png": "[encoded data removed]",
      "text/plain": [
       "<Figure size 864x864 with 2 Axes>"
      ]
     },
     "metadata": {
      "needs_background": "light"
     },
     "output_type": "display_data"
    }
   ],
   "source": [
    "f, ax = plt.subplots(figsize=(12, 12))\n",
    "\n",
    "sns.heatmap(df.corr().sort_values(by='totalRent',ascending=False), square = True,fmt='.2f' ,annot = True)"
   ]
  },
  {
   "cell_type": "markdown",
   "id": "a9dbde31",
   "metadata": {
    "papermill": {
     "duration": 0.35811,
     "end_time": "2021-11-30T18:38:15.332850",
     "exception": false,
     "start_time": "2021-11-30T18:38:14.974740",
     "status": "completed"
    },
    "tags": []
   },
   "source": [
    "From the dataset, variables that irrelevant to 'totalRent' are 'cellar','floor' and 'garden' so I would consider drop it."
   ]
  },
  {
   "cell_type": "code",
   "execution_count": 142,
   "id": "43d21868",
   "metadata": {
    "papermill": {
     "duration": 0.378658,
     "end_time": "2021-11-30T18:38:16.071358",
     "exception": false,
     "start_time": "2021-11-30T18:38:15.692700",
     "status": "completed"
    },
    "tags": []
   },
   "outputs": [],
   "source": [
    "df.drop(['cellar','floor','garden'],axis=1,inplace=True)"
   ]
  },
  {
   "cell_type": "markdown",
   "id": "5471f5da",
   "metadata": {
    "papermill": {
     "duration": 0.361397,
     "end_time": "2021-11-30T18:38:16.794425",
     "exception": false,
     "start_time": "2021-11-30T18:38:16.433028",
     "status": "completed"
    },
    "tags": []
   },
   "source": [
    "### Basic inspection to check the kurtosis and skewness of the data"
   ]
  },
  {
   "cell_type": "code",
   "execution_count": 143,
   "id": "e6ac1645",
   "metadata": {
    "papermill": {
     "duration": 1.655113,
     "end_time": "2021-11-30T18:38:18.813327",
     "exception": false,
     "start_time": "2021-11-30T18:38:17.158214",
     "status": "completed"
    },
    "tags": []
   },
   "outputs": [
    {
     "data": {
      "text/plain": [
       "<AxesSubplot:xlabel='totalRent', ylabel='Density'>"
      ]
     },
     "execution_count": 143,
     "metadata": {},
     "output_type": "execute_result"
    },
    {
     "data": {
      "image/png": "[encoded data removed]",
      "text/plain": [
       "<Figure size 720x432 with 1 Axes>"
      ]
     },
     "metadata": {
      "needs_background": "light"
     },
     "output_type": "display_data"
    }
   ],
   "source": [
    "fig,ax = plt.subplots(figsize=(10,6))\n",
    "sns.distplot(df['totalRent'],fit=norm)"
   ]
  },
  {
   "cell_type": "code",
   "execution_count": 144,
   "id": "14f41327",
   "metadata": {
    "papermill": {
     "duration": 1.611946,
     "end_time": "2021-11-30T18:38:20.802414",
     "exception": false,
     "start_time": "2021-11-30T18:38:19.190468",
     "status": "completed"
    },
    "tags": []
   },
   "outputs": [
    {
     "data": {
      "text/plain": [
       "<AxesSubplot:xlabel='livingSpace', ylabel='Density'>"
      ]
     },
     "execution_count": 144,
     "metadata": {},
     "output_type": "execute_result"
    },
    {
     "data": {
      "image/png": "[encoded data removed]",
      "text/plain": [
       "<Figure size 720x432 with 1 Axes>"
      ]
     },
     "metadata": {
      "needs_background": "light"
     },
     "output_type": "display_data"
    }
   ],
   "source": [
    "fig,ax = plt.subplots(figsize=(10,6))\n",
    "sns.distplot(df['livingSpace'],fit=norm)"
   ]
  },
  {
   "cell_type": "code",
   "execution_count": 145,
   "id": "089f2e98",
   "metadata": {
    "papermill": {
     "duration": 0.393884,
     "end_time": "2021-11-30T18:38:21.572284",
     "exception": false,
     "start_time": "2021-11-30T18:38:21.178400",
     "status": "completed"
    },
    "tags": []
   },
   "outputs": [
    {
     "data": {
      "text/html": [
       "<div>\n",
       "<style scoped>\n",
       "    .dataframe tbody tr th:only-of-type {\n",
       "        vertical-align: middle;\n",
       "    }\n",
       "\n",
       "    .dataframe tbody tr th {\n",
       "        vertical-align: top;\n",
       "    }\n",
       "\n",
       "    .dataframe thead th {\n",
       "        text-align: right;\n",
       "    }\n",
       "</style>\n",
       "<table border=\"1\" class=\"dataframe\">\n",
       "  <thead>\n",
       "    <tr style=\"text-align: right;\">\n",
       "      <th></th>\n",
       "      <th>serviceCharge</th>\n",
       "      <th>heatingType</th>\n",
       "      <th>newlyConst</th>\n",
       "      <th>balcony</th>\n",
       "      <th>totalRent</th>\n",
       "      <th>yearConstructed</th>\n",
       "      <th>hasKitchen</th>\n",
       "      <th>livingSpace</th>\n",
       "      <th>condition</th>\n",
       "      <th>lift</th>\n",
       "      <th>typeOfFlat</th>\n",
       "      <th>noRooms</th>\n",
       "      <th>regio2</th>\n",
       "      <th>numberOfYear</th>\n",
       "      <th>Pricepm2</th>\n",
       "      <th>additioncost</th>\n",
       "    </tr>\n",
       "  </thead>\n",
       "  <tbody>\n",
       "    <tr>\n",
       "      <th>0</th>\n",
       "      <td>245.0</td>\n",
       "      <td>central_heating</td>\n",
       "      <td>False</td>\n",
       "      <td>False</td>\n",
       "      <td>840.0</td>\n",
       "      <td>1965.0</td>\n",
       "      <td>False</td>\n",
       "      <td>86.00</td>\n",
       "      <td>well_kept</td>\n",
       "      <td>False</td>\n",
       "      <td>ground_floor</td>\n",
       "      <td>4.0</td>\n",
       "      <td>Dortmund</td>\n",
       "      <td>57.0</td>\n",
       "      <td>6.918605</td>\n",
       "      <td>245.0</td>\n",
       "    </tr>\n",
       "    <tr>\n",
       "      <th>2</th>\n",
       "      <td>255.0</td>\n",
       "      <td>floor_heating</td>\n",
       "      <td>True</td>\n",
       "      <td>True</td>\n",
       "      <td>1300.0</td>\n",
       "      <td>2019.0</td>\n",
       "      <td>False</td>\n",
       "      <td>83.80</td>\n",
       "      <td>first_time_use</td>\n",
       "      <td>True</td>\n",
       "      <td>apartment</td>\n",
       "      <td>3.0</td>\n",
       "      <td>Dresden</td>\n",
       "      <td>3.0</td>\n",
       "      <td>11.515513</td>\n",
       "      <td>335.0</td>\n",
       "    </tr>\n",
       "    <tr>\n",
       "      <th>4</th>\n",
       "      <td>138.0</td>\n",
       "      <td>self_contained_central_heating</td>\n",
       "      <td>False</td>\n",
       "      <td>True</td>\n",
       "      <td>903.0</td>\n",
       "      <td>1950.0</td>\n",
       "      <td>False</td>\n",
       "      <td>84.97</td>\n",
       "      <td>refurbished</td>\n",
       "      <td>False</td>\n",
       "      <td>apartment</td>\n",
       "      <td>3.0</td>\n",
       "      <td>Other</td>\n",
       "      <td>72.0</td>\n",
       "      <td>9.003178</td>\n",
       "      <td>138.0</td>\n",
       "    </tr>\n",
       "    <tr>\n",
       "      <th>6</th>\n",
       "      <td>70.0</td>\n",
       "      <td>self_contained_central_heating</td>\n",
       "      <td>False</td>\n",
       "      <td>False</td>\n",
       "      <td>380.0</td>\n",
       "      <td>1958.0</td>\n",
       "      <td>False</td>\n",
       "      <td>62.00</td>\n",
       "      <td>fully_renovated</td>\n",
       "      <td>False</td>\n",
       "      <td>apartment</td>\n",
       "      <td>2.0</td>\n",
       "      <td>Mittelsachsen_Kreis</td>\n",
       "      <td>64.0</td>\n",
       "      <td>5.000000</td>\n",
       "      <td>70.0</td>\n",
       "    </tr>\n",
       "    <tr>\n",
       "      <th>8</th>\n",
       "      <td>110.0</td>\n",
       "      <td>oil_heating</td>\n",
       "      <td>False</td>\n",
       "      <td>False</td>\n",
       "      <td>690.0</td>\n",
       "      <td>1970.0</td>\n",
       "      <td>True</td>\n",
       "      <td>53.00</td>\n",
       "      <td>well_kept</td>\n",
       "      <td>False</td>\n",
       "      <td>roof_storey</td>\n",
       "      <td>2.0</td>\n",
       "      <td>Other</td>\n",
       "      <td>52.0</td>\n",
       "      <td>10.943396</td>\n",
       "      <td>110.0</td>\n",
       "    </tr>\n",
       "  </tbody>\n",
       "</table>\n",
       "</div>"
      ],
      "text/plain": [
       "   serviceCharge                     heatingType  newlyConst  balcony  \\\n",
       "0          245.0                 central_heating       False    False   \n",
       "2          255.0                   floor_heating        True     True   \n",
       "4          138.0  self_contained_central_heating       False     True   \n",
       "6           70.0  self_contained_central_heating       False    False   \n",
       "8          110.0                     oil_heating       False    False   \n",
       "\n",
       "   totalRent  yearConstructed  hasKitchen  livingSpace        condition  \\\n",
       "0      840.0           1965.0       False        86.00        well_kept   \n",
       "2     1300.0           2019.0       False        83.80   first_time_use   \n",
       "4      903.0           1950.0       False        84.97      refurbished   \n",
       "6      380.0           1958.0       False        62.00  fully_renovated   \n",
       "8      690.0           1970.0        True        53.00        well_kept   \n",
       "\n",
       "    lift    typeOfFlat  noRooms               regio2  numberOfYear   Pricepm2  \\\n",
       "0  False  ground_floor      4.0             Dortmund          57.0   6.918605   \n",
       "2   True     apartment      3.0              Dresden           3.0  11.515513   \n",
       "4  False     apartment      3.0                Other          72.0   9.003178   \n",
       "6  False     apartment      2.0  Mittelsachsen_Kreis          64.0   5.000000   \n",
       "8  False   roof_storey      2.0                Other          52.0  10.943396   \n",
       "\n",
       "   additioncost  \n",
       "0         245.0  \n",
       "2         335.0  \n",
       "4         138.0  \n",
       "6          70.0  \n",
       "8         110.0  "
      ]
     },
     "execution_count": 145,
     "metadata": {},
     "output_type": "execute_result"
    }
   ],
   "source": [
    "df.head()"
   ]
  },
  {
   "cell_type": "markdown",
   "id": "7d4b012e",
   "metadata": {
    "papermill": {
     "duration": 0.364591,
     "end_time": "2021-11-30T18:38:22.309990",
     "exception": false,
     "start_time": "2021-11-30T18:38:21.945399",
     "status": "completed"
    },
    "tags": []
   },
   "source": [
    "### Start with the ratio of each city"
   ]
  },
  {
   "cell_type": "code",
   "execution_count": 146,
   "id": "55858cef",
   "metadata": {
    "_kg_hide-input": true,
    "papermill": {
     "duration": 0.441334,
     "end_time": "2021-11-30T18:38:23.116468",
     "exception": false,
     "start_time": "2021-11-30T18:38:22.675134",
     "status": "completed"
    },
    "tags": []
   },
   "outputs": [
    {
     "data": {
      "text/html": [
       "<iframe\n",
       "    scrolling=\"no\"\n",
       "    width=\"100%\"\n",
       "    height=\"545px\"\n",
       "    src=\"iframe_figures/figure_146.html\"\n",
       "    frameborder=\"0\"\n",
       "    allowfullscreen\n",
       "></iframe>\n"
      ]
     },
     "metadata": {},
     "output_type": "display_data"
    }
   ],
   "source": [
    "countpie = df['regio2'].value_counts()\n",
    "\n",
    "fig = {\n",
    "  \"data\": [\n",
    "    {\n",
    "      \"values\": countpie.values,\n",
    "      \"labels\": countpie.index,\n",
    "      \"domain\": {\"x\": [0, .5]},\n",
    "      \"name\": \"City\",\n",
    "      \"hoverinfo\":\"label+percent+name\",\n",
    "      \"hole\": .7,\n",
    "      \"type\": \"pie\"\n",
    "    },],\n",
    "  \"layout\": {\n",
    "        \"title\":\"Pie chart of all the City ratio in the dataset\",\n",
    "    }\n",
    "}\n",
    "iplot(fig)"
   ]
  },
  {
   "cell_type": "code",
   "execution_count": 147,
   "id": "ae784fe4",
   "metadata": {
    "_kg_hide-input": true,
    "papermill": {
     "duration": 0.425101,
     "end_time": "2021-11-30T18:38:23.904008",
     "exception": false,
     "start_time": "2021-11-30T18:38:23.478907",
     "status": "completed"
    },
    "tags": []
   },
   "outputs": [
    {
     "data": {
      "text/html": [
       "<iframe\n",
       "    scrolling=\"no\"\n",
       "    width=\"100%\"\n",
       "    height=\"545px\"\n",
       "    src=\"iframe_figures/figure_147.html\"\n",
       "    frameborder=\"0\"\n",
       "    allowfullscreen\n",
       "></iframe>\n"
      ]
     },
     "metadata": {},
     "output_type": "display_data"
    }
   ],
   "source": [
    "countpie = df['regio2'].value_counts().iloc[1:,]\n",
    "\n",
    "fig = {\n",
    "  \"data\": [\n",
    "    {\n",
    "      \"values\": countpie.values,\n",
    "      \"labels\": countpie.index,\n",
    "      \"domain\": {\"x\": [0, .5]},\n",
    "      \"name\": \"City\",\n",
    "      \"hoverinfo\":\"label+percent+name\",\n",
    "      \"hole\": .7,\n",
    "      \"type\": \"pie\"\n",
    "    },],\n",
    "  \"layout\": {\n",
    "        \"title\":\"Pie chart of all the City ratio in the dataset exclude 'Other'\",\n",
    "    }\n",
    "}\n",
    "iplot(fig)"
   ]
  },
  {
   "cell_type": "code",
   "execution_count": 148,
   "id": "cea2657a",
   "metadata": {
    "_kg_hide-input": true,
    "papermill": {
     "duration": 0.434616,
     "end_time": "2021-11-30T18:38:24.703384",
     "exception": false,
     "start_time": "2021-11-30T18:38:24.268768",
     "status": "completed"
    },
    "tags": []
   },
   "outputs": [
    {
     "data": {
      "text/html": [
       "<iframe\n",
       "    scrolling=\"no\"\n",
       "    width=\"100%\"\n",
       "    height=\"545px\"\n",
       "    src=\"iframe_figures/figure_148.html\"\n",
       "    frameborder=\"0\"\n",
       "    allowfullscreen\n",
       "></iframe>\n"
      ]
     },
     "metadata": {},
     "output_type": "display_data"
    }
   ],
   "source": [
    "plotter = df.groupby('regio2')['totalRent'].agg(['mean'])\n",
    "plotter.columns = [\"mean\"]\n",
    "plotter['regio2'] = plotter.index\n",
    "\n",
    "data = [\n",
    "    {\n",
    "        'x': plotter['regio2'],\n",
    "        'y': plotter['mean'],\n",
    "        'mode': 'markers+text',\n",
    "        'text' : plotter['regio2'],\n",
    "        'textposition' : 'bottom center',\n",
    "        'marker': {  \n",
    "            'size': 20,\n",
    "        }\n",
    "    }\n",
    "]\n",
    "\n",
    "layout = go.Layout(title=\"Average rental per month\", \n",
    "                   xaxis=dict(title='City'),\n",
    "                   yaxis=dict(title='Cost of rental')\n",
    "                  )\n",
    "fig = go.Figure(data = data, layout = layout)\n",
    "iplot(fig, filename='scatter0')"
   ]
  },
  {
   "cell_type": "markdown",
   "id": "34d3b1b5",
   "metadata": {
    "papermill": {
     "duration": 0.368372,
     "end_time": "2021-11-30T18:38:25.439175",
     "exception": false,
     "start_time": "2021-11-30T18:38:25.070803",
     "status": "completed"
    },
    "tags": []
   },
   "source": [
    "München, Frankfurt am Main, Hamburg, Düsseldorf, Berlin and Köln seem to be the highest rental city"
   ]
  },
  {
   "cell_type": "code",
   "execution_count": 149,
   "id": "2227fe95",
   "metadata": {
    "_kg_hide-input": true,
    "papermill": {
     "duration": 0.632428,
     "end_time": "2021-11-30T18:38:26.438614",
     "exception": false,
     "start_time": "2021-11-30T18:38:25.806186",
     "status": "completed"
    },
    "tags": []
   },
   "outputs": [
    {
     "data": {
      "text/html": [
       "<iframe\n",
       "    scrolling=\"no\"\n",
       "    width=\"100%\"\n",
       "    height=\"545px\"\n",
       "    src=\"iframe_figures/figure_149.html\"\n",
       "    frameborder=\"0\"\n",
       "    allowfullscreen\n",
       "></iframe>\n"
      ]
     },
     "metadata": {},
     "output_type": "display_data"
    }
   ],
   "source": [
    "rentmean = df.groupby(['regio2'])['totalRent'].mean().sort_index()\n",
    "\n",
    "fig = px.histogram(x = df['regio2'].value_counts().sort_index().index,\n",
    "                   y = rentmean,\n",
    "                   color= df['regio2'].value_counts().sort_index().index\n",
    "             )\n",
    "fig.update_xaxes(title=\"City\")\n",
    "fig.update_yaxes(title = \"Average rental per month\")\n",
    "fig.show()"
   ]
  },
  {
   "cell_type": "code",
   "execution_count": 150,
   "id": "a54d7d1a",
   "metadata": {
    "_kg_hide-input": true,
    "papermill": {
     "duration": 0.614098,
     "end_time": "2021-11-30T18:38:27.421074",
     "exception": false,
     "start_time": "2021-11-30T18:38:26.806976",
     "status": "completed"
    },
    "tags": []
   },
   "outputs": [
    {
     "data": {
      "text/html": [
       "<iframe\n",
       "    scrolling=\"no\"\n",
       "    width=\"100%\"\n",
       "    height=\"545px\"\n",
       "    src=\"iframe_figures/figure_150.html\"\n",
       "    frameborder=\"0\"\n",
       "    allowfullscreen\n",
       "></iframe>\n"
      ]
     },
     "metadata": {},
     "output_type": "display_data"
    }
   ],
   "source": [
    "plotter = df.groupby('regio2')['Pricepm2'].agg(['mean'])\n",
    "plotter.columns = [\"mean\"]\n",
    "plotter['regio2'] = plotter.index\n",
    "\n",
    "data = [\n",
    "    {\n",
    "        'x': plotter['regio2'],\n",
    "        'y': plotter['mean'],\n",
    "        'mode': 'markers+text',\n",
    "        'text' : plotter['regio2'],\n",
    "        'textposition' : 'bottom center',\n",
    "        'marker': {  \n",
    "            'size': 20,\n",
    "        }\n",
    "    }\n",
    "]\n",
    "\n",
    "layout = go.Layout(title=\"Average rental per month compare by area per square meter\", \n",
    "                   xaxis=dict(title='City'),\n",
    "                   yaxis=dict(title='Euro/square meter')\n",
    "                  )\n",
    "fig = go.Figure(data = data, layout = layout)\n",
    "iplot(fig, filename='scatter0')"
   ]
  },
  {
   "cell_type": "code",
   "execution_count": 151,
   "id": "7d65dfab",
   "metadata": {
    "_kg_hide-input": true,
    "papermill": {
     "duration": 0.42453,
     "end_time": "2021-11-30T18:38:28.222047",
     "exception": false,
     "start_time": "2021-11-30T18:38:27.797517",
     "status": "completed"
    },
    "tags": []
   },
   "outputs": [
    {
     "data": {
      "text/html": [
       "<iframe\n",
       "    scrolling=\"no\"\n",
       "    width=\"100%\"\n",
       "    height=\"545px\"\n",
       "    src=\"iframe_figures/figure_151.html\"\n",
       "    frameborder=\"0\"\n",
       "    allowfullscreen\n",
       "></iframe>\n"
      ]
     },
     "metadata": {},
     "output_type": "display_data"
    }
   ],
   "source": [
    "plotter = df.groupby('condition')['totalRent'].agg(['mean'])\n",
    "plotter.columns = [\"mean\"]\n",
    "plotter['condition'] = plotter.index\n",
    "\n",
    "data = [\n",
    "    {\n",
    "        'x': plotter['condition'],\n",
    "        'y': plotter['mean'],\n",
    "        'mode': 'markers+text',\n",
    "        'text' : plotter['condition'],\n",
    "        'textposition' : 'bottom center',\n",
    "        'marker': {  \n",
    "            'size': 20,\n",
    "        }\n",
    "    }\n",
    "]\n",
    "\n",
    "layout = go.Layout(title=\"Average rental per month group by apartment condition\", \n",
    "                   xaxis=dict(title='Apartment Condition'),\n",
    "                   yaxis=dict(title='Cost of rental')\n",
    "                  )\n",
    "fig = go.Figure(data = data, layout = layout)\n",
    "iplot(fig, filename='scatter0')"
   ]
  },
  {
   "cell_type": "code",
   "execution_count": 152,
   "id": "96f6cfe9",
   "metadata": {
    "_kg_hide-input": true,
    "papermill": {
     "duration": 0.426001,
     "end_time": "2021-11-30T18:38:29.014204",
     "exception": false,
     "start_time": "2021-11-30T18:38:28.588203",
     "status": "completed"
    },
    "tags": []
   },
   "outputs": [
    {
     "data": {
      "text/html": [
       "<iframe\n",
       "    scrolling=\"no\"\n",
       "    width=\"100%\"\n",
       "    height=\"545px\"\n",
       "    src=\"iframe_figures/figure_152.html\"\n",
       "    frameborder=\"0\"\n",
       "    allowfullscreen\n",
       "></iframe>\n"
      ]
     },
     "metadata": {},
     "output_type": "display_data"
    }
   ],
   "source": [
    "plotter = df.groupby('regio2')['livingSpace'].agg(['mean'])\n",
    "plotter.columns = [\"mean\"]\n",
    "plotter['regio2'] = plotter.index\n",
    "\n",
    "data = [\n",
    "    {\n",
    "        'x': plotter['regio2'],\n",
    "        'y': plotter['mean'],\n",
    "        'mode': 'markers+text',\n",
    "        'text' : plotter['regio2'],\n",
    "        'textposition' : 'bottom center',\n",
    "        'marker': {  \n",
    "            'size': 20,\n",
    "        }\n",
    "    }\n",
    "]\n",
    "\n",
    "layout = go.Layout(title=\"Average living space group by city\", \n",
    "                   xaxis=dict(title='City'),\n",
    "                   yaxis=dict(title='Average Living Space')\n",
    "                  )\n",
    "fig = go.Figure(data = data, layout = layout)\n",
    "iplot(fig, filename='scatter0')"
   ]
  },
  {
   "cell_type": "code",
   "execution_count": 153,
   "id": "a0497e12",
   "metadata": {
    "_kg_hide-input": true,
    "papermill": {
     "duration": 0.441143,
     "end_time": "2021-11-30T18:38:29.821866",
     "exception": false,
     "start_time": "2021-11-30T18:38:29.380723",
     "status": "completed"
    },
    "tags": []
   },
   "outputs": [
    {
     "data": {
      "text/html": [
       "<iframe\n",
       "    scrolling=\"no\"\n",
       "    width=\"100%\"\n",
       "    height=\"545px\"\n",
       "    src=\"iframe_figures/figure_153.html\"\n",
       "    frameborder=\"0\"\n",
       "    allowfullscreen\n",
       "></iframe>\n"
      ]
     },
     "metadata": {},
     "output_type": "display_data"
    }
   ],
   "source": [
    "countpie = df['heatingType'].value_counts()\n",
    "\n",
    "fig = {\n",
    "  \"data\": [\n",
    "    {\n",
    "      \"values\": countpie.values,\n",
    "      \"labels\": countpie.index,\n",
    "      \"domain\": {\"x\": [0, .5]},\n",
    "      \"name\": \"City\",\n",
    "      \"hoverinfo\":\"label+percent+name\",\n",
    "      \"hole\": .7,\n",
    "      \"type\": \"pie\"\n",
    "    },],\n",
    "  \"layout\": {\n",
    "        \"title\":\"Pie chart of all the City ratio in the dataset\",\n",
    "    }\n",
    "}\n",
    "iplot(fig)"
   ]
  },
  {
   "cell_type": "code",
   "execution_count": 154,
   "id": "d99b6d0c",
   "metadata": {
    "_kg_hide-input": true,
    "papermill": {
     "duration": 0.431137,
     "end_time": "2021-11-30T18:38:30.641274",
     "exception": false,
     "start_time": "2021-11-30T18:38:30.210137",
     "status": "completed"
    },
    "tags": []
   },
   "outputs": [
    {
     "data": {
      "text/html": [
       "<iframe\n",
       "    scrolling=\"no\"\n",
       "    width=\"100%\"\n",
       "    height=\"545px\"\n",
       "    src=\"iframe_figures/figure_154.html\"\n",
       "    frameborder=\"0\"\n",
       "    allowfullscreen\n",
       "></iframe>\n"
      ]
     },
     "metadata": {},
     "output_type": "display_data"
    }
   ],
   "source": [
    "plotter = df.groupby('heatingType')['totalRent'].agg(['mean'])\n",
    "plotter.columns = [\"mean\"]\n",
    "plotter['heatingType'] = plotter.index\n",
    "\n",
    "data = [\n",
    "    {\n",
    "        'x': plotter['heatingType'],\n",
    "        'y': plotter['mean'],\n",
    "        'mode': 'markers+text',\n",
    "        'text' : plotter['heatingType'],\n",
    "        'textposition' : 'bottom center',\n",
    "        'marker': {  \n",
    "            'size': 20,\n",
    "        }\n",
    "    }\n",
    "]\n",
    "\n",
    "layout = go.Layout(title=\"Average rental group by heating type\", \n",
    "                   xaxis=dict(title='Heating Type'),\n",
    "                   yaxis=dict(title='Average Rental Cost')\n",
    "                  )\n",
    "fig = go.Figure(data = data, layout = layout)\n",
    "iplot(fig, filename='scatter0')"
   ]
  },
  {
   "cell_type": "code",
   "execution_count": 155,
   "id": "2a91bc37",
   "metadata": {
    "_kg_hide-input": true,
    "papermill": {
     "duration": 0.412166,
     "end_time": "2021-11-30T18:38:31.424695",
     "exception": false,
     "start_time": "2021-11-30T18:38:31.012529",
     "status": "completed"
    },
    "tags": []
   },
   "outputs": [
    {
     "data": {
      "text/html": [
       "<iframe\n",
       "    scrolling=\"no\"\n",
       "    width=\"100%\"\n",
       "    height=\"545px\"\n",
       "    src=\"iframe_figures/figure_155.html\"\n",
       "    frameborder=\"0\"\n",
       "    allowfullscreen\n",
       "></iframe>\n"
      ]
     },
     "metadata": {},
     "output_type": "display_data"
    }
   ],
   "source": [
    "countpie = df['newlyConst'].value_counts()\n",
    "countpie = countpie.sort_index() \n",
    "fig = {\n",
    "  \"data\": [\n",
    "    {\n",
    "      \"values\": countpie.values,\n",
    "      \"labels\": ['False','True'],\n",
    "      \"domain\": {\"x\": [0, .5]},\n",
    "      \"hoverinfo\":\"label+percent+name\",\n",
    "      \"hole\": .3,\n",
    "      \"type\": \"pie\"\n",
    "    },],\n",
    "  \"layout\": {\n",
    "        \"title\":\"Percentage of the residence is newly constructed or not\",\n",
    "    }\n",
    "}\n",
    "iplot(fig)"
   ]
  },
  {
   "cell_type": "markdown",
   "id": "aee7a1a1",
   "metadata": {
    "papermill": {
     "duration": 0.525473,
     "end_time": "2021-11-30T18:38:32.326781",
     "exception": false,
     "start_time": "2021-11-30T18:38:31.801308",
     "status": "completed"
    },
    "tags": []
   },
   "source": [
    "Most of the apartment are newly constructed. Then, I want to know the difference of a price between refurbrished are having a big gap or not"
   ]
  },
  {
   "cell_type": "code",
   "execution_count": 156,
   "id": "c6ed1355",
   "metadata": {
    "_kg_hide-input": true,
    "papermill": {
     "duration": 0.457623,
     "end_time": "2021-11-30T18:38:33.156199",
     "exception": false,
     "start_time": "2021-11-30T18:38:32.698576",
     "status": "completed"
    },
    "tags": []
   },
   "outputs": [
    {
     "data": {
      "text/html": [
       "<iframe\n",
       "    scrolling=\"no\"\n",
       "    width=\"100%\"\n",
       "    height=\"545px\"\n",
       "    src=\"iframe_figures/figure_156.html\"\n",
       "    frameborder=\"0\"\n",
       "    allowfullscreen\n",
       "></iframe>\n"
      ]
     },
     "metadata": {},
     "output_type": "display_data"
    }
   ],
   "source": [
    "constructmean = df.groupby(['newlyConst'])['totalRent'].mean().sort_index()\n",
    "\n",
    "fig = px.histogram(x = df['newlyConst'].value_counts().sort_index().index,\n",
    "                   y = constructmean,\n",
    "                   color= df['newlyConst'].value_counts().sort_index().index\n",
    "             )\n",
    "fig.update_xaxes(title=\"Newly construct or not\")\n",
    "fig.update_yaxes(title = \"Rental Cost\")\n",
    "fig.show()"
   ]
  },
  {
   "cell_type": "markdown",
   "id": "9fb135e3",
   "metadata": {
    "papermill": {
     "duration": 0.369857,
     "end_time": "2021-11-30T18:38:33.896968",
     "exception": false,
     "start_time": "2021-11-30T18:38:33.527111",
     "status": "completed"
    },
    "tags": []
   },
   "source": [
    "So the difference between refurbrished or newly construct have more rental earning per month at 600 Euro."
   ]
  },
  {
   "cell_type": "code",
   "execution_count": 157,
   "id": "bddceb86",
   "metadata": {
    "_kg_hide-input": true,
    "papermill": {
     "duration": 0.428593,
     "end_time": "2021-11-30T18:38:34.695814",
     "exception": false,
     "start_time": "2021-11-30T18:38:34.267221",
     "status": "completed"
    },
    "tags": []
   },
   "outputs": [
    {
     "data": {
      "text/html": [
       "<iframe\n",
       "    scrolling=\"no\"\n",
       "    width=\"100%\"\n",
       "    height=\"545px\"\n",
       "    src=\"iframe_figures/figure_157.html\"\n",
       "    frameborder=\"0\"\n",
       "    allowfullscreen\n",
       "></iframe>\n"
      ]
     },
     "metadata": {},
     "output_type": "display_data"
    }
   ],
   "source": [
    "plotter = df.groupby('regio2')['additioncost'].agg(['mean'])\n",
    "plotter.columns = [\"mean\"]\n",
    "plotter['regio2'] = plotter.index\n",
    "\n",
    "data = [\n",
    "    {\n",
    "        'x': plotter['regio2'],\n",
    "        'y': plotter['mean'],\n",
    "        'mode': 'markers+text',\n",
    "        'text' : plotter['regio2'],\n",
    "        'textposition' : 'bottom center',\n",
    "        'marker': {  \n",
    "            'size': 20,\n",
    "        }\n",
    "    }\n",
    "]\n",
    "\n",
    "layout = go.Layout(title=\"Average Addition Cost Per Month (Warmmiete - Kaltmiete)\", \n",
    "                   xaxis=dict(title='City'),\n",
    "                   yaxis=dict(title='Additional Cost per month')\n",
    "                  )\n",
    "fig = go.Figure(data = data, layout = layout)\n",
    "iplot(fig, filename='scatter0')"
   ]
  },
  {
   "cell_type": "code",
   "execution_count": 158,
   "id": "c699e040",
   "metadata": {
    "_kg_hide-input": true,
    "papermill": {
     "duration": 0.433469,
     "end_time": "2021-11-30T18:38:35.511368",
     "exception": false,
     "start_time": "2021-11-30T18:38:35.077899",
     "status": "completed"
    },
    "tags": []
   },
   "outputs": [
    {
     "data": {
      "text/html": [
       "<iframe\n",
       "    scrolling=\"no\"\n",
       "    width=\"100%\"\n",
       "    height=\"545px\"\n",
       "    src=\"iframe_figures/figure_158.html\"\n",
       "    frameborder=\"0\"\n",
       "    allowfullscreen\n",
       "></iframe>\n"
      ]
     },
     "metadata": {},
     "output_type": "display_data"
    }
   ],
   "source": [
    "plotter = df.groupby('typeOfFlat')['totalRent'].agg(['mean'])\n",
    "plotter.columns = [\"mean\"]\n",
    "plotter['typeOfFlat'] = plotter.index\n",
    "\n",
    "data = [\n",
    "    {\n",
    "        'x': plotter['typeOfFlat'],\n",
    "        'y': plotter['mean'],\n",
    "        'mode': 'markers+text',\n",
    "        'text' : plotter['typeOfFlat'],\n",
    "        'textposition' : 'bottom center',\n",
    "        'marker': {  \n",
    "            'size': 20,\n",
    "        }\n",
    "    }\n",
    "]\n",
    "\n",
    "layout = go.Layout(title=\"Type of Apartment and Average Rental Cost Per Month\", \n",
    "                   xaxis=dict(title='Type Of Rental'),\n",
    "                   yaxis=dict(title='Average rental type cost per month')\n",
    "                  )\n",
    "fig = go.Figure(data = data, layout = layout)\n",
    "iplot(fig, filename='scatter0')"
   ]
  },
  {
   "cell_type": "markdown",
   "id": "ec3858a7",
   "metadata": {
    "papermill": {
     "duration": 0.373348,
     "end_time": "2021-11-30T18:38:36.259708",
     "exception": false,
     "start_time": "2021-11-30T18:38:35.886360",
     "status": "completed"
    },
    "tags": []
   },
   "source": [
    "We might want to seperate the type of rental kind because some of it cost very high per month."
   ]
  },
  {
   "cell_type": "code",
   "execution_count": 159,
   "id": "bcac8cc8",
   "metadata": {
    "_kg_hide-input": true,
    "papermill": {
     "duration": 0.414743,
     "end_time": "2021-11-30T18:38:37.049122",
     "exception": false,
     "start_time": "2021-11-30T18:38:36.634379",
     "status": "completed"
    },
    "tags": []
   },
   "outputs": [
    {
     "data": {
      "text/html": [
       "<iframe\n",
       "    scrolling=\"no\"\n",
       "    width=\"100%\"\n",
       "    height=\"545px\"\n",
       "    src=\"iframe_figures/figure_159.html\"\n",
       "    frameborder=\"0\"\n",
       "    allowfullscreen\n",
       "></iframe>\n"
      ]
     },
     "metadata": {},
     "output_type": "display_data"
    }
   ],
   "source": [
    "countpie = df['hasKitchen'].value_counts()\n",
    "\n",
    "fig = {\n",
    "  \"data\": [\n",
    "    {\n",
    "      \"values\": countpie.values,\n",
    "      \"labels\": countpie.index,\n",
    "      \"domain\": {\"x\": [0, .5]},\n",
    "      \"name\": \"City\",\n",
    "      \"hoverinfo\":\"label+percent+name\",\n",
    "      \"hole\": .7,\n",
    "      \"type\": \"pie\"\n",
    "    },],\n",
    "  \"layout\": {\n",
    "        \"title\":\"Pie chart of the Apartment has kitchen or not\",\n",
    "    }\n",
    "}\n",
    "iplot(fig)"
   ]
  },
  {
   "cell_type": "markdown",
   "id": "e4fb15c3",
   "metadata": {
    "papermill": {
     "duration": 0.374128,
     "end_time": "2021-11-30T18:38:37.940319",
     "exception": false,
     "start_time": "2021-11-30T18:38:37.566191",
     "status": "completed"
    },
    "tags": []
   },
   "source": [
    "Most of the place is not inclde kitchen"
   ]
  },
  {
   "cell_type": "code",
   "execution_count": 160,
   "id": "30af1b8e",
   "metadata": {
    "_kg_hide-input": true,
    "papermill": {
     "duration": 0.453591,
     "end_time": "2021-11-30T18:38:38.765898",
     "exception": false,
     "start_time": "2021-11-30T18:38:38.312307",
     "status": "completed"
    },
    "tags": []
   },
   "outputs": [
    {
     "data": {
      "text/html": [
       "<iframe\n",
       "    scrolling=\"no\"\n",
       "    width=\"100%\"\n",
       "    height=\"545px\"\n",
       "    src=\"iframe_figures/figure_160.html\"\n",
       "    frameborder=\"0\"\n",
       "    allowfullscreen\n",
       "></iframe>\n"
      ]
     },
     "metadata": {},
     "output_type": "display_data"
    }
   ],
   "source": [
    "constructmean = df.groupby(['hasKitchen'])['totalRent'].mean().sort_index()\n",
    "\n",
    "fig = px.histogram(x = df['hasKitchen'].value_counts().sort_index().index,\n",
    "                   y = constructmean,\n",
    "                   color= df['hasKitchen'].value_counts().sort_index().index\n",
    "             )\n",
    "             \n",
    "fig.update_xaxes(title=\"Has Kitchen\")\n",
    "fig.update_yaxes(title = \"Cost of Rental\")\n",
    "fig.show()"
   ]
  },
  {
   "cell_type": "markdown",
   "id": "9b8a4750",
   "metadata": {
    "papermill": {
     "duration": 0.375461,
     "end_time": "2021-11-30T18:38:39.516681",
     "exception": false,
     "start_time": "2021-11-30T18:38:39.141220",
     "status": "completed"
    },
    "tags": []
   },
   "source": [
    "Further opinion, we could create more meaningful virtualization such as seperate rental types or others to make it clearer for the trend of rental cost in Germany"
   ]
  },
  {
   "cell_type": "code",
   "execution_count": 161,
   "id": "501fbe65",
   "metadata": {},
   "outputs": [
    {
     "data": {
      "text/html": [
       "<div>\n",
       "<style scoped>\n",
       "    .dataframe tbody tr th:only-of-type {\n",
       "        vertical-align: middle;\n",
       "    }\n",
       "\n",
       "    .dataframe tbody tr th {\n",
       "        vertical-align: top;\n",
       "    }\n",
       "\n",
       "    .dataframe thead th {\n",
       "        text-align: right;\n",
       "    }\n",
       "</style>\n",
       "<table border=\"1\" class=\"dataframe\">\n",
       "  <thead>\n",
       "    <tr style=\"text-align: right;\">\n",
       "      <th></th>\n",
       "      <th>serviceCharge</th>\n",
       "      <th>heatingType</th>\n",
       "      <th>newlyConst</th>\n",
       "      <th>balcony</th>\n",
       "      <th>totalRent</th>\n",
       "      <th>yearConstructed</th>\n",
       "      <th>hasKitchen</th>\n",
       "      <th>livingSpace</th>\n",
       "      <th>condition</th>\n",
       "      <th>lift</th>\n",
       "      <th>typeOfFlat</th>\n",
       "      <th>noRooms</th>\n",
       "      <th>regio2</th>\n",
       "      <th>numberOfYear</th>\n",
       "      <th>Pricepm2</th>\n",
       "      <th>additioncost</th>\n",
       "    </tr>\n",
       "  </thead>\n",
       "  <tbody>\n",
       "    <tr>\n",
       "      <th>0</th>\n",
       "      <td>245.0</td>\n",
       "      <td>central_heating</td>\n",
       "      <td>False</td>\n",
       "      <td>False</td>\n",
       "      <td>840.0</td>\n",
       "      <td>1965.0</td>\n",
       "      <td>False</td>\n",
       "      <td>86.00</td>\n",
       "      <td>well_kept</td>\n",
       "      <td>False</td>\n",
       "      <td>ground_floor</td>\n",
       "      <td>4.0</td>\n",
       "      <td>Dortmund</td>\n",
       "      <td>57.0</td>\n",
       "      <td>6.918605</td>\n",
       "      <td>245.0</td>\n",
       "    </tr>\n",
       "    <tr>\n",
       "      <th>2</th>\n",
       "      <td>255.0</td>\n",
       "      <td>floor_heating</td>\n",
       "      <td>True</td>\n",
       "      <td>True</td>\n",
       "      <td>1300.0</td>\n",
       "      <td>2019.0</td>\n",
       "      <td>False</td>\n",
       "      <td>83.80</td>\n",
       "      <td>first_time_use</td>\n",
       "      <td>True</td>\n",
       "      <td>apartment</td>\n",
       "      <td>3.0</td>\n",
       "      <td>Dresden</td>\n",
       "      <td>3.0</td>\n",
       "      <td>11.515513</td>\n",
       "      <td>335.0</td>\n",
       "    </tr>\n",
       "    <tr>\n",
       "      <th>4</th>\n",
       "      <td>138.0</td>\n",
       "      <td>self_contained_central_heating</td>\n",
       "      <td>False</td>\n",
       "      <td>True</td>\n",
       "      <td>903.0</td>\n",
       "      <td>1950.0</td>\n",
       "      <td>False</td>\n",
       "      <td>84.97</td>\n",
       "      <td>refurbished</td>\n",
       "      <td>False</td>\n",
       "      <td>apartment</td>\n",
       "      <td>3.0</td>\n",
       "      <td>Other</td>\n",
       "      <td>72.0</td>\n",
       "      <td>9.003178</td>\n",
       "      <td>138.0</td>\n",
       "    </tr>\n",
       "    <tr>\n",
       "      <th>6</th>\n",
       "      <td>70.0</td>\n",
       "      <td>self_contained_central_heating</td>\n",
       "      <td>False</td>\n",
       "      <td>False</td>\n",
       "      <td>380.0</td>\n",
       "      <td>1958.0</td>\n",
       "      <td>False</td>\n",
       "      <td>62.00</td>\n",
       "      <td>fully_renovated</td>\n",
       "      <td>False</td>\n",
       "      <td>apartment</td>\n",
       "      <td>2.0</td>\n",
       "      <td>Mittelsachsen_Kreis</td>\n",
       "      <td>64.0</td>\n",
       "      <td>5.000000</td>\n",
       "      <td>70.0</td>\n",
       "    </tr>\n",
       "    <tr>\n",
       "      <th>8</th>\n",
       "      <td>110.0</td>\n",
       "      <td>oil_heating</td>\n",
       "      <td>False</td>\n",
       "      <td>False</td>\n",
       "      <td>690.0</td>\n",
       "      <td>1970.0</td>\n",
       "      <td>True</td>\n",
       "      <td>53.00</td>\n",
       "      <td>well_kept</td>\n",
       "      <td>False</td>\n",
       "      <td>roof_storey</td>\n",
       "      <td>2.0</td>\n",
       "      <td>Other</td>\n",
       "      <td>52.0</td>\n",
       "      <td>10.943396</td>\n",
       "      <td>110.0</td>\n",
       "    </tr>\n",
       "  </tbody>\n",
       "</table>\n",
       "</div>"
      ],
      "text/plain": [
       "   serviceCharge                     heatingType  newlyConst  balcony  \\\n",
       "0          245.0                 central_heating       False    False   \n",
       "2          255.0                   floor_heating        True     True   \n",
       "4          138.0  self_contained_central_heating       False     True   \n",
       "6           70.0  self_contained_central_heating       False    False   \n",
       "8          110.0                     oil_heating       False    False   \n",
       "\n",
       "   totalRent  yearConstructed  hasKitchen  livingSpace        condition  \\\n",
       "0      840.0           1965.0       False        86.00        well_kept   \n",
       "2     1300.0           2019.0       False        83.80   first_time_use   \n",
       "4      903.0           1950.0       False        84.97      refurbished   \n",
       "6      380.0           1958.0       False        62.00  fully_renovated   \n",
       "8      690.0           1970.0        True        53.00        well_kept   \n",
       "\n",
       "    lift    typeOfFlat  noRooms               regio2  numberOfYear   Pricepm2  \\\n",
       "0  False  ground_floor      4.0             Dortmund          57.0   6.918605   \n",
       "2   True     apartment      3.0              Dresden           3.0  11.515513   \n",
       "4  False     apartment      3.0                Other          72.0   9.003178   \n",
       "6  False     apartment      2.0  Mittelsachsen_Kreis          64.0   5.000000   \n",
       "8  False   roof_storey      2.0                Other          52.0  10.943396   \n",
       "\n",
       "   additioncost  \n",
       "0         245.0  \n",
       "2         335.0  \n",
       "4         138.0  \n",
       "6          70.0  \n",
       "8         110.0  "
      ]
     },
     "execution_count": 161,
     "metadata": {},
     "output_type": "execute_result"
    }
   ],
   "source": [
    "df.head()"
   ]
  },
  {
   "cell_type": "markdown",
   "id": "847b792f",
   "metadata": {
    "papermill": {
     "duration": 0.37716,
     "end_time": "2021-11-30T18:38:40.271235",
     "exception": false,
     "start_time": "2021-11-30T18:38:39.894075",
     "status": "completed"
    },
    "tags": []
   },
   "source": [
    "# Machine Learning"
   ]
  },
  {
   "cell_type": "markdown",
   "id": "be3cf8dc",
   "metadata": {
    "papermill": {
     "duration": 0.400262,
     "end_time": "2021-11-30T18:38:41.046405",
     "exception": false,
     "start_time": "2021-11-30T18:38:40.646143",
     "status": "completed"
    },
    "tags": []
   },
   "source": [
    "## Preparing the data for train\n",
    "Copying the data"
   ]
  },
  {
   "cell_type": "code",
   "execution_count": 162,
   "id": "6d1f90b6",
   "metadata": {
    "papermill": {
     "duration": 0.409627,
     "end_time": "2021-11-30T18:38:41.830981",
     "exception": false,
     "start_time": "2021-11-30T18:38:41.421354",
     "status": "completed"
    },
    "tags": []
   },
   "outputs": [
    {
     "data": {
      "text/html": [
       "<div>\n",
       "<style scoped>\n",
       "    .dataframe tbody tr th:only-of-type {\n",
       "        vertical-align: middle;\n",
       "    }\n",
       "\n",
       "    .dataframe tbody tr th {\n",
       "        vertical-align: top;\n",
       "    }\n",
       "\n",
       "    .dataframe thead th {\n",
       "        text-align: right;\n",
       "    }\n",
       "</style>\n",
       "<table border=\"1\" class=\"dataframe\">\n",
       "  <thead>\n",
       "    <tr style=\"text-align: right;\">\n",
       "      <th></th>\n",
       "      <th>heatingType</th>\n",
       "      <th>totalRent</th>\n",
       "      <th>livingSpace</th>\n",
       "      <th>condition</th>\n",
       "      <th>typeOfFlat</th>\n",
       "      <th>noRooms</th>\n",
       "      <th>regio2</th>\n",
       "      <th>additioncost</th>\n",
       "    </tr>\n",
       "  </thead>\n",
       "  <tbody>\n",
       "    <tr>\n",
       "      <th>0</th>\n",
       "      <td>central_heating</td>\n",
       "      <td>840.0</td>\n",
       "      <td>86.00</td>\n",
       "      <td>well_kept</td>\n",
       "      <td>ground_floor</td>\n",
       "      <td>4.0</td>\n",
       "      <td>Dortmund</td>\n",
       "      <td>245.0</td>\n",
       "    </tr>\n",
       "    <tr>\n",
       "      <th>2</th>\n",
       "      <td>floor_heating</td>\n",
       "      <td>1300.0</td>\n",
       "      <td>83.80</td>\n",
       "      <td>first_time_use</td>\n",
       "      <td>apartment</td>\n",
       "      <td>3.0</td>\n",
       "      <td>Dresden</td>\n",
       "      <td>335.0</td>\n",
       "    </tr>\n",
       "    <tr>\n",
       "      <th>4</th>\n",
       "      <td>self_contained_central_heating</td>\n",
       "      <td>903.0</td>\n",
       "      <td>84.97</td>\n",
       "      <td>refurbished</td>\n",
       "      <td>apartment</td>\n",
       "      <td>3.0</td>\n",
       "      <td>Other</td>\n",
       "      <td>138.0</td>\n",
       "    </tr>\n",
       "    <tr>\n",
       "      <th>6</th>\n",
       "      <td>self_contained_central_heating</td>\n",
       "      <td>380.0</td>\n",
       "      <td>62.00</td>\n",
       "      <td>fully_renovated</td>\n",
       "      <td>apartment</td>\n",
       "      <td>2.0</td>\n",
       "      <td>Mittelsachsen_Kreis</td>\n",
       "      <td>70.0</td>\n",
       "    </tr>\n",
       "    <tr>\n",
       "      <th>8</th>\n",
       "      <td>oil_heating</td>\n",
       "      <td>690.0</td>\n",
       "      <td>53.00</td>\n",
       "      <td>well_kept</td>\n",
       "      <td>roof_storey</td>\n",
       "      <td>2.0</td>\n",
       "      <td>Other</td>\n",
       "      <td>110.0</td>\n",
       "    </tr>\n",
       "  </tbody>\n",
       "</table>\n",
       "</div>"
      ],
      "text/plain": [
       "                      heatingType  totalRent  livingSpace        condition  \\\n",
       "0                 central_heating      840.0        86.00        well_kept   \n",
       "2                   floor_heating     1300.0        83.80   first_time_use   \n",
       "4  self_contained_central_heating      903.0        84.97      refurbished   \n",
       "6  self_contained_central_heating      380.0        62.00  fully_renovated   \n",
       "8                     oil_heating      690.0        53.00        well_kept   \n",
       "\n",
       "     typeOfFlat  noRooms               regio2  additioncost  \n",
       "0  ground_floor      4.0             Dortmund         245.0  \n",
       "2     apartment      3.0              Dresden         335.0  \n",
       "4     apartment      3.0                Other         138.0  \n",
       "6     apartment      2.0  Mittelsachsen_Kreis          70.0  \n",
       "8   roof_storey      2.0                Other         110.0  "
      ]
     },
     "execution_count": 162,
     "metadata": {},
     "output_type": "execute_result"
    }
   ],
   "source": [
    "predict_df = df.copy()\n",
    "predict_df.drop(columns=['yearConstructed','serviceCharge','numberOfYear','newlyConst','lift','balcony','hasKitchen','Pricepm2'],inplace=True)\n",
    "predict_df.head()"
   ]
  },
  {
   "cell_type": "markdown",
   "id": "03d2bde3",
   "metadata": {},
   "source": [
    "Export the data to use in PyCaret in Google Colab"
   ]
  },
  {
   "cell_type": "code",
   "execution_count": 165,
   "id": "de896d9a-50d0-43cc-af1e-a531604b6134",
   "metadata": {},
   "outputs": [],
   "source": [
    "df.to_csv('data/test.csv')\n",
    "predict_df.to_csv('data/predict_test.csv')"
   ]
  },
  {
   "cell_type": "markdown",
   "id": "3eecb5c6",
   "metadata": {
    "papermill": {
     "duration": 0.375223,
     "end_time": "2021-11-30T18:38:45.119958",
     "exception": false,
     "start_time": "2021-11-30T18:38:44.744735",
     "status": "completed"
    },
    "tags": []
   },
   "source": [
    "If it's an object or bool type (True,False). Code below will create the dummies for all of the categorical."
   ]
  },
  {
   "cell_type": "code",
   "execution_count": 61,
   "id": "9fcebb6d",
   "metadata": {
    "papermill": {
     "duration": 0.515827,
     "end_time": "2021-11-30T18:38:46.012220",
     "exception": false,
     "start_time": "2021-11-30T18:38:45.496393",
     "status": "completed"
    },
    "tags": []
   },
   "outputs": [
    {
     "data": {
      "text/html": [
       "<div>\n",
       "<style scoped>\n",
       "    .dataframe tbody tr th:only-of-type {\n",
       "        vertical-align: middle;\n",
       "    }\n",
       "\n",
       "    .dataframe tbody tr th {\n",
       "        vertical-align: top;\n",
       "    }\n",
       "\n",
       "    .dataframe thead th {\n",
       "        text-align: right;\n",
       "    }\n",
       "</style>\n",
       "<table border=\"1\" class=\"dataframe\">\n",
       "  <thead>\n",
       "    <tr style=\"text-align: right;\">\n",
       "      <th></th>\n",
       "      <th>central_heating</th>\n",
       "      <th>combined_heat_and_power_plant</th>\n",
       "      <th>district_heating</th>\n",
       "      <th>floor_heating</th>\n",
       "      <th>gas_heating</th>\n",
       "      <th>heat_pump</th>\n",
       "      <th>night_storage_heater</th>\n",
       "      <th>oil_heating</th>\n",
       "      <th>self_contained_central_heating</th>\n",
       "      <th>wood_pellet_heating</th>\n",
       "      <th>Other</th>\n",
       "      <th>first_time_use</th>\n",
       "      <th>first_time_use_after_refurbishment</th>\n",
       "      <th>fully_renovated</th>\n",
       "      <th>mint_condition</th>\n",
       "      <th>modernized</th>\n",
       "      <th>refurbished</th>\n",
       "      <th>well_kept</th>\n",
       "      <th>apartment</th>\n",
       "      <th>ground_floor</th>\n",
       "      <th>half_basement</th>\n",
       "      <th>loft</th>\n",
       "      <th>maisonette</th>\n",
       "      <th>other</th>\n",
       "      <th>penthouse</th>\n",
       "      <th>raised_ground_floor</th>\n",
       "      <th>roof_storey</th>\n",
       "      <th>terraced_flat</th>\n",
       "      <th>Berlin</th>\n",
       "      <th>Chemnitz</th>\n",
       "      <th>Dortmund</th>\n",
       "      <th>Dresden</th>\n",
       "      <th>Duisburg</th>\n",
       "      <th>Düsseldorf</th>\n",
       "      <th>Essen</th>\n",
       "      <th>Frankfurt_am_Main</th>\n",
       "      <th>Gelsenkirchen</th>\n",
       "      <th>Halle_Saale</th>\n",
       "      <th>Hamburg</th>\n",
       "      <th>Köln</th>\n",
       "      <th>Leipzig</th>\n",
       "      <th>Leipzig_Kreis</th>\n",
       "      <th>Magdeburg</th>\n",
       "      <th>Mittelsachsen_Kreis</th>\n",
       "      <th>München</th>\n",
       "      <th>Other</th>\n",
       "      <th>Recklinghausen_Kreis</th>\n",
       "      <th>Zwickau</th>\n",
       "      <th>Zwickau_Kreis</th>\n",
       "    </tr>\n",
       "  </thead>\n",
       "  <tbody>\n",
       "    <tr>\n",
       "      <th>0</th>\n",
       "      <td>1</td>\n",
       "      <td>0</td>\n",
       "      <td>0</td>\n",
       "      <td>0</td>\n",
       "      <td>0</td>\n",
       "      <td>0</td>\n",
       "      <td>0</td>\n",
       "      <td>0</td>\n",
       "      <td>0</td>\n",
       "      <td>0</td>\n",
       "      <td>0</td>\n",
       "      <td>0</td>\n",
       "      <td>0</td>\n",
       "      <td>0</td>\n",
       "      <td>0</td>\n",
       "      <td>0</td>\n",
       "      <td>0</td>\n",
       "      <td>1</td>\n",
       "      <td>0</td>\n",
       "      <td>1</td>\n",
       "      <td>0</td>\n",
       "      <td>0</td>\n",
       "      <td>0</td>\n",
       "      <td>0</td>\n",
       "      <td>0</td>\n",
       "      <td>0</td>\n",
       "      <td>0</td>\n",
       "      <td>0</td>\n",
       "      <td>0</td>\n",
       "      <td>0</td>\n",
       "      <td>1</td>\n",
       "      <td>0</td>\n",
       "      <td>0</td>\n",
       "      <td>0</td>\n",
       "      <td>0</td>\n",
       "      <td>0</td>\n",
       "      <td>0</td>\n",
       "      <td>0</td>\n",
       "      <td>0</td>\n",
       "      <td>0</td>\n",
       "      <td>0</td>\n",
       "      <td>0</td>\n",
       "      <td>0</td>\n",
       "      <td>0</td>\n",
       "      <td>0</td>\n",
       "      <td>0</td>\n",
       "      <td>0</td>\n",
       "      <td>0</td>\n",
       "      <td>0</td>\n",
       "    </tr>\n",
       "    <tr>\n",
       "      <th>2</th>\n",
       "      <td>0</td>\n",
       "      <td>0</td>\n",
       "      <td>0</td>\n",
       "      <td>1</td>\n",
       "      <td>0</td>\n",
       "      <td>0</td>\n",
       "      <td>0</td>\n",
       "      <td>0</td>\n",
       "      <td>0</td>\n",
       "      <td>0</td>\n",
       "      <td>0</td>\n",
       "      <td>1</td>\n",
       "      <td>0</td>\n",
       "      <td>0</td>\n",
       "      <td>0</td>\n",
       "      <td>0</td>\n",
       "      <td>0</td>\n",
       "      <td>0</td>\n",
       "      <td>1</td>\n",
       "      <td>0</td>\n",
       "      <td>0</td>\n",
       "      <td>0</td>\n",
       "      <td>0</td>\n",
       "      <td>0</td>\n",
       "      <td>0</td>\n",
       "      <td>0</td>\n",
       "      <td>0</td>\n",
       "      <td>0</td>\n",
       "      <td>0</td>\n",
       "      <td>0</td>\n",
       "      <td>0</td>\n",
       "      <td>1</td>\n",
       "      <td>0</td>\n",
       "      <td>0</td>\n",
       "      <td>0</td>\n",
       "      <td>0</td>\n",
       "      <td>0</td>\n",
       "      <td>0</td>\n",
       "      <td>0</td>\n",
       "      <td>0</td>\n",
       "      <td>0</td>\n",
       "      <td>0</td>\n",
       "      <td>0</td>\n",
       "      <td>0</td>\n",
       "      <td>0</td>\n",
       "      <td>0</td>\n",
       "      <td>0</td>\n",
       "      <td>0</td>\n",
       "      <td>0</td>\n",
       "    </tr>\n",
       "    <tr>\n",
       "      <th>4</th>\n",
       "      <td>0</td>\n",
       "      <td>0</td>\n",
       "      <td>0</td>\n",
       "      <td>0</td>\n",
       "      <td>0</td>\n",
       "      <td>0</td>\n",
       "      <td>0</td>\n",
       "      <td>0</td>\n",
       "      <td>1</td>\n",
       "      <td>0</td>\n",
       "      <td>0</td>\n",
       "      <td>0</td>\n",
       "      <td>0</td>\n",
       "      <td>0</td>\n",
       "      <td>0</td>\n",
       "      <td>0</td>\n",
       "      <td>1</td>\n",
       "      <td>0</td>\n",
       "      <td>1</td>\n",
       "      <td>0</td>\n",
       "      <td>0</td>\n",
       "      <td>0</td>\n",
       "      <td>0</td>\n",
       "      <td>0</td>\n",
       "      <td>0</td>\n",
       "      <td>0</td>\n",
       "      <td>0</td>\n",
       "      <td>0</td>\n",
       "      <td>0</td>\n",
       "      <td>0</td>\n",
       "      <td>0</td>\n",
       "      <td>0</td>\n",
       "      <td>0</td>\n",
       "      <td>0</td>\n",
       "      <td>0</td>\n",
       "      <td>0</td>\n",
       "      <td>0</td>\n",
       "      <td>0</td>\n",
       "      <td>0</td>\n",
       "      <td>0</td>\n",
       "      <td>0</td>\n",
       "      <td>0</td>\n",
       "      <td>0</td>\n",
       "      <td>0</td>\n",
       "      <td>0</td>\n",
       "      <td>1</td>\n",
       "      <td>0</td>\n",
       "      <td>0</td>\n",
       "      <td>0</td>\n",
       "    </tr>\n",
       "    <tr>\n",
       "      <th>6</th>\n",
       "      <td>0</td>\n",
       "      <td>0</td>\n",
       "      <td>0</td>\n",
       "      <td>0</td>\n",
       "      <td>0</td>\n",
       "      <td>0</td>\n",
       "      <td>0</td>\n",
       "      <td>0</td>\n",
       "      <td>1</td>\n",
       "      <td>0</td>\n",
       "      <td>0</td>\n",
       "      <td>0</td>\n",
       "      <td>0</td>\n",
       "      <td>1</td>\n",
       "      <td>0</td>\n",
       "      <td>0</td>\n",
       "      <td>0</td>\n",
       "      <td>0</td>\n",
       "      <td>1</td>\n",
       "      <td>0</td>\n",
       "      <td>0</td>\n",
       "      <td>0</td>\n",
       "      <td>0</td>\n",
       "      <td>0</td>\n",
       "      <td>0</td>\n",
       "      <td>0</td>\n",
       "      <td>0</td>\n",
       "      <td>0</td>\n",
       "      <td>0</td>\n",
       "      <td>0</td>\n",
       "      <td>0</td>\n",
       "      <td>0</td>\n",
       "      <td>0</td>\n",
       "      <td>0</td>\n",
       "      <td>0</td>\n",
       "      <td>0</td>\n",
       "      <td>0</td>\n",
       "      <td>0</td>\n",
       "      <td>0</td>\n",
       "      <td>0</td>\n",
       "      <td>0</td>\n",
       "      <td>0</td>\n",
       "      <td>0</td>\n",
       "      <td>1</td>\n",
       "      <td>0</td>\n",
       "      <td>0</td>\n",
       "      <td>0</td>\n",
       "      <td>0</td>\n",
       "      <td>0</td>\n",
       "    </tr>\n",
       "    <tr>\n",
       "      <th>8</th>\n",
       "      <td>0</td>\n",
       "      <td>0</td>\n",
       "      <td>0</td>\n",
       "      <td>0</td>\n",
       "      <td>0</td>\n",
       "      <td>0</td>\n",
       "      <td>0</td>\n",
       "      <td>1</td>\n",
       "      <td>0</td>\n",
       "      <td>0</td>\n",
       "      <td>0</td>\n",
       "      <td>0</td>\n",
       "      <td>0</td>\n",
       "      <td>0</td>\n",
       "      <td>0</td>\n",
       "      <td>0</td>\n",
       "      <td>0</td>\n",
       "      <td>1</td>\n",
       "      <td>0</td>\n",
       "      <td>0</td>\n",
       "      <td>0</td>\n",
       "      <td>0</td>\n",
       "      <td>0</td>\n",
       "      <td>0</td>\n",
       "      <td>0</td>\n",
       "      <td>0</td>\n",
       "      <td>1</td>\n",
       "      <td>0</td>\n",
       "      <td>0</td>\n",
       "      <td>0</td>\n",
       "      <td>0</td>\n",
       "      <td>0</td>\n",
       "      <td>0</td>\n",
       "      <td>0</td>\n",
       "      <td>0</td>\n",
       "      <td>0</td>\n",
       "      <td>0</td>\n",
       "      <td>0</td>\n",
       "      <td>0</td>\n",
       "      <td>0</td>\n",
       "      <td>0</td>\n",
       "      <td>0</td>\n",
       "      <td>0</td>\n",
       "      <td>0</td>\n",
       "      <td>0</td>\n",
       "      <td>1</td>\n",
       "      <td>0</td>\n",
       "      <td>0</td>\n",
       "      <td>0</td>\n",
       "    </tr>\n",
       "  </tbody>\n",
       "</table>\n",
       "</div>"
      ],
      "text/plain": [
       "   central_heating  combined_heat_and_power_plant  district_heating  \\\n",
       "0                1                              0                 0   \n",
       "2                0                              0                 0   \n",
       "4                0                              0                 0   \n",
       "6                0                              0                 0   \n",
       "8                0                              0                 0   \n",
       "\n",
       "   floor_heating  gas_heating  heat_pump  night_storage_heater  oil_heating  \\\n",
       "0              0            0          0                     0            0   \n",
       "2              1            0          0                     0            0   \n",
       "4              0            0          0                     0            0   \n",
       "6              0            0          0                     0            0   \n",
       "8              0            0          0                     0            1   \n",
       "\n",
       "   self_contained_central_heating  wood_pellet_heating  Other  first_time_use  \\\n",
       "0                               0                    0      0               0   \n",
       "2                               0                    0      0               1   \n",
       "4                               1                    0      0               0   \n",
       "6                               1                    0      0               0   \n",
       "8                               0                    0      0               0   \n",
       "\n",
       "   first_time_use_after_refurbishment  fully_renovated  mint_condition  \\\n",
       "0                                   0                0               0   \n",
       "2                                   0                0               0   \n",
       "4                                   0                0               0   \n",
       "6                                   0                1               0   \n",
       "8                                   0                0               0   \n",
       "\n",
       "   modernized  refurbished  well_kept  apartment  ground_floor  half_basement  \\\n",
       "0           0            0          1          0             1              0   \n",
       "2           0            0          0          1             0              0   \n",
       "4           0            1          0          1             0              0   \n",
       "6           0            0          0          1             0              0   \n",
       "8           0            0          1          0             0              0   \n",
       "\n",
       "   loft  maisonette  other  penthouse  raised_ground_floor  roof_storey  \\\n",
       "0     0           0      0          0                    0            0   \n",
       "2     0           0      0          0                    0            0   \n",
       "4     0           0      0          0                    0            0   \n",
       "6     0           0      0          0                    0            0   \n",
       "8     0           0      0          0                    0            1   \n",
       "\n",
       "   terraced_flat  Berlin  Chemnitz  Dortmund  Dresden  Duisburg  Düsseldorf  \\\n",
       "0              0       0         0         1        0         0           0   \n",
       "2              0       0         0         0        1         0           0   \n",
       "4              0       0         0         0        0         0           0   \n",
       "6              0       0         0         0        0         0           0   \n",
       "8              0       0         0         0        0         0           0   \n",
       "\n",
       "   Essen  Frankfurt_am_Main  Gelsenkirchen  Halle_Saale  Hamburg  Köln  \\\n",
       "0      0                  0              0            0        0     0   \n",
       "2      0                  0              0            0        0     0   \n",
       "4      0                  0              0            0        0     0   \n",
       "6      0                  0              0            0        0     0   \n",
       "8      0                  0              0            0        0     0   \n",
       "\n",
       "   Leipzig  Leipzig_Kreis  Magdeburg  Mittelsachsen_Kreis  München  Other  \\\n",
       "0        0              0          0                    0        0      0   \n",
       "2        0              0          0                    0        0      0   \n",
       "4        0              0          0                    0        0      1   \n",
       "6        0              0          0                    1        0      0   \n",
       "8        0              0          0                    0        0      1   \n",
       "\n",
       "   Recklinghausen_Kreis  Zwickau  Zwickau_Kreis  \n",
       "0                     0        0              0  \n",
       "2                     0        0              0  \n",
       "4                     0        0              0  \n",
       "6                     0        0              0  \n",
       "8                     0        0              0  "
      ]
     },
     "execution_count": 61,
     "metadata": {},
     "output_type": "execute_result"
    }
   ],
   "source": [
    "columns = []\n",
    "for cols in predict_df.columns:\n",
    "    if predict_df[cols].dtype == 'object' or predict_df[cols].dtype == 'bool':\n",
    "        columns.append(cols)\n",
    "dummies_feature = pd.get_dummies(predict_df[columns],prefix='',prefix_sep='')\n",
    "dummies_feature.head()"
   ]
  },
  {
   "cell_type": "markdown",
   "id": "e9579999",
   "metadata": {
    "papermill": {
     "duration": 0.38109,
     "end_time": "2021-11-30T18:38:46.780579",
     "exception": false,
     "start_time": "2021-11-30T18:38:46.399489",
     "status": "completed"
    },
    "tags": []
   },
   "source": [
    "Combine those columns together and drop the categorical columns that we created the dummies"
   ]
  },
  {
   "cell_type": "code",
   "execution_count": 62,
   "id": "9be8bba4",
   "metadata": {
    "papermill": {
     "duration": 0.468945,
     "end_time": "2021-11-30T18:38:47.633488",
     "exception": false,
     "start_time": "2021-11-30T18:38:47.164543",
     "status": "completed"
    },
    "tags": []
   },
   "outputs": [
    {
     "data": {
      "text/html": [
       "<div>\n",
       "<style scoped>\n",
       "    .dataframe tbody tr th:only-of-type {\n",
       "        vertical-align: middle;\n",
       "    }\n",
       "\n",
       "    .dataframe tbody tr th {\n",
       "        vertical-align: top;\n",
       "    }\n",
       "\n",
       "    .dataframe thead th {\n",
       "        text-align: right;\n",
       "    }\n",
       "</style>\n",
       "<table border=\"1\" class=\"dataframe\">\n",
       "  <thead>\n",
       "    <tr style=\"text-align: right;\">\n",
       "      <th></th>\n",
       "      <th>totalRent</th>\n",
       "      <th>livingSpace</th>\n",
       "      <th>noRooms</th>\n",
       "      <th>additioncost</th>\n",
       "      <th>central_heating</th>\n",
       "      <th>combined_heat_and_power_plant</th>\n",
       "      <th>district_heating</th>\n",
       "      <th>floor_heating</th>\n",
       "      <th>gas_heating</th>\n",
       "      <th>heat_pump</th>\n",
       "      <th>night_storage_heater</th>\n",
       "      <th>oil_heating</th>\n",
       "      <th>self_contained_central_heating</th>\n",
       "      <th>wood_pellet_heating</th>\n",
       "      <th>Other</th>\n",
       "      <th>first_time_use</th>\n",
       "      <th>first_time_use_after_refurbishment</th>\n",
       "      <th>fully_renovated</th>\n",
       "      <th>mint_condition</th>\n",
       "      <th>modernized</th>\n",
       "      <th>refurbished</th>\n",
       "      <th>well_kept</th>\n",
       "      <th>apartment</th>\n",
       "      <th>ground_floor</th>\n",
       "      <th>half_basement</th>\n",
       "      <th>loft</th>\n",
       "      <th>maisonette</th>\n",
       "      <th>other</th>\n",
       "      <th>penthouse</th>\n",
       "      <th>raised_ground_floor</th>\n",
       "      <th>roof_storey</th>\n",
       "      <th>terraced_flat</th>\n",
       "      <th>Berlin</th>\n",
       "      <th>Chemnitz</th>\n",
       "      <th>Dortmund</th>\n",
       "      <th>Dresden</th>\n",
       "      <th>Duisburg</th>\n",
       "      <th>Düsseldorf</th>\n",
       "      <th>Essen</th>\n",
       "      <th>Frankfurt_am_Main</th>\n",
       "      <th>Gelsenkirchen</th>\n",
       "      <th>Halle_Saale</th>\n",
       "      <th>Hamburg</th>\n",
       "      <th>Köln</th>\n",
       "      <th>Leipzig</th>\n",
       "      <th>Leipzig_Kreis</th>\n",
       "      <th>Magdeburg</th>\n",
       "      <th>Mittelsachsen_Kreis</th>\n",
       "      <th>München</th>\n",
       "      <th>Other</th>\n",
       "      <th>Recklinghausen_Kreis</th>\n",
       "      <th>Zwickau</th>\n",
       "      <th>Zwickau_Kreis</th>\n",
       "    </tr>\n",
       "  </thead>\n",
       "  <tbody>\n",
       "    <tr>\n",
       "      <th>0</th>\n",
       "      <td>840.0</td>\n",
       "      <td>86.00</td>\n",
       "      <td>4.0</td>\n",
       "      <td>245.0</td>\n",
       "      <td>1</td>\n",
       "      <td>0</td>\n",
       "      <td>0</td>\n",
       "      <td>0</td>\n",
       "      <td>0</td>\n",
       "      <td>0</td>\n",
       "      <td>0</td>\n",
       "      <td>0</td>\n",
       "      <td>0</td>\n",
       "      <td>0</td>\n",
       "      <td>0</td>\n",
       "      <td>0</td>\n",
       "      <td>0</td>\n",
       "      <td>0</td>\n",
       "      <td>0</td>\n",
       "      <td>0</td>\n",
       "      <td>0</td>\n",
       "      <td>1</td>\n",
       "      <td>0</td>\n",
       "      <td>1</td>\n",
       "      <td>0</td>\n",
       "      <td>0</td>\n",
       "      <td>0</td>\n",
       "      <td>0</td>\n",
       "      <td>0</td>\n",
       "      <td>0</td>\n",
       "      <td>0</td>\n",
       "      <td>0</td>\n",
       "      <td>0</td>\n",
       "      <td>0</td>\n",
       "      <td>1</td>\n",
       "      <td>0</td>\n",
       "      <td>0</td>\n",
       "      <td>0</td>\n",
       "      <td>0</td>\n",
       "      <td>0</td>\n",
       "      <td>0</td>\n",
       "      <td>0</td>\n",
       "      <td>0</td>\n",
       "      <td>0</td>\n",
       "      <td>0</td>\n",
       "      <td>0</td>\n",
       "      <td>0</td>\n",
       "      <td>0</td>\n",
       "      <td>0</td>\n",
       "      <td>0</td>\n",
       "      <td>0</td>\n",
       "      <td>0</td>\n",
       "      <td>0</td>\n",
       "    </tr>\n",
       "    <tr>\n",
       "      <th>2</th>\n",
       "      <td>1300.0</td>\n",
       "      <td>83.80</td>\n",
       "      <td>3.0</td>\n",
       "      <td>335.0</td>\n",
       "      <td>0</td>\n",
       "      <td>0</td>\n",
       "      <td>0</td>\n",
       "      <td>1</td>\n",
       "      <td>0</td>\n",
       "      <td>0</td>\n",
       "      <td>0</td>\n",
       "      <td>0</td>\n",
       "      <td>0</td>\n",
       "      <td>0</td>\n",
       "      <td>0</td>\n",
       "      <td>1</td>\n",
       "      <td>0</td>\n",
       "      <td>0</td>\n",
       "      <td>0</td>\n",
       "      <td>0</td>\n",
       "      <td>0</td>\n",
       "      <td>0</td>\n",
       "      <td>1</td>\n",
       "      <td>0</td>\n",
       "      <td>0</td>\n",
       "      <td>0</td>\n",
       "      <td>0</td>\n",
       "      <td>0</td>\n",
       "      <td>0</td>\n",
       "      <td>0</td>\n",
       "      <td>0</td>\n",
       "      <td>0</td>\n",
       "      <td>0</td>\n",
       "      <td>0</td>\n",
       "      <td>0</td>\n",
       "      <td>1</td>\n",
       "      <td>0</td>\n",
       "      <td>0</td>\n",
       "      <td>0</td>\n",
       "      <td>0</td>\n",
       "      <td>0</td>\n",
       "      <td>0</td>\n",
       "      <td>0</td>\n",
       "      <td>0</td>\n",
       "      <td>0</td>\n",
       "      <td>0</td>\n",
       "      <td>0</td>\n",
       "      <td>0</td>\n",
       "      <td>0</td>\n",
       "      <td>0</td>\n",
       "      <td>0</td>\n",
       "      <td>0</td>\n",
       "      <td>0</td>\n",
       "    </tr>\n",
       "    <tr>\n",
       "      <th>4</th>\n",
       "      <td>903.0</td>\n",
       "      <td>84.97</td>\n",
       "      <td>3.0</td>\n",
       "      <td>138.0</td>\n",
       "      <td>0</td>\n",
       "      <td>0</td>\n",
       "      <td>0</td>\n",
       "      <td>0</td>\n",
       "      <td>0</td>\n",
       "      <td>0</td>\n",
       "      <td>0</td>\n",
       "      <td>0</td>\n",
       "      <td>1</td>\n",
       "      <td>0</td>\n",
       "      <td>0</td>\n",
       "      <td>0</td>\n",
       "      <td>0</td>\n",
       "      <td>0</td>\n",
       "      <td>0</td>\n",
       "      <td>0</td>\n",
       "      <td>1</td>\n",
       "      <td>0</td>\n",
       "      <td>1</td>\n",
       "      <td>0</td>\n",
       "      <td>0</td>\n",
       "      <td>0</td>\n",
       "      <td>0</td>\n",
       "      <td>0</td>\n",
       "      <td>0</td>\n",
       "      <td>0</td>\n",
       "      <td>0</td>\n",
       "      <td>0</td>\n",
       "      <td>0</td>\n",
       "      <td>0</td>\n",
       "      <td>0</td>\n",
       "      <td>0</td>\n",
       "      <td>0</td>\n",
       "      <td>0</td>\n",
       "      <td>0</td>\n",
       "      <td>0</td>\n",
       "      <td>0</td>\n",
       "      <td>0</td>\n",
       "      <td>0</td>\n",
       "      <td>0</td>\n",
       "      <td>0</td>\n",
       "      <td>0</td>\n",
       "      <td>0</td>\n",
       "      <td>0</td>\n",
       "      <td>0</td>\n",
       "      <td>1</td>\n",
       "      <td>0</td>\n",
       "      <td>0</td>\n",
       "      <td>0</td>\n",
       "    </tr>\n",
       "    <tr>\n",
       "      <th>6</th>\n",
       "      <td>380.0</td>\n",
       "      <td>62.00</td>\n",
       "      <td>2.0</td>\n",
       "      <td>70.0</td>\n",
       "      <td>0</td>\n",
       "      <td>0</td>\n",
       "      <td>0</td>\n",
       "      <td>0</td>\n",
       "      <td>0</td>\n",
       "      <td>0</td>\n",
       "      <td>0</td>\n",
       "      <td>0</td>\n",
       "      <td>1</td>\n",
       "      <td>0</td>\n",
       "      <td>0</td>\n",
       "      <td>0</td>\n",
       "      <td>0</td>\n",
       "      <td>1</td>\n",
       "      <td>0</td>\n",
       "      <td>0</td>\n",
       "      <td>0</td>\n",
       "      <td>0</td>\n",
       "      <td>1</td>\n",
       "      <td>0</td>\n",
       "      <td>0</td>\n",
       "      <td>0</td>\n",
       "      <td>0</td>\n",
       "      <td>0</td>\n",
       "      <td>0</td>\n",
       "      <td>0</td>\n",
       "      <td>0</td>\n",
       "      <td>0</td>\n",
       "      <td>0</td>\n",
       "      <td>0</td>\n",
       "      <td>0</td>\n",
       "      <td>0</td>\n",
       "      <td>0</td>\n",
       "      <td>0</td>\n",
       "      <td>0</td>\n",
       "      <td>0</td>\n",
       "      <td>0</td>\n",
       "      <td>0</td>\n",
       "      <td>0</td>\n",
       "      <td>0</td>\n",
       "      <td>0</td>\n",
       "      <td>0</td>\n",
       "      <td>0</td>\n",
       "      <td>1</td>\n",
       "      <td>0</td>\n",
       "      <td>0</td>\n",
       "      <td>0</td>\n",
       "      <td>0</td>\n",
       "      <td>0</td>\n",
       "    </tr>\n",
       "    <tr>\n",
       "      <th>8</th>\n",
       "      <td>690.0</td>\n",
       "      <td>53.00</td>\n",
       "      <td>2.0</td>\n",
       "      <td>110.0</td>\n",
       "      <td>0</td>\n",
       "      <td>0</td>\n",
       "      <td>0</td>\n",
       "      <td>0</td>\n",
       "      <td>0</td>\n",
       "      <td>0</td>\n",
       "      <td>0</td>\n",
       "      <td>1</td>\n",
       "      <td>0</td>\n",
       "      <td>0</td>\n",
       "      <td>0</td>\n",
       "      <td>0</td>\n",
       "      <td>0</td>\n",
       "      <td>0</td>\n",
       "      <td>0</td>\n",
       "      <td>0</td>\n",
       "      <td>0</td>\n",
       "      <td>1</td>\n",
       "      <td>0</td>\n",
       "      <td>0</td>\n",
       "      <td>0</td>\n",
       "      <td>0</td>\n",
       "      <td>0</td>\n",
       "      <td>0</td>\n",
       "      <td>0</td>\n",
       "      <td>0</td>\n",
       "      <td>1</td>\n",
       "      <td>0</td>\n",
       "      <td>0</td>\n",
       "      <td>0</td>\n",
       "      <td>0</td>\n",
       "      <td>0</td>\n",
       "      <td>0</td>\n",
       "      <td>0</td>\n",
       "      <td>0</td>\n",
       "      <td>0</td>\n",
       "      <td>0</td>\n",
       "      <td>0</td>\n",
       "      <td>0</td>\n",
       "      <td>0</td>\n",
       "      <td>0</td>\n",
       "      <td>0</td>\n",
       "      <td>0</td>\n",
       "      <td>0</td>\n",
       "      <td>0</td>\n",
       "      <td>1</td>\n",
       "      <td>0</td>\n",
       "      <td>0</td>\n",
       "      <td>0</td>\n",
       "    </tr>\n",
       "  </tbody>\n",
       "</table>\n",
       "</div>"
      ],
      "text/plain": [
       "   totalRent  livingSpace  noRooms  additioncost  central_heating  \\\n",
       "0      840.0        86.00      4.0         245.0                1   \n",
       "2     1300.0        83.80      3.0         335.0                0   \n",
       "4      903.0        84.97      3.0         138.0                0   \n",
       "6      380.0        62.00      2.0          70.0                0   \n",
       "8      690.0        53.00      2.0         110.0                0   \n",
       "\n",
       "   combined_heat_and_power_plant  district_heating  floor_heating  \\\n",
       "0                              0                 0              0   \n",
       "2                              0                 0              1   \n",
       "4                              0                 0              0   \n",
       "6                              0                 0              0   \n",
       "8                              0                 0              0   \n",
       "\n",
       "   gas_heating  heat_pump  night_storage_heater  oil_heating  \\\n",
       "0            0          0                     0            0   \n",
       "2            0          0                     0            0   \n",
       "4            0          0                     0            0   \n",
       "6            0          0                     0            0   \n",
       "8            0          0                     0            1   \n",
       "\n",
       "   self_contained_central_heating  wood_pellet_heating  Other  first_time_use  \\\n",
       "0                               0                    0      0               0   \n",
       "2                               0                    0      0               1   \n",
       "4                               1                    0      0               0   \n",
       "6                               1                    0      0               0   \n",
       "8                               0                    0      0               0   \n",
       "\n",
       "   first_time_use_after_refurbishment  fully_renovated  mint_condition  \\\n",
       "0                                   0                0               0   \n",
       "2                                   0                0               0   \n",
       "4                                   0                0               0   \n",
       "6                                   0                1               0   \n",
       "8                                   0                0               0   \n",
       "\n",
       "   modernized  refurbished  well_kept  apartment  ground_floor  half_basement  \\\n",
       "0           0            0          1          0             1              0   \n",
       "2           0            0          0          1             0              0   \n",
       "4           0            1          0          1             0              0   \n",
       "6           0            0          0          1             0              0   \n",
       "8           0            0          1          0             0              0   \n",
       "\n",
       "   loft  maisonette  other  penthouse  raised_ground_floor  roof_storey  \\\n",
       "0     0           0      0          0                    0            0   \n",
       "2     0           0      0          0                    0            0   \n",
       "4     0           0      0          0                    0            0   \n",
       "6     0           0      0          0                    0            0   \n",
       "8     0           0      0          0                    0            1   \n",
       "\n",
       "   terraced_flat  Berlin  Chemnitz  Dortmund  Dresden  Duisburg  Düsseldorf  \\\n",
       "0              0       0         0         1        0         0           0   \n",
       "2              0       0         0         0        1         0           0   \n",
       "4              0       0         0         0        0         0           0   \n",
       "6              0       0         0         0        0         0           0   \n",
       "8              0       0         0         0        0         0           0   \n",
       "\n",
       "   Essen  Frankfurt_am_Main  Gelsenkirchen  Halle_Saale  Hamburg  Köln  \\\n",
       "0      0                  0              0            0        0     0   \n",
       "2      0                  0              0            0        0     0   \n",
       "4      0                  0              0            0        0     0   \n",
       "6      0                  0              0            0        0     0   \n",
       "8      0                  0              0            0        0     0   \n",
       "\n",
       "   Leipzig  Leipzig_Kreis  Magdeburg  Mittelsachsen_Kreis  München  Other  \\\n",
       "0        0              0          0                    0        0      0   \n",
       "2        0              0          0                    0        0      0   \n",
       "4        0              0          0                    0        0      1   \n",
       "6        0              0          0                    1        0      0   \n",
       "8        0              0          0                    0        0      1   \n",
       "\n",
       "   Recklinghausen_Kreis  Zwickau  Zwickau_Kreis  \n",
       "0                     0        0              0  \n",
       "2                     0        0              0  \n",
       "4                     0        0              0  \n",
       "6                     0        0              0  \n",
       "8                     0        0              0  "
      ]
     },
     "execution_count": 62,
     "metadata": {},
     "output_type": "execute_result"
    }
   ],
   "source": [
    "predict_df = predict_df.drop(columns=columns)\n",
    "predict_df = pd.concat([predict_df, dummies_feature], axis=1)\n",
    "predict_df.head()"
   ]
  },
  {
   "cell_type": "code",
   "execution_count": 63,
   "id": "ba5d8985",
   "metadata": {},
   "outputs": [],
   "source": [
    "predict_df = predict_df*1"
   ]
  },
  {
   "cell_type": "markdown",
   "id": "e3c8c90e",
   "metadata": {
    "papermill": {
     "duration": 0.373542,
     "end_time": "2021-11-30T18:38:43.570261",
     "exception": false,
     "start_time": "2021-11-30T18:38:43.196719",
     "status": "completed"
    },
    "tags": []
   },
   "source": [
    "I want to normalization the columns that's int or float type"
   ]
  },
  {
   "cell_type": "code",
   "execution_count": 64,
   "id": "4354961a",
   "metadata": {
    "papermill": {
     "duration": 0.425193,
     "end_time": "2021-11-30T18:38:44.369440",
     "exception": false,
     "start_time": "2021-11-30T18:38:43.944247",
     "status": "completed"
    },
    "tags": []
   },
   "outputs": [],
   "source": [
    "# for cols in predict_df.columns:\n",
    "#     if predict_df[cols].dtype == 'int64' or predict_df[cols].dtype == 'float64':\n",
    "#         if cols != 'totalRent':\n",
    "#             predict_df[cols] = ((predict_df[cols] - predict_df[cols].mean())/(predict_df[cols].std()))\n",
    "\n",
    "# predict_df            "
   ]
  },
  {
   "cell_type": "markdown",
   "id": "a771de45",
   "metadata": {
    "papermill": {
     "duration": 0.381627,
     "end_time": "2021-11-30T18:38:48.487798",
     "exception": false,
     "start_time": "2021-11-30T18:38:48.106171",
     "status": "completed"
    },
    "tags": []
   },
   "source": [
    "Move the 'totalRent' column to the first column to make it easier for split the data."
   ]
  },
  {
   "cell_type": "code",
   "execution_count": 68,
   "id": "32cbfca5",
   "metadata": {
    "papermill": {
     "duration": 0.422817,
     "end_time": "2021-11-30T18:38:49.292901",
     "exception": false,
     "start_time": "2021-11-30T18:38:48.870084",
     "status": "completed"
    },
    "tags": []
   },
   "outputs": [
    {
     "data": {
      "text/html": [
       "<div>\n",
       "<style scoped>\n",
       "    .dataframe tbody tr th:only-of-type {\n",
       "        vertical-align: middle;\n",
       "    }\n",
       "\n",
       "    .dataframe tbody tr th {\n",
       "        vertical-align: top;\n",
       "    }\n",
       "\n",
       "    .dataframe thead th {\n",
       "        text-align: right;\n",
       "    }\n",
       "</style>\n",
       "<table border=\"1\" class=\"dataframe\">\n",
       "  <thead>\n",
       "    <tr style=\"text-align: right;\">\n",
       "      <th></th>\n",
       "      <th>totalRent</th>\n",
       "      <th>livingSpace</th>\n",
       "      <th>noRooms</th>\n",
       "      <th>additioncost</th>\n",
       "      <th>central_heating</th>\n",
       "      <th>combined_heat_and_power_plant</th>\n",
       "      <th>district_heating</th>\n",
       "      <th>floor_heating</th>\n",
       "      <th>gas_heating</th>\n",
       "      <th>heat_pump</th>\n",
       "      <th>night_storage_heater</th>\n",
       "      <th>oil_heating</th>\n",
       "      <th>self_contained_central_heating</th>\n",
       "      <th>wood_pellet_heating</th>\n",
       "      <th>Other</th>\n",
       "      <th>first_time_use</th>\n",
       "      <th>first_time_use_after_refurbishment</th>\n",
       "      <th>fully_renovated</th>\n",
       "      <th>mint_condition</th>\n",
       "      <th>modernized</th>\n",
       "      <th>refurbished</th>\n",
       "      <th>well_kept</th>\n",
       "      <th>apartment</th>\n",
       "      <th>ground_floor</th>\n",
       "      <th>half_basement</th>\n",
       "      <th>loft</th>\n",
       "      <th>maisonette</th>\n",
       "      <th>other</th>\n",
       "      <th>penthouse</th>\n",
       "      <th>raised_ground_floor</th>\n",
       "      <th>roof_storey</th>\n",
       "      <th>terraced_flat</th>\n",
       "      <th>Berlin</th>\n",
       "      <th>Chemnitz</th>\n",
       "      <th>Dortmund</th>\n",
       "      <th>Dresden</th>\n",
       "      <th>Duisburg</th>\n",
       "      <th>Düsseldorf</th>\n",
       "      <th>Essen</th>\n",
       "      <th>Frankfurt_am_Main</th>\n",
       "      <th>Gelsenkirchen</th>\n",
       "      <th>Halle_Saale</th>\n",
       "      <th>Hamburg</th>\n",
       "      <th>Köln</th>\n",
       "      <th>Leipzig</th>\n",
       "      <th>Leipzig_Kreis</th>\n",
       "      <th>Magdeburg</th>\n",
       "      <th>Mittelsachsen_Kreis</th>\n",
       "      <th>München</th>\n",
       "      <th>Other</th>\n",
       "      <th>Recklinghausen_Kreis</th>\n",
       "      <th>Zwickau</th>\n",
       "      <th>Zwickau_Kreis</th>\n",
       "    </tr>\n",
       "  </thead>\n",
       "  <tbody>\n",
       "    <tr>\n",
       "      <th>0</th>\n",
       "      <td>840.0</td>\n",
       "      <td>86.00</td>\n",
       "      <td>4.0</td>\n",
       "      <td>245.0</td>\n",
       "      <td>1</td>\n",
       "      <td>0</td>\n",
       "      <td>0</td>\n",
       "      <td>0</td>\n",
       "      <td>0</td>\n",
       "      <td>0</td>\n",
       "      <td>0</td>\n",
       "      <td>0</td>\n",
       "      <td>0</td>\n",
       "      <td>0</td>\n",
       "      <td>0</td>\n",
       "      <td>0</td>\n",
       "      <td>0</td>\n",
       "      <td>0</td>\n",
       "      <td>0</td>\n",
       "      <td>0</td>\n",
       "      <td>0</td>\n",
       "      <td>1</td>\n",
       "      <td>0</td>\n",
       "      <td>1</td>\n",
       "      <td>0</td>\n",
       "      <td>0</td>\n",
       "      <td>0</td>\n",
       "      <td>0</td>\n",
       "      <td>0</td>\n",
       "      <td>0</td>\n",
       "      <td>0</td>\n",
       "      <td>0</td>\n",
       "      <td>0</td>\n",
       "      <td>0</td>\n",
       "      <td>1</td>\n",
       "      <td>0</td>\n",
       "      <td>0</td>\n",
       "      <td>0</td>\n",
       "      <td>0</td>\n",
       "      <td>0</td>\n",
       "      <td>0</td>\n",
       "      <td>0</td>\n",
       "      <td>0</td>\n",
       "      <td>0</td>\n",
       "      <td>0</td>\n",
       "      <td>0</td>\n",
       "      <td>0</td>\n",
       "      <td>0</td>\n",
       "      <td>0</td>\n",
       "      <td>0</td>\n",
       "      <td>0</td>\n",
       "      <td>0</td>\n",
       "      <td>0</td>\n",
       "    </tr>\n",
       "    <tr>\n",
       "      <th>2</th>\n",
       "      <td>1300.0</td>\n",
       "      <td>83.80</td>\n",
       "      <td>3.0</td>\n",
       "      <td>335.0</td>\n",
       "      <td>0</td>\n",
       "      <td>0</td>\n",
       "      <td>0</td>\n",
       "      <td>1</td>\n",
       "      <td>0</td>\n",
       "      <td>0</td>\n",
       "      <td>0</td>\n",
       "      <td>0</td>\n",
       "      <td>0</td>\n",
       "      <td>0</td>\n",
       "      <td>0</td>\n",
       "      <td>1</td>\n",
       "      <td>0</td>\n",
       "      <td>0</td>\n",
       "      <td>0</td>\n",
       "      <td>0</td>\n",
       "      <td>0</td>\n",
       "      <td>0</td>\n",
       "      <td>1</td>\n",
       "      <td>0</td>\n",
       "      <td>0</td>\n",
       "      <td>0</td>\n",
       "      <td>0</td>\n",
       "      <td>0</td>\n",
       "      <td>0</td>\n",
       "      <td>0</td>\n",
       "      <td>0</td>\n",
       "      <td>0</td>\n",
       "      <td>0</td>\n",
       "      <td>0</td>\n",
       "      <td>0</td>\n",
       "      <td>1</td>\n",
       "      <td>0</td>\n",
       "      <td>0</td>\n",
       "      <td>0</td>\n",
       "      <td>0</td>\n",
       "      <td>0</td>\n",
       "      <td>0</td>\n",
       "      <td>0</td>\n",
       "      <td>0</td>\n",
       "      <td>0</td>\n",
       "      <td>0</td>\n",
       "      <td>0</td>\n",
       "      <td>0</td>\n",
       "      <td>0</td>\n",
       "      <td>0</td>\n",
       "      <td>0</td>\n",
       "      <td>0</td>\n",
       "      <td>0</td>\n",
       "    </tr>\n",
       "    <tr>\n",
       "      <th>4</th>\n",
       "      <td>903.0</td>\n",
       "      <td>84.97</td>\n",
       "      <td>3.0</td>\n",
       "      <td>138.0</td>\n",
       "      <td>0</td>\n",
       "      <td>0</td>\n",
       "      <td>0</td>\n",
       "      <td>0</td>\n",
       "      <td>0</td>\n",
       "      <td>0</td>\n",
       "      <td>0</td>\n",
       "      <td>0</td>\n",
       "      <td>1</td>\n",
       "      <td>0</td>\n",
       "      <td>0</td>\n",
       "      <td>0</td>\n",
       "      <td>0</td>\n",
       "      <td>0</td>\n",
       "      <td>0</td>\n",
       "      <td>0</td>\n",
       "      <td>1</td>\n",
       "      <td>0</td>\n",
       "      <td>1</td>\n",
       "      <td>0</td>\n",
       "      <td>0</td>\n",
       "      <td>0</td>\n",
       "      <td>0</td>\n",
       "      <td>0</td>\n",
       "      <td>0</td>\n",
       "      <td>0</td>\n",
       "      <td>0</td>\n",
       "      <td>0</td>\n",
       "      <td>0</td>\n",
       "      <td>0</td>\n",
       "      <td>0</td>\n",
       "      <td>0</td>\n",
       "      <td>0</td>\n",
       "      <td>0</td>\n",
       "      <td>0</td>\n",
       "      <td>0</td>\n",
       "      <td>0</td>\n",
       "      <td>0</td>\n",
       "      <td>0</td>\n",
       "      <td>0</td>\n",
       "      <td>0</td>\n",
       "      <td>0</td>\n",
       "      <td>0</td>\n",
       "      <td>0</td>\n",
       "      <td>0</td>\n",
       "      <td>1</td>\n",
       "      <td>0</td>\n",
       "      <td>0</td>\n",
       "      <td>0</td>\n",
       "    </tr>\n",
       "    <tr>\n",
       "      <th>6</th>\n",
       "      <td>380.0</td>\n",
       "      <td>62.00</td>\n",
       "      <td>2.0</td>\n",
       "      <td>70.0</td>\n",
       "      <td>0</td>\n",
       "      <td>0</td>\n",
       "      <td>0</td>\n",
       "      <td>0</td>\n",
       "      <td>0</td>\n",
       "      <td>0</td>\n",
       "      <td>0</td>\n",
       "      <td>0</td>\n",
       "      <td>1</td>\n",
       "      <td>0</td>\n",
       "      <td>0</td>\n",
       "      <td>0</td>\n",
       "      <td>0</td>\n",
       "      <td>1</td>\n",
       "      <td>0</td>\n",
       "      <td>0</td>\n",
       "      <td>0</td>\n",
       "      <td>0</td>\n",
       "      <td>1</td>\n",
       "      <td>0</td>\n",
       "      <td>0</td>\n",
       "      <td>0</td>\n",
       "      <td>0</td>\n",
       "      <td>0</td>\n",
       "      <td>0</td>\n",
       "      <td>0</td>\n",
       "      <td>0</td>\n",
       "      <td>0</td>\n",
       "      <td>0</td>\n",
       "      <td>0</td>\n",
       "      <td>0</td>\n",
       "      <td>0</td>\n",
       "      <td>0</td>\n",
       "      <td>0</td>\n",
       "      <td>0</td>\n",
       "      <td>0</td>\n",
       "      <td>0</td>\n",
       "      <td>0</td>\n",
       "      <td>0</td>\n",
       "      <td>0</td>\n",
       "      <td>0</td>\n",
       "      <td>0</td>\n",
       "      <td>0</td>\n",
       "      <td>1</td>\n",
       "      <td>0</td>\n",
       "      <td>0</td>\n",
       "      <td>0</td>\n",
       "      <td>0</td>\n",
       "      <td>0</td>\n",
       "    </tr>\n",
       "    <tr>\n",
       "      <th>8</th>\n",
       "      <td>690.0</td>\n",
       "      <td>53.00</td>\n",
       "      <td>2.0</td>\n",
       "      <td>110.0</td>\n",
       "      <td>0</td>\n",
       "      <td>0</td>\n",
       "      <td>0</td>\n",
       "      <td>0</td>\n",
       "      <td>0</td>\n",
       "      <td>0</td>\n",
       "      <td>0</td>\n",
       "      <td>1</td>\n",
       "      <td>0</td>\n",
       "      <td>0</td>\n",
       "      <td>0</td>\n",
       "      <td>0</td>\n",
       "      <td>0</td>\n",
       "      <td>0</td>\n",
       "      <td>0</td>\n",
       "      <td>0</td>\n",
       "      <td>0</td>\n",
       "      <td>1</td>\n",
       "      <td>0</td>\n",
       "      <td>0</td>\n",
       "      <td>0</td>\n",
       "      <td>0</td>\n",
       "      <td>0</td>\n",
       "      <td>0</td>\n",
       "      <td>0</td>\n",
       "      <td>0</td>\n",
       "      <td>1</td>\n",
       "      <td>0</td>\n",
       "      <td>0</td>\n",
       "      <td>0</td>\n",
       "      <td>0</td>\n",
       "      <td>0</td>\n",
       "      <td>0</td>\n",
       "      <td>0</td>\n",
       "      <td>0</td>\n",
       "      <td>0</td>\n",
       "      <td>0</td>\n",
       "      <td>0</td>\n",
       "      <td>0</td>\n",
       "      <td>0</td>\n",
       "      <td>0</td>\n",
       "      <td>0</td>\n",
       "      <td>0</td>\n",
       "      <td>0</td>\n",
       "      <td>0</td>\n",
       "      <td>1</td>\n",
       "      <td>0</td>\n",
       "      <td>0</td>\n",
       "      <td>0</td>\n",
       "    </tr>\n",
       "  </tbody>\n",
       "</table>\n",
       "</div>"
      ],
      "text/plain": [
       "   totalRent  livingSpace  noRooms  additioncost  central_heating  \\\n",
       "0      840.0        86.00      4.0         245.0                1   \n",
       "2     1300.0        83.80      3.0         335.0                0   \n",
       "4      903.0        84.97      3.0         138.0                0   \n",
       "6      380.0        62.00      2.0          70.0                0   \n",
       "8      690.0        53.00      2.0         110.0                0   \n",
       "\n",
       "   combined_heat_and_power_plant  district_heating  floor_heating  \\\n",
       "0                              0                 0              0   \n",
       "2                              0                 0              1   \n",
       "4                              0                 0              0   \n",
       "6                              0                 0              0   \n",
       "8                              0                 0              0   \n",
       "\n",
       "   gas_heating  heat_pump  night_storage_heater  oil_heating  \\\n",
       "0            0          0                     0            0   \n",
       "2            0          0                     0            0   \n",
       "4            0          0                     0            0   \n",
       "6            0          0                     0            0   \n",
       "8            0          0                     0            1   \n",
       "\n",
       "   self_contained_central_heating  wood_pellet_heating  Other  first_time_use  \\\n",
       "0                               0                    0      0               0   \n",
       "2                               0                    0      0               1   \n",
       "4                               1                    0      0               0   \n",
       "6                               1                    0      0               0   \n",
       "8                               0                    0      0               0   \n",
       "\n",
       "   first_time_use_after_refurbishment  fully_renovated  mint_condition  \\\n",
       "0                                   0                0               0   \n",
       "2                                   0                0               0   \n",
       "4                                   0                0               0   \n",
       "6                                   0                1               0   \n",
       "8                                   0                0               0   \n",
       "\n",
       "   modernized  refurbished  well_kept  apartment  ground_floor  half_basement  \\\n",
       "0           0            0          1          0             1              0   \n",
       "2           0            0          0          1             0              0   \n",
       "4           0            1          0          1             0              0   \n",
       "6           0            0          0          1             0              0   \n",
       "8           0            0          1          0             0              0   \n",
       "\n",
       "   loft  maisonette  other  penthouse  raised_ground_floor  roof_storey  \\\n",
       "0     0           0      0          0                    0            0   \n",
       "2     0           0      0          0                    0            0   \n",
       "4     0           0      0          0                    0            0   \n",
       "6     0           0      0          0                    0            0   \n",
       "8     0           0      0          0                    0            1   \n",
       "\n",
       "   terraced_flat  Berlin  Chemnitz  Dortmund  Dresden  Duisburg  Düsseldorf  \\\n",
       "0              0       0         0         1        0         0           0   \n",
       "2              0       0         0         0        1         0           0   \n",
       "4              0       0         0         0        0         0           0   \n",
       "6              0       0         0         0        0         0           0   \n",
       "8              0       0         0         0        0         0           0   \n",
       "\n",
       "   Essen  Frankfurt_am_Main  Gelsenkirchen  Halle_Saale  Hamburg  Köln  \\\n",
       "0      0                  0              0            0        0     0   \n",
       "2      0                  0              0            0        0     0   \n",
       "4      0                  0              0            0        0     0   \n",
       "6      0                  0              0            0        0     0   \n",
       "8      0                  0              0            0        0     0   \n",
       "\n",
       "   Leipzig  Leipzig_Kreis  Magdeburg  Mittelsachsen_Kreis  München  Other  \\\n",
       "0        0              0          0                    0        0      0   \n",
       "2        0              0          0                    0        0      0   \n",
       "4        0              0          0                    0        0      1   \n",
       "6        0              0          0                    1        0      0   \n",
       "8        0              0          0                    0        0      1   \n",
       "\n",
       "   Recklinghausen_Kreis  Zwickau  Zwickau_Kreis  \n",
       "0                     0        0              0  \n",
       "2                     0        0              0  \n",
       "4                     0        0              0  \n",
       "6                     0        0              0  \n",
       "8                     0        0              0  "
      ]
     },
     "execution_count": 68,
     "metadata": {},
     "output_type": "execute_result"
    }
   ],
   "source": [
    "move = predict_df['totalRent']\n",
    "predict_df.drop(labels=['totalRent'], axis=1,inplace = True)\n",
    "predict_df.insert(0, 'totalRent', move)\n",
    "predict_df.head()"
   ]
  },
  {
   "cell_type": "markdown",
   "id": "dbfdd964",
   "metadata": {
    "papermill": {
     "duration": 0.378301,
     "end_time": "2021-11-30T18:38:50.048833",
     "exception": false,
     "start_time": "2021-11-30T18:38:49.670532",
     "status": "completed"
    },
    "tags": []
   },
   "source": [
    "### Spliting the data into train and test"
   ]
  },
  {
   "cell_type": "code",
   "execution_count": 69,
   "id": "6be3c000",
   "metadata": {
    "papermill": {
     "duration": 0.561293,
     "end_time": "2021-11-30T18:38:50.986301",
     "exception": false,
     "start_time": "2021-11-30T18:38:50.425008",
     "status": "completed"
    },
    "tags": []
   },
   "outputs": [],
   "source": [
    "X = predict_df.iloc[:,1:] # Select all the columns, that's not totalRent\n",
    "y = predict_df.iloc[:,0] # Select only totalRent\n",
    "X_val = X.values\n",
    "y_val = y.values\n",
    "x_train, x_test, y_train, y_test = train_test_split(X_val, y_val, test_size = 0.25, random_state = 123)"
   ]
  },
  {
   "cell_type": "markdown",
   "id": "b1bdb420",
   "metadata": {
    "papermill": {
     "duration": 0.378833,
     "end_time": "2021-11-30T18:38:51.746066",
     "exception": false,
     "start_time": "2021-11-30T18:38:51.367233",
     "status": "completed"
    },
    "tags": []
   },
   "source": [
    "## Light Gradient Boost\n",
    "I've found this model is like Xgboost and it's run much faster, so now I'm trying as much as I could to use this libraries to improve my skills"
   ]
  },
  {
   "cell_type": "code",
   "execution_count": 72,
   "id": "2fcdfe62",
   "metadata": {
    "papermill": {
     "duration": 77.396535,
     "end_time": "2021-11-30T18:40:09.544662",
     "exception": false,
     "start_time": "2021-11-30T18:38:52.148127",
     "status": "completed"
    },
    "tags": []
   },
   "outputs": [
    {
     "name": "stdout",
     "output_type": "stream",
     "text": [
      "[LightGBM] [Warning] Auto-choosing row-wise multi-threading, the overhead of testing was 0.001424 seconds.\n",
      "You can set `force_row_wise=true` to remove the overhead.\n",
      "And if memory is not enough, you can set `force_col_wise=true`.\n",
      "[LightGBM] [Info] Total Bins 614\n",
      "[LightGBM] [Info] Number of data points in the train set: 119250, number of used features: 52\n",
      "[LightGBM] [Info] Start training from score 713.479124\n"
     ]
    }
   ],
   "source": [
    "d_train = lgb.Dataset(x_train, label=y_train) # Load the dataset and test\n",
    "\n",
    "# parameters for this model\n",
    "params = {\n",
    "        'n_estimators': 10000,\n",
    "        'objective': 'regression',\n",
    "        'metric': 'rmse',\n",
    "        'boosting_type': 'gbdt',\n",
    "        'max_depth': -1,\n",
    "        'learning_rate': 0.01,\n",
    "        'subsample': 0.72,\n",
    "        'subsample_freq': 4,\n",
    "        'feature_fraction': 0.4,\n",
    "        'lambda_l1': 1,\n",
    "        'lambda_l2': 1,\n",
    "        'seed': 46,\n",
    "        }\n",
    "\n",
    "clf = lgb.train(params, d_train, 100)"
   ]
  },
  {
   "cell_type": "markdown",
   "id": "d9a9eb5d",
   "metadata": {
    "papermill": {
     "duration": 0.378492,
     "end_time": "2021-11-30T18:40:10.307219",
     "exception": false,
     "start_time": "2021-11-30T18:40:09.928727",
     "status": "completed"
    },
    "tags": []
   },
   "source": [
    "Check the data is what'we expected or not."
   ]
  },
  {
   "cell_type": "code",
   "execution_count": 73,
   "id": "6622d597",
   "metadata": {
    "papermill": {
     "duration": 28.139326,
     "end_time": "2021-11-30T18:40:38.829158",
     "exception": false,
     "start_time": "2021-11-30T18:40:10.689832",
     "status": "completed"
    },
    "tags": []
   },
   "outputs": [
    {
     "data": {
      "text/plain": [
       "array([573.08706935, 556.43447161, 605.37870423, ..., 409.06850822,\n",
       "       591.8088981 , 570.26234464])"
      ]
     },
     "execution_count": 73,
     "metadata": {},
     "output_type": "execute_result"
    }
   ],
   "source": [
    "y_pred = clf.predict(x_test)\n",
    "y_pred"
   ]
  },
  {
   "cell_type": "markdown",
   "id": "58640627",
   "metadata": {
    "papermill": {
     "duration": 0.392309,
     "end_time": "2021-11-30T18:40:39.636586",
     "exception": false,
     "start_time": "2021-11-30T18:40:39.244277",
     "status": "completed"
    },
    "tags": []
   },
   "source": [
    "Create the RMSE function to check the score."
   ]
  },
  {
   "cell_type": "code",
   "execution_count": 74,
   "id": "1e8b42d4",
   "metadata": {
    "papermill": {
     "duration": 0.401813,
     "end_time": "2021-11-30T18:40:40.422564",
     "exception": false,
     "start_time": "2021-11-30T18:40:40.020751",
     "status": "completed"
    },
    "tags": []
   },
   "outputs": [],
   "source": [
    "def compute_rmse(model, X, y_true, name):\n",
    "    y_pred = model.predict(X)\n",
    "    mse = mean_squared_error(y_true, y_pred)\n",
    "    rmse = pow(mse,0.5)\n",
    "    print(f'Root Mean Squared Error for {name}: {rmse}')"
   ]
  },
  {
   "cell_type": "code",
   "execution_count": 75,
   "id": "7dd4be24",
   "metadata": {
    "papermill": {
     "duration": 100.941232,
     "end_time": "2021-11-30T18:42:21.754489",
     "exception": false,
     "start_time": "2021-11-30T18:40:40.813257",
     "status": "completed"
    },
    "tags": []
   },
   "outputs": [
    {
     "name": "stdout",
     "output_type": "stream",
     "text": [
      "Root Mean Squared Error for Training Set: 130.638627065107\n",
      "Root Mean Squared Error for Test Set: 139.24858512582767\n"
     ]
    }
   ],
   "source": [
    "compute_rmse(clf, x_train, y_train, 'Training Set')\n",
    "compute_rmse(clf, x_test, y_test, 'Test Set')"
   ]
  },
  {
   "cell_type": "markdown",
   "id": "5a4a6bec",
   "metadata": {
    "papermill": {
     "duration": 0.386891,
     "end_time": "2021-11-30T18:42:22.541039",
     "exception": false,
     "start_time": "2021-11-30T18:42:22.154148",
     "status": "completed"
    },
    "tags": []
   },
   "source": [
    "The result of the LGBM is working pretty well and we could use for this model in real life situation and help the other to know how much money their should pay for the apartment they're looking for."
   ]
  },
  {
   "cell_type": "code",
   "execution_count": null,
   "id": "dac0cb58",
   "metadata": {},
   "outputs": [],
   "source": [
    "predict_df.head()"
   ]
  },
  {
   "cell_type": "markdown",
   "id": "707360c2",
   "metadata": {},
   "source": [
    "### Create the predict function.\n",
    "Below, I will use the model that we have created to use by input variables below to calculate the rental price."
   ]
  },
  {
   "cell_type": "code",
   "execution_count": null,
   "id": "7da70754",
   "metadata": {},
   "outputs": [],
   "source": [
    "def predict_price(livingSpace,noRooms,additionCost,heating_type,condition,typeOfFlat,regio2):\n",
    "    heatingIndex = np.where(X.columns == heating_type)[0][0]\n",
    "    conIndex = np.where(X.columns == condition)[0][0]\n",
    "    flatTypeIndex = np.where(X.columns == typeOfFlat)[0][0]\n",
    "    regionIndex = np.where(X.columns == regio2)[0][0]\n",
    "\n",
    "    x = np.zeros(len(X.columns))\n",
    "    x[0] = livingSpace\n",
    "    x[1] = noRooms\n",
    "    x[2] = additionCost\n",
    "  \n",
    "\n",
    "    if heatingIndex >= 0:\n",
    "        x[heatingIndex] = 1\n",
    "    if conIndex >= 0:\n",
    "        x[conIndex] = 1\n",
    "    if flatTypeIndex >= 0:\n",
    "        x[flatTypeIndex] = 1\n",
    "    if regionIndex >= 0:\n",
    "        x[regionIndex] = 1\n",
    "\n",
    "    return  clf.predict([x])[0]\n",
    " "
   ]
  },
  {
   "cell_type": "code",
   "execution_count": null,
   "id": "415a8b26",
   "metadata": {},
   "outputs": [],
   "source": [
    "predict_price(55,4,200,'central_heating','mint_condition','apartment','Berlin')"
   ]
  },
  {
   "cell_type": "markdown",
   "id": "194946b5",
   "metadata": {},
   "source": [
    "Let's try some rows to make sure our models is working properly"
   ]
  },
  {
   "cell_type": "code",
   "execution_count": null,
   "id": "5c4aee7c",
   "metadata": {},
   "outputs": [],
   "source": [
    "predict_df.head()"
   ]
  },
  {
   "cell_type": "code",
   "execution_count": null,
   "id": "1e077e77",
   "metadata": {},
   "outputs": [],
   "source": [
    "result1 = predict_price(55,4,15.5,170,0,'central_heating','well_kept','apartment','Berlin')\n",
    "result2 = predict_price(55,4,15.5,170,1,'central_heating','well_kept','apartment','Berlin')\n",
    "print(\"First predict result: {} and\\nSecond predict result is: {}\".format(result1,result2))"
   ]
  },
  {
   "cell_type": "markdown",
   "id": "0bd8d951",
   "metadata": {},
   "source": [
    "## Saving the model for further use."
   ]
  },
  {
   "cell_type": "code",
   "execution_count": null,
   "id": "26ff1e05",
   "metadata": {},
   "outputs": [],
   "source": [
    "import pickle\n",
    "with open('german_home_prices_model.pickle','wb') as f:\n",
    "    pickle.dump(clf,f)"
   ]
  },
  {
   "cell_type": "code",
   "execution_count": null,
   "id": "754b7de3",
   "metadata": {},
   "outputs": [],
   "source": [
    "import json\n",
    "columns = {\n",
    "    'data_columns' : [col.lower() for col in X.columns]\n",
    "}\n",
    "with open(\"columns.json\",\"w\") as f:\n",
    "    f.write(json.dumps(columns))"
   ]
  },
  {
   "cell_type": "markdown",
   "id": "28994917",
   "metadata": {
    "papermill": {
     "duration": 0.38576,
     "end_time": "2021-11-30T18:42:23.311319",
     "exception": false,
     "start_time": "2021-11-30T18:42:22.925559",
     "status": "completed"
    },
    "tags": []
   },
   "source": [
    "# Summary"
   ]
  },
  {
   "cell_type": "markdown",
   "id": "f5ba7b49",
   "metadata": {
    "papermill": {
     "duration": 0.385744,
     "end_time": "2021-11-30T18:42:24.081096",
     "exception": false,
     "start_time": "2021-11-30T18:42:23.695352",
     "status": "completed"
    },
    "tags": []
   },
   "source": [
    "This is the end of the kernel, if you love this kernel or could study something from this please upvote! it means a lot for my future opportunity. Moreover, feel free to comment on my mistakes because it would be surely help me to improve my mistakes.\n",
    "\n",
    "Thanks for viewing!"
   ]
  }
 ],
 "metadata": {
  "interpreter": {
   "hash": "9b6558af67744e838d8043107d7139df75d7e44c9db2e97384ca8749d628ea25"
  },
  "kernelspec": {
   "display_name": "Python 3 (ipykernel)",
   "language": "python",
   "name": "python3"
  },
  "language_info": {
   "codemirror_mode": {
    "name": "ipython",
    "version": 3
   },
   "file_extension": ".py",
   "mimetype": "text/x-python",
   "name": "python",
   "nbconvert_exporter": "python",
   "pygments_lexer": "ipython3",
   "version": "3.10.4"
  },
  "papermill": {
   "default_parameters": {},
   "duration": 310.867847,
   "end_time": "2021-11-30T18:42:25.683424",
   "environment_variables": {},
   "exception": null,
   "input_path": "__notebook__.ipynb",
   "output_path": "__notebook__.ipynb",
   "parameters": {},
   "start_time": "2021-11-30T18:37:14.815577",
   "version": "2.3.3"
  },
  "toc": {
   "base_numbering": 1,
   "nav_menu": {},
   "number_sections": true,
   "sideBar": true,
   "skip_h1_title": false,
   "title_cell": "Table of Contents",
   "title_sidebar": "Contents",
   "toc_cell": false,
   "toc_position": {},
   "toc_section_display": true,
   "toc_window_display": false
  }
 },
 "nbformat": 4,
 "nbformat_minor": 5
}
